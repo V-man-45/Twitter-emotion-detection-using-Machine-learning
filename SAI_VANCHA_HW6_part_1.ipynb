{
  "cells": [
    {
      "cell_type": "code",
      "execution_count": 77,
      "metadata": {
        "colab": {
          "base_uri": "https://localhost:8080/"
        },
        "id": "JXGUEqXJiddO",
        "outputId": "93f5d087-88b3-4f70-eb21-f3c6e18c1d07"
      },
      "outputs": [
        {
          "output_type": "stream",
          "name": "stdout",
          "text": [
            "Drive already mounted at /content/drive; to attempt to forcibly remount, call drive.mount(\"/content/drive\", force_remount=True).\n"
          ]
        }
      ],
      "source": [
        "  from google.colab import drive\n",
        "  # Mount the Google Drive to access files stored there\n",
        "  drive.mount('/content/drive')\n",
        "\n",
        "  # Install the latest version of torchtext library quietly without showing output\n",
        "  !pip install torchtext -qq\n",
        "  !pip install transformers evaluate wandb datasets accelerate -U -qq ## NEW LINES ##\n",
        "  basepath = '/content/drive/MyDrive/data/'"
      ]
    },
    {
      "cell_type": "code",
      "execution_count": 78,
      "metadata": {
        "id": "ChIscrV8ihg3"
      },
      "outputs": [],
      "source": [
        "import matplotlib.pyplot as plt\n",
        "import numpy as np\n",
        "import pandas as pd\n",
        "from sklearn.metrics import confusion_matrix\n",
        "import matplotlib.pyplot as plt\n",
        "import seaborn as sns\n",
        "from pathlib import Path\n",
        "\n",
        "\n",
        "# New libraries introduced in this notebook\n",
        "import evaluate\n",
        "from datasets import load_dataset, DatasetDict, Dataset, Value, ClassLabel, Features\n",
        "from transformers import TrainingArguments, Trainer\n",
        "from transformers import AutoTokenizer, DistilBertTokenizer\n",
        "from transformers import AutoModelForSequenceClassification,  DistilBertModel\n",
        "from transformers import AutoConfig, DistilBertConfig\n",
        "from transformers import pipeline\n",
        "import wandb"
      ]
    },
    {
      "cell_type": "code",
      "execution_count": 79,
      "metadata": {
        "id": "p596nzBSihdK"
      },
      "outputs": [],
      "source": [
        "base_folder = Path(basepath)\n",
        "data_folder = base_folder/'datasets'\n",
        "model_folder = base_folder/'models'\n",
        "custom_functions = base_folder/'custom-functions'\n",
        "model_folder.mkdir(exist_ok=True, parents = True)"
      ]
    },
    {
      "cell_type": "code",
      "execution_count": 80,
      "metadata": {
        "id": "-UcrLTUyE0b_"
      },
      "outputs": [],
      "source": [
        "train_df = pd.read_csv(data_folder/'train_twitter.csv')\n",
        "\n",
        "test_df = pd.read_csv(data_folder/'test_twitter.csv')"
      ]
    },
    {
      "cell_type": "code",
      "source": [
        "labels = [label for label in train_df.columns if label not in [\"Tweet\",\"ID\"]]\n",
        "id2labels = {idx:label for idx, label in enumerate(labels)}\n",
        "labels2id = {v:k for k,v in id2labels.items()}\n",
        "labels2id"
      ],
      "metadata": {
        "colab": {
          "base_uri": "https://localhost:8080/"
        },
        "id": "savLcC8f_oi5",
        "outputId": "2d8fef18-ee62-4842-c724-e8d9becc41e8"
      },
      "execution_count": 5,
      "outputs": [
        {
          "output_type": "execute_result",
          "data": {
            "text/plain": [
              "{'anger': 0,\n",
              " 'anticipation': 1,\n",
              " 'disgust': 2,\n",
              " 'fear': 3,\n",
              " 'joy': 4,\n",
              " 'love': 5,\n",
              " 'optimism': 6,\n",
              " 'pessimism': 7,\n",
              " 'sadness': 8,\n",
              " 'surprise': 9,\n",
              " 'trust': 10}"
            ]
          },
          "metadata": {},
          "execution_count": 5
        }
      ]
    },
    {
      "cell_type": "code",
      "execution_count": 6,
      "metadata": {
        "id": "5czwqGqpihU1"
      },
      "outputs": [],
      "source": [
        "from sklearn.model_selection import train_test_split"
      ]
    },
    {
      "cell_type": "code",
      "execution_count": 7,
      "metadata": {
        "id": "ntTFjFxHigpq"
      },
      "outputs": [],
      "source": [
        "train_set, valid_set = train_test_split(train_df, test_size=0.2, random_state=42)"
      ]
    },
    {
      "cell_type": "code",
      "execution_count": 8,
      "metadata": {
        "id": "nrQ2_DKEihYi"
      },
      "outputs": [],
      "source": [
        "train_text = train_set['Tweet'].tolist()\n",
        "train_label = train_set.drop(columns=['ID','Tweet']).to_numpy().astype(float)\n",
        "valid_text = valid_set['Tweet'].tolist()\n",
        "valid_label = valid_set.drop(columns=['ID','Tweet']).to_numpy().astype(float)"
      ]
    },
    {
      "cell_type": "code",
      "execution_count": 8,
      "metadata": {
        "id": "_06AZN6bqjbV"
      },
      "outputs": [],
      "source": []
    },
    {
      "cell_type": "code",
      "execution_count": 9,
      "metadata": {
        "id": "jGoYoohMiggR",
        "colab": {
          "base_uri": "https://localhost:8080/"
        },
        "outputId": "8c2c70a0-9842-4e51-eef0-2c6f865e2b30"
      },
      "outputs": [
        {
          "output_type": "execute_result",
          "data": {
            "text/plain": [
              "[\"Going to get myself a copy of @StephenKing's CUJO for an upcoming project that I can't talk about just yet.  #amwriting\",\n",
              " \"@carysmithwriter @Maria_Savva @RealRockAndRoll We're the least known band in the World, but so glad you asked #muchlove \",\n",
              " 'Unruly kids at 8am in the morning #nothanks ripping the flower beds up by the roots while their parents watch #shocking',\n",
              " \"Ok but I just got called a 'White Devil' on the train and I didnt know whether to laugh or be offended\",\n",
              " '@SXMUrbanView @karenhunter @CousinSyl you are so wrong for this!needed levity after that recording',\n",
              " \"Even a pencil✏ never #stayed  with me until it's #end ⚫ 😞\",\n",
              " \"@pottermore : I can't find my patronus, the website doesn't work, I can't even see the questions.... #sadness...\",\n",
              " \"Pride and Prejudice is a modern day Keeping up with the Kardashians' - @howsyourdaybin .............I've never been so offended in my life\",\n",
              " 'Wish I could convince the rest of my children to go to their fucking preschool and elementary schools with fear of gun violence.',\n",
              " 'Positive #psychology research shows salespeople who score in the top 10% for #optimism have 88% &gt; sales than those in top 10% for pessimism.',\n",
              " \"Might start stanning Lady Gaga again - more so than last time - but shhh don't tell Connor\",\n",
              " \"@MannersAboveAll *laughs louder this time, shaking my head* That was really cheesy, wasn't it?\",\n",
              " \"Woke up feeling fresh with a clear mind. That's never happened before.\\\\n#morning #sober\",\n",
              " '@seangrandillo I beg you, never stop smiling. You deserve to be happy and to know all the beautiful things that life can offers.',\n",
              " 'why is everybody seem sp serious?',\n",
              " 'I look at some of the average players that play at the min and pine Nani, Rafael , RVP ,',\n",
              " \"HartRamsey'sUPLIFT If you're still discouraged it means you're listening to the wrong voices &amp; looking to the wrong source.Look to the LORD!\",\n",
              " '@MetPoliceFC is it true none of your players are cops? Do they drink chilled bitter? Are your players Walter Mitty types? @KeviboyAllen',\n",
              " '@theGenghisJon You had to do some research to come up with new insult.  Are you allowed to read anything but brietbart?',\n",
              " \"Bruhhh🙄why is Ar'mon so cute from @TheRealAandT . He just chill and ughhhhh😍😍😍😍. #attractive #whyamIsingle #Houston\",\n",
              " 'She used to be beautiful, but she lived her life too fast - Forest City Joe #blues #blinddogradio',\n",
              " 'How on earth can the projection of all that is good and happy and true in my soul be a poisonous fucking snake? #patronus #adder ',\n",
              " '@HillaryClinton #Hypocritical considering the #MiLLiONS of dollars you and @billclinton took from #horrible people and spent on yourselves.',\n",
              " \"@AHSFX thanks Ryan &amp; Brad for scary the shit out of us in the first episode. Don't think my heart will make it through the s6 \",\n",
              " '@MLB @JoeyBats19 Sam Dyson is probably having flashbacks right about now. #nightmare',\n",
              " \"Class is canceled due to a funeral. Not sure if it's appropriate to be happy or sad.. #happy\",\n",
              " '@chenaidavid easy, breezy, beautiful rasta mon',\n",
              " 'never #make a decision when you are .. #angry &gt;_&lt; .... and never make a #promis when you are #happy :) :*',\n",
              " \"I think our defense here at USC is playing well, we just need to fix a few things on offense and we can win the PAC 12 this year'\",\n",
              " \"hate overthinking e v e r y t h i n g like i jus' wanna be happy pls\",\n",
              " '@o2academybham since when the fuck can you not stand at a concert? ',\n",
              " 'When you have just about enough @marmite in your jar at work for 1/4 of a slice of toast 😩😩 #unhappy',\n",
              " \"@Pamela_Moore13 @Ginlefebvre @BarackObama yes exactly &amp; he's sold out this country to #terror while #lying to cover it up\",\n",
              " \"Caballero's passing remains absolutely dreadful I see!\",\n",
              " \"When someone tells you they're going to 'tear you apart' and all they have to say is 'why are you so tall?' \",\n",
              " \"@TheMandyMoore You are beyond wonderful.  Your singing prowess is phenomenal but damn... I'm just elated to watch you act again. #ThisIsUs 🤗\",\n",
              " \"calling me ugly isn't even an insult bc i know already\",\n",
              " \"Yal aggravate tf outta me acting lying yal can't tell the difference between a dyke and a man. RARELY is it that hard to tell the difference\",\n",
              " '@quiettcricket can you maybe break it down into smaller bits? or space it out so it doesnt seem to daunting?',\n",
              " '@fadedmerrell @MerrellMilitary @HibaDahibi HAHAHA ok ill back away #coy',\n",
              " \"Every time I hear @jtkantor's organ kick in on the new @sayswhopodcast, I break into the goofiest smile.\",\n",
              " 'No, just tweet pictures of four fictional characters who describe you. One should be an animated character. @sunshinessp411',\n",
              " 'nooooo. Poor Blue Bell! not again. ',\n",
              " 'I was having a good dream.. and then my alarm went off',\n",
              " \"Gonna be a loooooong year as a Browns fan. Longer than normal and that's \",\n",
              " \"'we need to do something. something must be done!!!!!'\\\\n\\\\nyour anxiety is amusing. nothing will be done. despair.\",\n",
              " '@RussiaInsider Really sad &amp; surprising. 1 side #Russia fighting against #IS &amp; on the other supporting #Pak which is epic centre 4 ',\n",
              " '@airvistara as always it was indeed a wonderful experience flying with you guys today #bestinbusiness #delight #happyme',\n",
              " \"A cheerful heart is good medicine, but a broken spirit saps a person's strength.' {Proverbs 17:22} #WednesdayWisdom\",\n",
              " \"@jackmegawphoto what if lives are attached to real estate? Shall I come trash your cameras because I'm angry with what your race is doing?\",\n",
              " \"I'm scared that my coworkers are going to submit me to one of those 'wardrobe makeover' shows.  #fashion\",\n",
              " \"Coworker: 'That happened to a friend of mine once, but with guns instead of babies.' #workplace \",\n",
              " \"Rockin to  Bob Dylan singin'  Bob Dylan's 115th Dream on LPCO Klassic Rock #classicrock #klassicrock #rocknroll #blues #onlineradio\",\n",
              " '@DarbyHogle the red one would look super pretty with a bronzy glowy nude lip makeup look! 3rd black would be pretty with a dark lip! 😍',\n",
              " 'Everytime I think my life is getting better it never comes through #sadly',\n",
              " 'Also 45 billion for the opiod crisis is pennies, complete joke almost as hilarious as 65 billion for high risk pools! Itll #dryupquick',\n",
              " \"@officialShaky 'Operation Echoes' is gathering momentum ... #tense  #feelsick #excited\",\n",
              " \"Always borrow money from a pessimist; he doesn't expect to be paid back.\",\n",
              " 'Absolutely shocking. The decline of Rooney is a little embarrassing really!',\n",
              " \"Keep #smiling because life is a beautiful thing and there's so much to #smile about. #MarilynMonroe #KeepSmiling\",\n",
              " 'Everyday I wake up, a different @SpursOfficial player signs a contract extension! Love it!! #future #is #bright #COYS',\n",
              " \"This is the @Fender #blues #junior. I'm looking forward to play on it as soon as possible. #guitar #guitarrist #music\",\n",
              " 'if not then #teamchristine bc all tana has done is provoke her by tweeting shady shit and trying to be a hard bitch begging for a fight',\n",
              " \"I'm highly animated even though I'm decomposing.\",\n",
              " '@Remedy0_ switch host no bullet rage.',\n",
              " 'i wonder how a guy can broke his penis while having sex? #serious',\n",
              " \"Before the year ends I'll probably get master 12s or flu games, true blues, and space jams.\",\n",
              " \"Although this is my best semester so far, this is also my most depressing because I'm constantly reminded that I'm not meant for greatness\",\n",
              " '@Cinestrong something a cyber bully would say',\n",
              " '@CurtisJobling Yes indeed! We know masses of students would be so excited to see you! We need to get this sorted! #haunt',\n",
              " \"@MoviesTVNetwork Wow, did you get a really good buy on a bunch of '70's movies? There were bad then and are worse now! \",\n",
              " '@MichiganBromo Good optimism sir :)',\n",
              " \"#LouiseLinton - haters gonna hate keep on being your#fabulous self they'll keep on being  #miserable\",\n",
              " '@RelUnrelated While I do not see Sailer Mars being a raging liberal, I doubt that she would say such a thing.',\n",
              " \"When u /only/ talk 2 me or ask me 'how r things' just 2 get 2 say something u want, 4give me if I'm not elated 2 start a conversation with u\",\n",
              " '2 days on.......never a fucking pen!!!! #nffc ',\n",
              " 'We must take the #excitement of the #solareclipse to #inspire our #children to #love #Science',\n",
              " \"Can't believe I've lost my phone get me home\",\n",
              " 'Today has dragged on #restless',\n",
              " '@VescioDiana You forgot #laughter as well ❤️❤️❤️',\n",
              " \"#welfarereform should not be a 'model' for .\",\n",
              " 'On my way rejoicing, to the pulpit @ Park City Baptist Church, Surrey BC. for Midweek Service.',\n",
              " 'very very irritated 😐',\n",
              " \"there are #serious #chinks in #India’s #armour'\\\\n#protein\\\\n#malnutrition\\\\n#feedingIndia\\\\n#skillingIndia\\\\n#cognitive #deficit\\\\n@Abhijit_Iyer\",\n",
              " 'gloomy weather puts me in the best mood',\n",
              " 'From harboring Osama bin Laden to its relationship with Haqqani network, there is enough evidence to prove Pakistan is sponsoring terrorism',\n",
              " '@DDNewsHindi  #UNGA no talks should be carried out with Pakistan now ... His mouth stinks of #terrorism #UriAttack',\n",
              " 'The new lock sound is grim',\n",
              " 'Biggest #THREAT 2 #GLOBAL #STABILITY? #climatechange #food #water #security #terrorism #russia #war #trump #clinton #geopolitics #korea $vwo',\n",
              " 'haww I think Nawaz should have spoken about Indian funding to BLA in Balochistan, Kulbhoshan Yadhav and how India used TTP for terror!',\n",
              " 'Winner #Champion #school #lastyear #gouniversity #university #me #dark #Black #webstagram #blackandwhite',\n",
              " '@EAMaddenNFL @EASPORTS I played a game where John Elway was sacked 3x and fumbled all 3x. Is this the same John elway I know of??? ',\n",
              " 'At the end of the day you gotta be #happy for you.',\n",
              " \"@FatedDancer ~together.' Hermione  lowered her voice slightly, sounding somewhat  bitter, perhaps even  rueful. 'That would only get you~\",\n",
              " 'Ready for that nice, breezy, calm, sunshine weather.🍂🍁 #Autumn',\n",
              " '@AshleyCWilson @MrDavidHobbs @IndyCaronNBCSN Glad the TV coverage was so successful because the attendance looked pretty dismal.',\n",
              " '@PeanutRD @MelissaJoyRD @SarahKoszykRD @eat4performance @rustnutrition @jenhaugen  hey #sparkling is the word I just picked 4 my biz card',\n",
              " 'Completely blown away by @EvaNoblezada @alistairbrammer @JonJonBriones and the cast of @MissSaigonUK tonight. #fathomevents #speechless ',\n",
              " 'How come quiet well behaved cats and dogs have to ride on a plane in a tiny bag while screaming small humans roam free? #outrage #teampet',\n",
              " '#india will take #revenge  by making 3 new movies like #phantom and they will be like #ghus_k_maren_ge this is how indian army take revenge',\n",
              " '@bryony_gordon Sat waiting for bus today enveloped in a strawberry scented damp and revolting cloud of vape. I moved away, disgusting, urghh',\n",
              " 'both afraid of all the same things',\n",
              " '@damiandmusic hubby Noah shares this somber thoughtful photo of his one and only Dami. Ponytail, standout highlights beautiful picture, nice',\n",
              " '@niceoneWern @Alotta_Pain the gleesome threesome',\n",
              " \"The way I'm always on twitter at work is a little alarming 🤦🏾\\u200d♀️\",\n",
              " \"@eclecticbrotha Thanks, big bro. It's shake and bake and you helped.\",\n",
              " '@AKSongstress one of GH finest energetic #dancehall act #blessing in disguise 🙏 so so prolific 🙏',\n",
              " \"AQW should've always stayed in the 08 art style, now it's just a competition to create more detailed art each time.\",\n",
              " 'About 7 weeks till I can pick up my camera again. Though I think there is a group cemetery shoot in october I can make! #photography ',\n",
              " 'If you have the ability to make someone happy or to make someone #smile, do it! The world needs more of that right about now. #CreateLove ☺️',\n",
              " 'Just over a week until I start my new job in F1! Looking forward to it and cacking myself at the same time! ',\n",
              " 'Will I offend you\\\\nif I am truthful but kind\\\\nor will you see why?\\\\n@baffled #haikuchallenge ',\n",
              " '@BigBrother__USA she is just jealous and a cry baby!  #gladsheisgone #crybaby',\n",
              " 'As the birds begin to chirp, I try to sleep. #Jetlag',\n",
              " \"Whenever I'm feeling sad I will listen to monsta x and hug my teddy bear and I always feel better\",\n",
              " 'Will WHU be old bill free by the time the game with Chelsea comes around? 😂 😂 😂\\\\nThat will be lively to say the least\\\\n#AFC',\n",
              " 'I am a simple human being who just really loves @aliciakeys like truly, madly, deeply rejoicing in her existence, class and queendom',\n",
              " \"And I'm really pissed the fuck off because I do a good job of keeping my kid well because I don't like to see her sick and sad.\",\n",
              " 'meeting tiff at the mall soon, congrats on getting that L babes❣',\n",
              " \"@ticcikasie1 With a frown, she let's out a distraught 'Gardevoir' saying that she wishes she had a trainer\",\n",
              " 'But When it come to a serious situation, I be glad I gave it deep thought 💯',\n",
              " 'the sad moment when u hand in an exam knowing u failed and grieve by eating and sleeping',\n",
              " 'A cheerful heart is an unending banquet.-\\xa0Proverbs (Mishle) 15:16',\n",
              " \"when you think you've got it together for a day then you randomly burst out crying\",\n",
              " '@VerizonSupport thanks for saying My wife and I were getting our iphones today and then losing both of them with no ETA #thanks ',\n",
              " 'Watch this amazing live.ly broadcast by @kaylaaa_sartorious #lively #musically',\n",
              " 'Happy #internationaldayofpeace everyone hoping that the world becomes a better place less division more happiness keep smiling. 😄😄❤️',\n",
              " '@Babylonian I convinced my mom to watch it. Killgrave gave her literal nightmares, but watched last episode four times. ',\n",
              " 'I feel horrible. I have accounting today but physically and mentally am not okay 😪',\n",
              " \"Don't wanna really go out but I can't say no. Deffo have a fear of missing out\",\n",
              " 'Sorry @wow_air definitely going with @Icelandair next time, this is beyond unreasonable @wowairsupport  #yourappologiesmeannothing',\n",
              " '#Terencecutcher #Tulsa the man onthe helicopter said he looks like a bad dude, that is the problem, when they see black they see bad, ',\n",
              " 'Did we miss the fact that #BurkeRamsey swung &amp;hit his sister #JonBenet in the face with a golf club previously out of a fit of #anger?',\n",
              " '@sphiwememela...its bad.I am fearing for my life🙏',\n",
              " '@leener00 @libbyfloyd1 @G_Eazy my snap is andriaprebles ❤️',\n",
              " \"@LiamCannon1 He's just too raging to type properly... Ha ha!\",\n",
              " '@economictimes World knows #Pakistan is an epicentre of #terror. The #pakistan speech in UN has define their agenda',\n",
              " \"@Spacekatgal @outmagazine Its okay to be trans just rejoice with the trans in the trans way. By the way it's not your business, so why care?\",\n",
              " '@sophtulig I personally prefer being happy.',\n",
              " '@JustinTrudeau opened doors to terrorism and he will pay for it. @CP24 @globalnewsto',\n",
              " 'sorry im so #bitter i just. i either want a pure ur or literally any card from the sets i like but every time i draw for the sets i like&gt;',\n",
              " '#Followback Quote_Soup: Be happy not because everything is good, but because you can see the good side of everything. #optimism',\n",
              " \"@BlizzHeroes I feel horrible dealing with 'players' in HotS. News on what you're doing about it? Getting stuck with uncooperative people!\",\n",
              " 'Be #afraid of the #quiet ones they are the ones who actually #think.',\n",
              " 'The LORD your God is in your midst—a warrior bringing victory. He will create calm with his love; he will rejoice over you with singing.',\n",
              " '@AceOperative789 no pull him afew weeks ago, sadly theres no game audio or sound affects cause i played it on my phone and tryed everything',\n",
              " \"This week's Massacre Theatre pert by @LarsenOnFilm is the first one I can think of that requires subtitles. \",\n",
              " '@Apple thanks for ios10 update, even the best app @telegram freezing and crashing on SE. #angry',\n",
              " \"@City_tv  is like the big bully in class ruining everyone's lunch but instead of taking our lunch money they took away family feud #bully\",\n",
              " 'People who cheer for sports teams completely outside of New Jersey or PA piss me off',\n",
              " \"semores: let's get this. #mirth #SAW #keepthetradition 💜💛⚛🏵🍇🍋🌼🐤🐥👚😈😈👾🧀\",\n",
              " \"@MarkedMurderer Orion's eyes narrowed as he gazed down at the girl, ice cold blues meeting a softer than usual green. His instinct told him-\",\n",
              " 'Searching for someone to date ― on Tinder, at a bar, through friends ― can feel like an absurd nightmare. Or, at least, a series of',\n",
              " 'This the most depressing shit ever',\n",
              " \"Ellie from @myspanishboots is here to answer your questions! Don't be shy - she loves talking about #equestrian fashion ;-) #equestrianhour\",\n",
              " \"@Evan_McMullin He's spent his campaign dividing people up and pitting them against each other. His message is to fear and resent the 'other'\",\n",
              " 'Bojack Horseman: the saddest show ever written?? #depression #season1',\n",
              " '@HasegawaSona Big, toothy smile as she wiggles about!',\n",
              " \"Tears and eyes can dry but I won't, I'm burning like the wire in a lightbulb\",\n",
              " '@Kristiann1125 lol wow i was gonna say really?! haha have you seen chris or nah? you dont even snap me anymore dude!',\n",
              " 'While we focus on issue of #IPCA @IHFOKids Indulges in #intimidation @BringRoshniHome @ChildrensIssues @MEAIndia @MinistryWCD #StopCruelty',\n",
              " \"So my Indian Uber driver just called someone the N word. If I wasn't in a moving vehicle I'd have jumped out #disgusted \",\n",
              " \"Home is where the heart lies ! Love my little island but my birth city just ain't acting right &amp; im not feeling too good about it \",\n",
              " \"If God had a plan he would've made already #discouraged\",\n",
              " \"It's a beautiful day today. Cloudy but sunny and breezy.\",\n",
              " '@jwolfie_ why you gotta use the dark skin emoji ',\n",
              " \"I'm onto you, @Sargon_of_Akkad, I know you secretly pine for a masculine order, objective morality, and disciplined transcendent pursuits.\",\n",
              " '@WhoIsThisCaleb you could leap to your feet dramatically, plant one foot on the seat of your chair, and let out that jaunty tune!',\n",
              " \"it's not the most comforting &amp; jubilant place to be, but I do find joy in doing what's best for me and being passionate abt company I keep.\",\n",
              " 'LOL! @TheFrankJLopes was just awarded the “F” bomb trophy on #AutoDealerLive, @RealMatKoenig :) #serious',\n",
              " \"@6itmap I can't help but feel melancholic!\",\n",
              " '@alyssaxbeauty nightmare before Christmas',\n",
              " 'Happy birthday Zanele \\\\nI hope you have a wonderful day 💓@xan_radebe \\\\n🎊🎉🎈',\n",
              " 'Russia story will infuriate Trump today. Media otherwise would be giving him tongue bath for fall of ISIS in Mosul + al-Baghdadi death.',\n",
              " 'Lmboo , using my nephew for meme ',\n",
              " \"You're so cute @katienolan #truelove #hilarious @GarbageTime #beautiful &amp; #graceful never heard explicits spoken with such elegance. #Mingo\",\n",
              " \"Honestly don't know why I'm so unhappy most of the time. I just want it all to stop :( #unhappy #depression #itnevergoes\",\n",
              " \"Yo there's a kid on my snap chat from LA &amp; they get high off helium gas lmao.... I am like why the fuck lol\",\n",
              " \"@A_RockasThe U.S. has added years to the Syrian conflict by arming the 'rebel' army. You would think that Iraq had sunk in with Kerry.\",\n",
              " 'Why a puerto Rican with Taino hair and a black nose gotta ruffle your targeted feathers?',\n",
              " '@1720maryknoll I was #fuming Kenny.',\n",
              " \"@LeahRemini  A 'religion' that pushes people to suicide, and punishes you for doing the right thing?? #heartbreaking\",\n",
              " \"Nothing worse than an uber driver that can't drive. \",\n",
              " 'The people that call in to POV on KX4 make my night. ',\n",
              " 'All I want to do is watch some netflix but I am stuck here in class. #depressing',\n",
              " '“Dyslexia is the affliction of a frozen genius.”― Stephen Richards',\n",
              " 'Some moving clips on youtube tonight of the vigil held at Tulsa Metropolitan Baptist church for #TerenceCruther #justice #anger #sadness',\n",
              " 'mm nothing like a good old fashioned panic induced cry on your living room floor',\n",
              " 'Wow the #Denver housing market is #depressing no places to buy in my range 😢 #FML',\n",
              " \"@DanLanthier That was exhilarating hockey. They're still out if Russia wins in regulation I'm reading. #fuck\",\n",
              " \"I went to this sushi spot &amp; they had tobi &amp; an ANBU mask hung on the wall behind them. I will start going there even tho I don't eat seafood\",\n",
              " 'Watch this amazing live.ly broadcast by @brooks_swaggysquad #lively #musically',\n",
              " '@Dolla_DeLotta They wanna bully the Inhuman.',\n",
              " '@MaryamNSharif I think just becz u have so much terror in pak nd urself being  a leader u forgot d difference btw a leader nd terrorist !',\n",
              " 'Ugh I want to punch a wall every time I have to use @windows 10. Literally the worst product ever made #windows10 #awful #killme',\n",
              " \"@MA_Bisson @AroundTheRings @LA2024 'felt our soul'! hilarious!\",\n",
              " 'All in all a pleasing night down The Lane .  .  .  On to the next round &amp; bring on Liverpool at Anfield! #COYS',\n",
              " \"On my life I'll never understand why anyone would pay money to see @LifeOfDesiigner #terrible\",\n",
              " '@Dak2future decorations are up all over Jersey already ',\n",
              " '@bumbleb33tuna door and cleared his throat, trying to dispel any nervousness he had left.',\n",
              " '@Away_Label_Not True Indeed! Next time if these midnight hunger pangs worry you,then you can order delicious rolls from #TRC via @ScootsyIt',\n",
              " \"I'm literally never home and my parents threaten to charge rent if I don't start cleaning the house everyday. OK.\",\n",
              " 'I just want to let everyone out there know you are wonderful people! #beyourself   #late-night #compliment #behappy',\n",
              " '@vkon1 @WindyCOYS by all accounts he was poor first half. Started showboating once game was safe ',\n",
              " '@united horrible service. EWR. Not a cloud in the sky. Normal departure at 10am now leaving at 5pm. Crappy #UnitedAirlines',\n",
              " \"- the joyous occasion of laughing at the ostentatious display of disrespect. Bruce just scoffed at the entire scene. This wasn't Batman’s -\",\n",
              " 'Think I really broke young bull hurt 😂😂😭😭 u can tell by how bitter and mad he is 😊😊😩😩',\n",
              " \"@RogueFatale Oh, you insult me! What, you think just because I look like this, I'm psycho? I'm more sane than most Gotham freaks...\",\n",
              " \"My roommate: it's okay that we can't spell because we have autocorrect.  #firstworldprobs\",\n",
              " '@JeffersonLake speaking of ex cobblers, saw Ricky Holmes at Charlton last week.. tracking back &amp; defending... I dread seeing Gorre on ball..',\n",
              " '@_wednesdaychild I need to cheer up',\n",
              " \"me taking a picture by myself: *awkward smile*\\\\nme on picture day: *awkward smile*\\\\nconclusion: stop smiling ;'(\\\\n #pictureday2016  #ornot\",\n",
              " \"So is texting a guy 'I'm ready for sex now' considered flirting?' #shocking\",\n",
              " 'We can replace #loss with #hope, #hate with #love, #pain with #gain, if we close the window of #bitterness and open doors of #faith. #TryIt',\n",
              " 'Best horror Comedy movie of 2017 #AnandoBrahma @taapsee #SrinivasReddy . In 2nd half I got throat pain #toomuch #laughs',\n",
              " '@MillieetylerX I thought everyday was a glee day??',\n",
              " 'Impractical Jokers...practically genius!!!  @BQQuinn  #good4thesoul #ImpracticalJokers #bingewatching',\n",
              " \"Candice's pout is gonna take someone eye out mate! #GBBO\",\n",
              " 'But I was so intrigued by your style, boy.Always been a sucker for a wild boy #alarm -@AnneMarieIAm',\n",
              " \"@TauDeltaPhiDK THANK YOU FOR MY OBAMA CUT OUT!!!!!! I am elated that he's back home😍\",\n",
              " \"@HotpointUK 'customer service ' beyond appalling. Faulty dryer replacement breaks within wks no parts for 3 wks. Engineers no show. \",\n",
              " '#Forgiveness\\xa0might make us look #weak, but the weakest person is the one who holds #anger, #hatred, and .',\n",
              " 'Huge congrats to my friends at @VoidMovie on the #USAPREMIERE tomorrow! #film  #thevoid #featurefilm #scaryshit',\n",
              " 'The bits that were cooked actual tasted ... no, ok, the cooked AND raw bits tasted awful. 5/5 hilarity, 1/5 taste, 0/5 safe to ingest',\n",
              " 'Forgot to plug the phone in overnight ',\n",
              " \"@Lillie_Billy don't worry me and my mans @JJB1Owens gave him a piece of our mind\",\n",
              " '@Alanafergusson snap meee',\n",
              " '@Austin4evaLEEDS fuming!',\n",
              " 'Fucking fuming is an understatement',\n",
              " \"@laura221b I don't think I've ever moved so fast in a panic in all my life 😂 Gave me such a fright 😓\",\n",
              " '@BBHOH #terrible Paul so deserved that win!!! #movie #ChildrenOfMen.\\\\n\\\\n#cages  #refugees',\n",
              " \"My friend just messaged me 'ugh I'm so hungry I can't wait for breakfast' #socialmedia #WineWednesday  #funny #laughing \",\n",
              " '#panic Panic attack from fear of starting new medication',\n",
              " \"when you find out the initiative isn't even a thing 😧 #revenge\",\n",
              " '@BorisJohnson unhappy about the cost of leaving the EU ? If only you had published your letter outlining the reasons to stay instead. Idiot.',\n",
              " 'Smile!!! #happy #smile',\n",
              " 'happiness is... not having to set the alarm clock for the next day',\n",
              " '@AniahROSE I know smh. My heart sunk into my stomach.',\n",
              " 'boys are so awful but also so amazing.... right?',\n",
              " \"The difference between someone's selfies when they're happy vs. unhappy is absolutely amazing.\",\n",
              " 'terror attacks in usa pay no mind lol',\n",
              " '@TenPercent @emmajtracey @MetroUK not at all surprised unf, getting partially sighted Mum &amp; pushchair on trains a nightmare #ignorantpublic',\n",
              " 'I love looking at my old statuses on Facebook. The one I have from four years ago on this day was about #glee. I had so many opinions...',\n",
              " '@PeteSpencer007 Are you always so relentlessly positive? Your constantly cheerful optimistic disposition starts to grate after a while.',\n",
              " 'Pakistan is the biggest victim of terrorism - Nawaz Sharif \\\\nReally? It should have been biggest creator of terrorism. #UNGA',\n",
              " \"@sippycoups if it hurts too much to eat, i read somewhere that marshmallows are good bc they are soft and don't irritate\",\n",
              " \"@157Gale @GatorDave_SEC I'd be thrilled if he committed but nervous the whole time until NSD. Kid being from Cali makes me nervous.\",\n",
              " \"There is something v satisfying about  opening an old 'to do'.doc file and being able to check off all the things you have done \",\n",
              " 'Treat joy and laughter as a form of worship and spiritual warfare! #laughter #live #victory #worship',\n",
              " '@britishairways term 5 security queues at arrivals #shocking',\n",
              " 'Dying my hair an extreme color for the first time #excited #nervous #change #notfastenough',\n",
              " 'Still waiting to see if my @london2012track will make an appearance next week - two months today it was ordered #shocking #badservice',\n",
              " \"@MHChat I think sadness is felt very strongly physically and mentally.  It feels like it takes over and it's hard to focus at work #MHChat\",\n",
              " '@TheNotoriousMMA looking like @MIckeyRourkeFP in his heyday',\n",
              " \"me taking a picture by myself: *awkward smile*\\\\nme on picture day: *awkward smile*\\\\nconclusion: stop smiling ;'(\\\\n#pictureday2016 #smile #ornot\",\n",
              " '... flat party and I instantly get bollocked about it. ',\n",
              " \"@_Briannax33 @TheFunnyVine @MarielaLynn_ @karengutiii_ gotta shake the booty instead though, makes sure it's all good 🙂\",\n",
              " 'Listen ... this golden brown is giving me life ... but why the hell did my feet have to get so dark 😓',\n",
              " \"@GreatFallVoyagr #bitter sums it up! Congrats Nicole! that's all folks #bb18 now onto #survivor !\",\n",
              " 'A 28 yr old man threw a saucepan of boiling water at a garda, &amp; then hit the garda with the shaft of a brush...Letterkenny District Court.',\n",
              " \"It's better to be wetter than it is to be dry'- Thanks for the tip Val. First #GBBO hearty guffaw of the week\",\n",
              " \"@LFScott57 Miss Cookie sends her thanks! She's not as spry as she used to be - like me! She doesn't have the adventures the young pups do!\",\n",
              " \"I'm still laughing 'Bitch took my pillow' line  #kurt\",\n",
              " \"@Gibberman10 @ScottHoward42 any of y'all remember when MLB tried a futuristic jersey those were all #terrible\",\n",
              " \"@crimpoop my adorable and cheerful daughter\\\\nAlways pouring positivity green goo on me\\\\ndare hurt her and you'll see hell //growls\\\\n\\\\n#PandaBot\",\n",
              " '@Magrove86Mark @clareftballnews jersey gloves?  #dark',\n",
              " 'It’s lack of #faith that makes #people #afraid of #meeting #challenges …\\\\n\\\\n#MuhammadAli',\n",
              " \"A .500 season is all I'm looking for at this point. #depressing #royals\",\n",
              " \"@ChickOfBeauty No!  By Y'all I mean rioting, fire starting, business burning, looting ASSHOLES!  That create  #BlackLivesmatter #terrorism\",\n",
              " 'Brad Pitt being investigated for child abuse?! this all just got really #dark',\n",
              " 'The best revenge is massive success.',\n",
              " '@TweeriaLee A stumbling block to the pessimist is a stepping stone to the optimist.',\n",
              " \"You don't know what to expect by Brendon's video lmao LA devotee video got me shook \",\n",
              " '@DeionSandersJr @DeionSanders so bad...Slash prices or send them to refugee camps, like team gear after they lose championships. ',\n",
              " \"@lefluerr Lol yeah I read that but I stayed up and didn't nap tillI collect 3 people who I think they've got me 😂😂!!\",\n",
              " 'Most Americans think the media is nothing but Government propaganda BS. #lies #control #BS #RiggedSystem #distrust #garbage #oreillyfactor',\n",
              " \"@JackAndJack I'm so lively for listen💗😀\",\n",
              " 'When you make a great tasting shake and no words can describe it!😃👌🏻 #shake #herbalifenutrition #tastesogood #nowords',\n",
              " 'Tweeting from the sporadic wifi on the tube ',\n",
              " '@CornerBakery Sorry I missed you :) I stayed up late working and pondering life',\n",
              " 'if Man U lose i may actually have a nervous breakdown',\n",
              " 'People too weak to follow their own dreams will always find a way to discourage yours.',\n",
              " 'I added Paul Walker on Xbox but he just spends all of his time on the dashboard.  #humor #funny',\n",
              " 'Are you worrying/worried?\\\\n1Peter 5:7\\\\nThrow all your worry on him, because he cares for you. #faith #leadership  #mindfulness #success',\n",
              " \"It's not always how you #start it's how you #FINISH\",\n",
              " 'Congrats to #Nicole #bb18 ... Fix that nose now 😒💁🏻 #bitter #petty',\n",
              " \"I am often disturbed by what some people find appropriate or acceptable. It's not funny nor cute that adults find this stuff humorous. \",\n",
              " 'I wonder if Corey will vote for Nicole?? #snacole #bb18 #paulsgonnawin #finale #halfamill ',\n",
              " 'i love the word fret so much and im in heaven',\n",
              " '@EagleGiles23 @tgilmore_92 what I miss? #outrage',\n",
              " '@joey_coops yes Hun! Avoid at all costs!! ',\n",
              " 'You know you exercised good when your limbs are shaking afterwards 😂',\n",
              " '#Appreciate what you have &amp; enjoy your life. \\\\nUse your #smile 😃 to help others use theirs. ☺️',\n",
              " '@TheBarmyArmy all the optimism...',\n",
              " \"when we're offended. Lol\",\n",
              " \"@ReaganRachelle if I go I'm going to blow some serious money, idk if that's a sacrifice I'm willing with make\",\n",
              " \"Lost: Geelong football team. \\\\nLast seen entering through the banner not sure where they've been since... #unhappy #playwithsomeheart\",\n",
              " \"My ukulele bag has fallen apart. \\uf610 WELLL AT LEAST my life hasn't yet!! #Joys\\\\n\\\\n#quote  #problemsolving #behappy\",\n",
              " \"Theo's comment at the end😂 do one Tyla. #horrid #loveisland\",\n",
              " 'Literally feels sg to be happy with sam😍',\n",
              " 'in health we did a think about depression and now i feel like i have it',\n",
              " '@AlbertBreer @jetswhispers Be sure and switch it over to cable news - cheery',\n",
              " 'I get so nervous even thinking about talking to ****** I wanna die',\n",
              " 'in love with @BarberCeleste  insta!!!... ',\n",
              " 'And getting offended or furious that a writers style isn;t to your taste is ultimately daft, I suppose.',\n",
              " \"@outmagazine jesus heck you're awful\",\n",
              " 'Positive thoughts on these gloom cloudy days',\n",
              " \"Insomniacs can't get sleep cuz they are too guilty about all the horrible shit they do. I'm a complete sociopath n sleep like a baby.\",\n",
              " \"@Nxrthstxr I think it's the daunting fact of the typical offer being those grades. Even though it's been proven not to be the case exactly\",\n",
              " \"Beware the wrath of an angry, frustrated, #agile grandma with a network. 👵🏼😡 I'm just sayin'. #objectlesson\",\n",
              " \"@Markgatiss I'm surrounded by those Trump voters. You're right, it is fucking terrifying. #redstate \",\n",
              " '🍃When #life shows you have a hundred reasons to cry, show it that you have a hundred and one reasons to #smile. 🍃 #quotes @Mind_Console',\n",
              " 'smiling through the stress :) :) :) :) :) :) :( :( :( :( :( :( :(',\n",
              " 'Ever put your fist through your laptops screen? If so its time for a new one lmao   #hp',\n",
              " \"I must be a goblin for it rains every time I'm effin sad. Lol\",\n",
              " \"Idk why people be glorifying depression. I wouldn't wish real depression upon my worst enemy. Shits the worst stop acting like it's cool\",\n",
              " 'i feel furious',\n",
              " \"@riinkanei he's a horrible person and now i gag when i see people quote him\",\n",
              " 'Watch this amazing live.ly broadcast by @huntermcaseyy #lively #musically',\n",
              " \" I can't guess if you holding a grudge against the best'\",\n",
              " \"@TheMoosesAngel He looks down at his brother, a smile forming on his face. 'What? People fearing me?'\",\n",
              " 'Puzzle investing opening portland feodal population is correlative straight a snorting infuriate: XLzjYhG',\n",
              " 'streets of rage 2 was hard to find for a while and then Itunes stepped in and the guys doing the vinyl \\\\nmade it so simple',\n",
              " '@scotydoesntkn0 start buying Death Wish Coffee and shake hands with espresso every now and then.',\n",
              " 'Honestly depression is kicking my ass lately.. 😔',\n",
              " 'Lil reminder that my private account is a delight of shittalking and occasionally NSFW stuff! @AngryArchosaur',\n",
              " 'oh, btw - after a 6 month depression-free time I got a relapse now... superb #depression',\n",
              " 'For a moment I found myself smiling',\n",
              " '@Zen1dfabflake You are all our angelic comrades! ',\n",
              " \"Haven't been here a while, been watching lots of TV. Conclusion #whataloadoftat...if I wasn't depressed before afternoon TV is \",\n",
              " 'Bring on my interview at hospital tho 🙈🙈 #nervous',\n",
              " \"@AmyMek this is so absurd I could laugh right now (if I also didn't feel like crying for the future of our country). #despair #wakeupcall\",\n",
              " \"What a sad evening - clearing out all of Harvey's cage and belongings. Now so final. Goodbye my little man.... #depressing\",\n",
              " 'Time to go hit up the library - I have a lovely PILE of book reservations to collect this morning... #glee #books #reading',\n",
              " 'i swear people dont wanna see me happy like they will try to do anything to fuck up what i got going',\n",
              " \"@HillaryClinton It's your party that has divided this nation.  You inflame the minority population as well as pander.  You are a disgrace.\",\n",
              " 'Happy birthday @iRidhiDogra keep smiling always.Wishing you a wonderful year ahead mam',\n",
              " 'Did u laugh today? Laugh hard? I hope so..we NEED laughter now. #smile #love',\n",
              " 'Coming up shortly #WetinDeyHappen #Satire #laughs #local #Pidgin cc @McTalkinDrum and @Funny_Udeme #stayTuned #premiumTalkStation',\n",
              " '@JoshuaRozenberg Oh dear! #tantrums',\n",
              " \"I'm a shy person\",\n",
              " '@gothictana im a delight',\n",
              " '@InfluensterVox @irontekfit I love my #IronTekFit protein shake in the morning before yoga! #ESVoxbox',\n",
              " '@1ChiefsDan Is that pessimism or do you just want him to get another week of rest and healing?',\n",
              " \"Everybody's worried about stopping #terrorism. Well, there's a really easy way: stop participating in it. -  Noam Chomsky\",\n",
              " \"@JohnJHarwood @GWGMJ30 It's no secret: personal dislike of Trump &amp; animosity has always been present..now magnified with bigotry/racism etc.\",\n",
              " 'Bring on my interview at hospital tho 🙈🙈 ',\n",
              " \"@BjerkeDanielle @FunnySayings lol that's hilarious\",\n",
              " 'Dark, dense, and exhilarating come the finale, #HellOrHighWater is a gripping watch.',\n",
              " 'Nawaz Sharif is getting more funnier than @kapilsharmak9 day by day.  #challenge #kashmir #baloch',\n",
              " \"I've always had a weird grudge against stingrays ever since one killed Steve Irwin.\",\n",
              " \"Petition for non-Maghrebi PoC to stop buying 'couscous' from white grocery stores and boiling it. That is not couscous, that is trash.\",\n",
              " '@Twitch how do I stop that horror movie themed commercial? Suddenly hearing screams is really not making me want to watch twitch. ',\n",
              " 'Holding on to anger is like drinking poison and expecting the other person to die.\\\\n#KissablesLoveSMShopmag\\\\nAllOutDenimFor KISSMARC',\n",
              " 'Or all of it, with our displeasure pieced, #shakespeare',\n",
              " 'Not setting an alarm to nap &gt;&gt;',\n",
              " \"Proverbs  27:9 Ointment and perfume rejoice the heart: so doth the sweetness of a man's friend by hearty counsel.\\\\n#TruthfmDawnBreak\",\n",
              " \"@RayGemini I've got 8 coming back this week. It's so joyous isn't it haha\",\n",
              " '@TeamGrout glee',\n",
              " \"@kymwhitley hello Miss Lady I'm sure today brings you happiness and laughter use your voice also to make us laugh  god knows we need it\",\n",
              " 'Why did Alex just growl at me.. 😂😂😂',\n",
              " 'You a fuck boy if you run drag routes back to back in madden',\n",
              " \"@peregrinator1 I admittedly went into this series thinking we'd see the Jedi in their heyday, not as dysfunctional UN Peacekeepers in space\",\n",
              " \"@AllyiahsFace You're page is full of make up. It's a valid question. But you probably prefer to be smashed and dashed\",\n",
              " '@MMASOCCERFAN @outmagazine No offense but the only way this makes sense is if you work for the magazine. Otherwise,who are you apologizing 4',\n",
              " \"I don't know what's worse, the new Pizza Hut commercials or the pizza that Pizza Hut makes. \",\n",
              " 'Inpouring this letter we are dying over against subsist checking quaint virtuoso ways toward fine huff yours l...',\n",
              " '@cazzrhughes its reflective of the current political debate #awful',\n",
              " \"2 biggest fears: incurable STD's and pregnancy...I mean, they're basically the same thing anyway #forlife #annoying  #weirdsmells\",\n",
              " '@TxDMV @ArkansasBBB i filled out the report on #baitswitch by @Carvana lets go get them fines levied. #badbusiness #honoryourdeal #unhappy',\n",
              " \"Ready for my sweet princess to arrive. I'll he 37 weeks this Saturday! #excited #nervous\",\n",
              " '@SurfaceSupport A profoundly disappointing experience. I have 2 pay almost $500 2 remedy a defect n the product @Microsoft sold me #terrible',\n",
              " \"@StarklyDark 'Come here. Come on. Into my arms. I'm not going anywhere, Tony, I swear.' Steve told him, quiet and solemn.\",\n",
              " 'God we need a new goal keeper! They’re both horrific.',\n",
              " 'I just got asked to hoco over instagram dm bc someone lost a bet. Love the maturity of the people in my grade!!!!',\n",
              " \"@GreggDoyelStar I'm sure you'll have a heyday if they do\",\n",
              " \"@LostGermain ' Want to have a spar?' The prince smiles and reaches for his hilt and his icy eyes keep on Aaron, a playful look in his eyes.\",\n",
              " 'lol! no mention of pak PM or even his speech on any international news channel and pakis are rejoicing as if the world stands with them',\n",
              " 'im on holiday for the next round, fuming!',\n",
              " \"I'm not saying he might be like big foot but it might be like natural biological father says blood boiling if he cross\",\n",
              " '@jaime_scurr: any team in the world would be totally elated to get to have you on it XD',\n",
              " 'the\\xa0Lord\\xa0turn his face toward you and give you peace. Numbers 6:26 #truth #trust #promise #calm #justice #great #mighty #protected ',\n",
              " '@gunghoindallas Proverbs 8:13\\\\nThe #fear of the #Lord is to hate #evil; Pride and #arrogance and the #evil #way And the perverse #mouth [1/2]',\n",
              " 'B4 I couldnt get out of bed or look in mirror Thankful4all the support I have recieved here ImWakingUpHappyNot dreading theday ',\n",
              " 'What a shamefull, unequal, dangerous and worrying world we live in nowadays!  #terrifying #Charlotte #terrorism #shitworldforourkids',\n",
              " 'Wow just watched Me Before You and it was seriously one of the most depressing movies of my life',\n",
              " '@Sophiejulia @CalebAtChipotle @calebpressleyxo relentless pipe thirst #sheltered',\n",
              " 'Inadequacy slithers from her ears and wraps itself around her neck like the boys she wants to love her. #mpy #vss #quote #depression #poetry',\n",
              " 'Follow up. Follow through. Be #relentless. #success',\n",
              " '@lydss_xx @tharealversace @fatbellybella fuckin luv incense, this is me as fuck 😂',\n",
              " '@RashidAlMaktoum For #serious #intermediaries all required info about #project or #Owner will be mailed.',\n",
              " \"I'm sorry but also...fuck you #currentfeels #anger #bpd #eupd #borderliner #mentalhealth #anxiety #depression #confused\",\n",
              " 'If you follow #Trump, a certified #bully there is no question you or your children may go to #War vs consumate #Diplomat @HillaryClinton',\n",
              " 'Mixed emotions. #sadness #anxietymaybe #missingfriends #growingupsucks #lostfriends #wheresthetruefriends #complications',\n",
              " '#burning the last of @Yan',\n",
              " 'Metal keeps you young and spry and keeps your hair luxurious.\\\\n\\\\nYES\\\\n\\\\nSHUT UP AND LISTEN TO ME',\n",
              " 'Top seed Johnson chases double delight at Tour Championship',\n",
              " '@TamraBarney @ShannonBeador @RHOC_KellyDodd Tamra would F her up if she swung on Tamra\\\\nKelly is a piece of 💩 #needstobeadmitted ',\n",
              " \"Anyone know how the #Mariners did today? The mood here seems strangely jubilant! As Meatloaf says, 2 out of 3 ain't bad, unless you win one!\",\n",
              " \"@IndieWire @cinemaeyehonors #WaltzWithBashir was incredible, tho I think it's more of an #animated film than #documentary about #Lebanon war\",\n",
              " 'Win,lose or draw vs LFC, all football fans will rejoice as West Ham &amp; Chelsea fans beat the shit out of each other in a council house! #COYS',\n",
              " 'Movies on my to-watch list: Spider-Man Homecoming and War For The Planet of The Apes. 😍 #excited #movies',\n",
              " 'Good morning joyful people. Choose happiness to have a great day today #morning  #happiness #grandmercurejktkemayoran',\n",
              " 'STAY JADED everyone is #terrible',\n",
              " 'Well this is flipping great! Flipping standstill on the freeway! #anxiety #stepofftheledge #youvegottobekiddingme',\n",
              " 'The Zika #Hoax Files: DEET is part of a binary chemical weapon targeting your brain: #Toxin #fear #neurological #USCitizens #Insect #mammal',\n",
              " \"The Apocalypse has hit our gym and it's  nothing what I thought it would be...\\\\n\\\\nEveryone is wearing vests! What if it's contagious? #afraid\",\n",
              " 'An adviser to the #European #Union’s top #court said #Hamas and the #Tamil #Tigers should be taken off the EU’s #terror list.#lka',\n",
              " '@TheDemocrats dilemma, blaiming everything on the Bushes, but acting gleeful over their endorsement. #Election2016 #Trump',\n",
              " \"@Singaholic121 Good morning, love! Happy first day of fall. Let's make some awesome #autumnmemories #annabailey #laughter #smile\",\n",
              " 'Someone throw a snap dance party for LO. Rest Up big Homie 🙏🏾',\n",
              " \"@midnight #EndTrumpweek please, it's #depressing me.\",\n",
              " '@JackAndAHat butter up the walls, nightmare',\n",
              " \"i'll get my revenge soon\",\n",
              " \"okay false alarm it's working again\",\n",
              " 'The medicine is burning  me',\n",
              " \"#NawazSharif says India poses unacceptable conditions to dialogue.#India's only condition is an end to #terrorism. :@MEAIndia\",\n",
              " \"@alyankovic I really wish I could attend the show at RCMH. I'm there in spirit, cheering you and the dudes on! :)\",\n",
              " 'People you need to look up the definition of protest. What you are doing is not protesting is called vandalism. #angry #stop',\n",
              " \"Ugh. What's wrong with me today? Feel absolutely dreadful 😓 I wonder if I'm fighting something off...? Roll on home time.\",\n",
              " 'I am beyond mad that I lost track of a brown spider in my brown carpet. Where did you go? 🕷 will be sneaking up on me #frightened',\n",
              " \"If you sober better roll another Dutch or if u don't smoke nigga better pour another cup 🍁🍾...\",\n",
              " 'I hate that a black lady is painting herself white on the internet for laughs and likes...  #BadForm #DidntLaugh',\n",
              " 'Love all the ex United managers on Twitter who form our fanbase. Honestly I despair at times. Just back the fucking team eh #MUFC',\n",
              " 'My encouragement today is my dog while my head is in a fog. #epicfail #depression #feelingfedup #tired #ihaveheardeverything #wondering',\n",
              " '@lyssababe615 \\\\nIf this room was burning 🔥',\n",
              " 'anxiety level- 100',\n",
              " \"@DreKnott You've got tremendous range.\",\n",
              " \"Evening all. Don't forget it's #RobinHoodHour TONIGHT 🏹\\\\n\\\\n#bizitalk #bizhour #southyorkshire #MansfieldHour #chirp #sheffieldHour #NottsHour\",\n",
              " 'myself that despite the absolute delight my children and I would feel having a kitten in our home, the misery my husband would feel is more.',\n",
              " '@thatsabingo grim really',\n",
              " \"Gotta hit up breezy every day to make sure he's breaking in my boots. First class friend right there\",\n",
              " '@Uncle_Brown22 yeah dude! Appreciate the #support! #Notorious on ABC, peep it! #grateful #relentless',\n",
              " '@simmy_hanley @Schrise also a ',\n",
              " 'Forgot to plug the phone in overnight #nightmare',\n",
              " '@SouthernRailUK delays from Streatham Cmn to Clap Junc &amp; now train took 20 mins for 9 mins journey. Missed 2 trains to Reading ',\n",
              " 'This maybe a new start but it will always be align with the end.  #forward',\n",
              " '“The immense importance of football is sometimes scary. When you don’t win you are responsible for so many unhappy people.” - Arsene Wenger',\n",
              " \"Literally dying &amp; living at the same time as I catch up on @adrian_ver 's twitter. If you aren't following him your life is BASIC. #hilarity\",\n",
              " '@DatelineNBC this is a sight, sound &amp; smell to behold in person--still gives me the creeps to think about. ',\n",
              " \"@ColMorrisDavis @rolling_2 @realDonaldTrump @pbump He's jubilant to hear the word that he probably uses in secret heard out loud.\",\n",
              " \"@dish_answers I've contacted @dish @dish_answers  #service #whathappenedtocustomerservice\",\n",
              " \"Three days off a month with two ex wives and no home could be worse. I don't know how, but it could #oilandgas #optimism\",\n",
              " '@_noTORIEty lol senior year we would get early dismal for work study ,he was her boss and you know what happened next 🙃',\n",
              " 'Time wounds all heels.\\\\n\\\\n#DrunkJesus #rt #lol #wisdom #quote #comedy #self #Revenge #grudge #hate #time #funny #politics #Trump #POTUS2016',\n",
              " 'Each of us have varied #talents #gifts &amp; #abilities If we #all #work #together #we can #help #make the #world a #better &amp; #brighter #place',\n",
              " \"Yo Yo Yo,my name is #DarthVader \\\\nI feel like I need to puff on my inhaler (I'm no rapper but that was some sick bars) #breathless #bars #rap\",\n",
              " \"A good head and a good heart are always a formidable combination.' - Nelson Mandela\",\n",
              " 'People often grudge others what they cannot enjoy themselves.',\n",
              " \"He's seriously so frustrating sometimes! (╯°□°）╯︵ ┻━┻ #ugh #raging\",\n",
              " \"@PhilGlutting Hey There Phil Glutting thank you for following us, it's appreciated :) #smile\",\n",
              " 'I guess #bradangelina &gt; #anger &gt; #blacklivesmatter',\n",
              " '@realDonaldTrump: No sense in taking out your wrath on innocent people because you think police shot an innocent man. #MakeAmericaSafeAgain',\n",
              " \"@jbiggy13 @ToneCapone111 ya and the d was what I was most confident about..... our offense is as good as it's been in 20 years...our d sucks\",\n",
              " 'Saga: When all of your devices and teles fail just in time for bake off  #gbbo',\n",
              " 'Me: *sees incense burner* is this for drugs?',\n",
              " '@DPD_UK I asked for my parcel to be delivered to a pick up store not my address #fuming #poorcustomerservice',\n",
              " 'Come to the @BullSkitComedy FUNdraiser this Fri. at 8pm @TheScottBlock. Because #pie + #face = #hilarity!',\n",
              " \"US lady in foyer - 'Am I not #afraid to be tweeting in #Moscow?' Fortified by d good #Lord &amp; #JD I reply 'I fear no Russian. 'cept my #wife😅\",\n",
              " \"@JTregManc it's fair to say he's been a bit timid compared to what I've been known to see from him\",\n",
              " \"I'm back on Twitter! #madden #madden18 #maddenmobile #ea #nfl #espn #packers\",\n",
              " \"@niaamh It's horror stories like that that make me so greatful ☺️\",\n",
              " 'backed pats -2.5 10/11 just before #pleasing',\n",
              " 'If you guys want a super inhealthy, but delicious snack, @cheezit dipped in cream cheese is the way to go 👌🏼👌🏼 #delicious #preggocravings',\n",
              " '@WildRoverTours Thank you for follow and its a good website you have and cheering with no hassle.',\n",
              " \"If Troyler will die, I'm gonna die with them\\\\n#troyler #sadness #fuckin'lifeisnotafairytale\",\n",
              " 'Just got done watching Jeepers Creepers it was epic #horror #horrormoviesarebest #movies #movie #horrorfilm 🎬📽🎬',\n",
              " \"My doctor is giving me flower extract to relieve anxiety and reduce panic attacks :')\",\n",
              " \"I'm going to get the weirdest thank you note--or worse--total silence and no acknowledgement. #anxiety\",\n",
              " \"But i'll be a pity. 🐑 #lively\",\n",
              " 'India should now react to the uri attack..... ',\n",
              " 'I am really flattered and happy to hear those complements for my blog! You guys motivates me to write more for my blog. Thank you! sml 💞',\n",
              " \"I swear if @devincameron23 blocks me I'm going to hit her back #revenge\",\n",
              " \"So I'm not being shady but one of Jongdae's ex rumoured girlfriends is going on WGM I'm not saying I'm over joyed but I'm over joyed \",\n",
              " \"My #anxiety is rising tonight and I'm not sure why. Sometimes I wonder if I'm a magnet for any free-floating anxiety in the universe.\",\n",
              " \"I seem to alternate between 'sleep-full' and sleepless nights. Tonight is a sleepless one. 😕 #insomnia  #notfair\",\n",
              " 'Stuck in a infuriate scrum about hegemonists.  #scrum #scrum #Stuck',\n",
              " '“The Lord thy God in the midst of thee is mighty; he will save, he will rejoice over thee with joy...”\\\\nZephaniah 3:17',\n",
              " '@sydneyswans #cheer #cheer the #red and #white we are now off to #grand final to #win the #fight. Thanks @JetstarAirways',\n",
              " \"I'm so confused by the new American horror story 😩\",\n",
              " '@readanerd cheer up chuck😘',\n",
              " \"Collects all the times when Minerva would chew on his cape. Begins to shiver, runs a hand through his hair. \\\\n\\\\n'You can surely━\\\\n@ardentflier\",\n",
              " \"@simslover163 I guess it must be really expensive... For me it's that the whole family stayed in Poland, so I really miss them...\",\n",
              " 'Ask yourself every day: \\\\nam I ruled by fear and hatred \\\\nor am I ruled by love and the sacred?',\n",
              " 'i was just talking about it last week .. how does your outside appearance (ie. dread locks) affect the ability you have to work?',\n",
              " '@virtualalien there are more #frightening things in life\\\\n\\\\n#BeyondTheSphereOfReasonableDoubt',\n",
              " 'mustache_harbor: TiburonChamber plus a hearty pour of #yachtrock by #mustacheharbor !',\n",
              " \"#bcwinechat what's the most common method used to make BC #sparkling #wine?\",\n",
              " '@ChurdAllan fucked my coupon that goal! ',\n",
              " \"@Jen_ny69 People will always get offended everyone's situation is different! Just because we have kids doesn't mean we have to settle\",\n",
              " \"But if you wish to live bitter because your guilty conscience made you think it applied to you as well then that's on you, I'm not sorry💁🏻😊\",\n",
              " \"Trying to take what's lost and broken and make it right\",\n",
              " \"He accusd India of HR violations in Kashmir BUT refusd to name India's role in fomenting terror in Pakistan through TTP, BLA &amp; MQM.shame #ZH\",\n",
              " 'Candice on great british bake off with that pout does my head in 👊🏻🙄',\n",
              " 'im so gloomy today',\n",
              " 'Imagine celtic burst the net wae every attempt, but nutt same old dain it hard way usual',\n",
              " \"@AnthonyEinzig I'm so sorry. This is heartbreaking and so scary. If it can happen there it can happen anywhere. Please be safe 🙏🏻 \",\n",
              " \"The next time I go to Lagos I will gate crash somebody's owambe dressed in lace and gele to eat amala and shake my waist😑\",\n",
              " 'Come and join in with #cakeclubhour tomorrow afternoon from 3pm! #bizhour ',\n",
              " 'some people leave toilets in fucking grim states',\n",
              " 'ICQ is just making me mad!!!😤 #icq #angry',\n",
              " '@ltsukis im love you, even if you bully me sadly',\n",
              " \"what's the nicest way to tell someone cheerfully whistling outside my apartment door that I will end them should they continue to whistle\",\n",
              " '@ofc_ALDUBQC Glad you gained some cheery vibes just by looking at our Happy Meal! 😊',\n",
              " \"Someone's nicked my lunch out the fridge at work!! Roast dinner as well! #fuming\",\n",
              " \"I don't even #feel #anger anymore can't explain it .. #Tulsa #Charlotte #Trayvon #SandraBland #Philando #Ferguson #BatonRouge #MichaelBrown\",\n",
              " \"@JonRiley7 #VoteYourConscience or succumb to #fear? 'He is #scary, he is #dangerous!' -@HillaryClinton's #alarmist #PATRIOTACT platform.\",\n",
              " \"This is the first time I've been sober on my birthday in 6 years. #recovery #sobriety #sober #soberissexy #sobernative\",\n",
              " '@lawson__lynch my kinda girl pleasing the dick right😍😏',\n",
              " \"A 'non-permissive environment' is also called a 'battleground' - #MilSpeak #hilarious\",\n",
              " '@Supergold2002 Terence- got a lot of anger issues from my family and school.',\n",
              " 'I need a bit of #GBBO to cheer me up after a terrible day!',\n",
              " '@Iucifaer you can go on what you usually do its just their own personal reason and not mean to offend anyone :(',\n",
              " 'My encouragement today is my dog while my head is in a fog. #epicfail  #feelingfedup #tired #ihaveheardeverything #wondering',\n",
              " 'the waitress recognised me from last time i was in there moping, after my interview haha',\n",
              " '@emmajckson awe thank you (,:',\n",
              " \"onus is on Pakistan' : @MEAIndia after #Uri #terror attack\",\n",
              " \"@Naya_Eclissu + me!'\\\\n\\\\nAnd that's when she suddenly became quiet as her lips started to tremble \\\\n\\\\n'...........Naya'\\\\n\\\\n'I don't want to +\",\n",
              " \"@kjwinston11 2.  the N-word. But I think all Afr-Am are entitled to it: we shouldn't take away from them the insult they have claimed back.\",\n",
              " \"I either look like a raging bitch, or I'm obnoxiously laughing at something not that funny. I don't think there's any middle ground.\",\n",
              " 'Threaten to leave your girl shaking in a wet spot ....',\n",
              " 'I want to slide into the dms but im too fucking shy #shy',\n",
              " '@maritzabuys666 Looks wonderful!!!  Wish it was my cock tho!!!  😍',\n",
              " \"@ChronAVT ummm, the blog says 'with Simon Stehr faking 7th'...I'll expect an investigation forthwith. This is an \",\n",
              " \"@AttentiAlGatto LOL! Why would it scare me? It doesn't make any sense at all but it doesn't scare me! {chuckles}\",\n",
              " 'Today I reached 1000 subscribers on YT!! , #goodday, #thankful',\n",
              " '@zavvi @zavvihelp only offering 6 moth warranty #ps4pro #shocking #truth #ripoff',\n",
              " '@Damn_It_Dillon @SamUndomiel of course! This is a happy hentai, not a sad or gloomy one',\n",
              " '@indermethil True. We were rejoicing the fact that we signed a quality young CB but we need one more at least. @MarcBartra ? mebbe :P',\n",
              " \"finally leaving my first job soon. i've been working here since i was 16. going to be kind of bitter sweet\",\n",
              " '@JoaquinPutoAmo vas a ir al de the amaity affliction?',\n",
              " 'Girls with hairy arms scare me',\n",
              " \"@sueblue35 @nsoz7 @immortalbulldog huh? We have a sprint coach? We're the slowest team in the comp. Talk about robbing a living. \",\n",
              " '@YahooFantasy update may have been the worst mistake of my day #horrible',\n",
              " 'Houston might lose a coach tomorrow or by midnight. #yikes ?',\n",
              " 'Proud of you for overcoming your fear of deep water @ShawnMendes',\n",
              " \"guess who stayed up until 2am just incase someone called but they never did like i knew already , it's me, mistakes were made\",\n",
              " '@soboleskih Okay this is hilarious',\n",
              " 'When will the weeks full of Mondays end?? ',\n",
              " '@homoaesthetics YESYESYES like jd is the closest cahracter that is similar to blaine!! the optimism and ability to crack tough characters',\n",
              " \"@vinsquat67 It was indeed, I was raging at the verdict. Can't imagine how the poor lassies family felt.\",\n",
              " \"Thought I left that part of life behind me\\\\nIt's back to haunt every girl that loves me\",\n",
              " 'Once I have sent a pitch to a brand I close all tabs relevant to them instantly. Thats the kind of detachment I create for myself. #serious',\n",
              " \"On @Varneyco/@FoxBusiness to talk latest on #Chelsea Bombing + #Ahmad_Khan_Rahami's trips to #Afghanistan/#Pakistan #tcot \",\n",
              " \"@lemonlover666 'shit' doesn't even begin to describe these fiery little demons straight from hell 🌝🌚 ;)\",\n",
              " \"18' \\\\nMichael Carrick as struck the back of the net much to the delight of under pressure man u fanz and MOU...\",\n",
              " 'Being #happy means letting go of the clinging and attachment to things in your life. #WednesdayWisdom #life',\n",
              " 'I never let anything below me concern me.',\n",
              " 'Be it a rainy day, be it cheerful sunshine, I am a Prussian, want nothing to be but a Prussian.:|',\n",
              " \"@mikeburke91 @AP I guess. It's just heartbreaking the ease with which they can kill an innocent man and get away with it. #indignation\",\n",
              " 'All the fans wanted Man Utd at home in the next round...\\\\nAre you cheering for Northampton or Man Utd right now?\\\\n#lufc',\n",
              " '@bt_uk broadband is shocking regretting signing up now  #shouldofgonewithvirgin',\n",
              " \"having a pet store worker ask 'do you want to play with them?' is the most exhilarating feeling\",\n",
              " '@GuardianAus @Paul_Karp Maybe 49% support no #Muslim immigration cos they perceive the risk of #Islamist ideology &amp; #terrorism as too high?',\n",
              " 'Man Utd are shambles that was horrific 😭😭😭',\n",
              " \"Hey @gmail why can I only see 15 sent emails? Where's the thousands gone? \",\n",
              " 'Ryan Gosling and Eva Mendes finally  ; B joyful an funny/dont boss/dont argue/do everything with kids/go on mini car trips/ focus on love',\n",
              " \"@russbully Ended up paying 75p for half a tube of smarties. Don't even get the pleasure of popping the plastic lid off either \",\n",
              " \"It's a gloomy ass day\",\n",
              " '@alooftroye so what you mean to tell me is that.... glee is...... getting less........... gleeful?',\n",
              " 'Regret for the things we did can be tempered by time; it is regret for the things we did not do that is inconsolable.  Sydney J. Harris',\n",
              " 'So grim being up at 6',\n",
              " 'Her charm is liveliness but this is also her weakness.',\n",
              " \"@turoturok  We're glad to hear that everything is resolved. If you need anything else, please do not hesitate to reach out to us.  TY!\",\n",
              " \"He's mixing it up pretty well..using that slider pretty affective so far #thebabybombers #yankees #offense\",\n",
              " 'Going home is depressing',\n",
              " \"A 'non-permissive environment' is also called a 'battleground' - #MilSpeak \",\n",
              " 'Go follow me on Musically @budderlordk1ng I am making a lively. Come and join BFFing and Following ;) See you there!',\n",
              " \"@Masonicmoron i always hesitate to update.  At least it's no the horrors iPhone users endure every few months 😅😅\",\n",
              " 'Having holiday blues! #WantToGoBackToMinehead.',\n",
              " \"@kohara19 It's a rare land octopus. Be very afraid.\",\n",
              " \"Sometimes the best motivations come from 'proving them wrong' #energy #relentless #MotivationalQuotes\",\n",
              " \"me: tis a dreary day today\\\\nfriend: he's a teenager not Shakespeare's reincarnation \\\\n\\\\nim such a dumbass lol\",\n",
              " \"@TheView Joy isn't a comedian. She's a bully for fat shaming the governor. Great example she's setting for her grandson.\",\n",
              " '@BitcoinBelle @pamelawjd Start mournful then kick into major key in last verse where good guys win? (Or just change words in existing song?)',\n",
              " '#sober life',\n",
              " 'I look #horrible today and I just saw 6 people ik in the past 10 min :-)',\n",
              " \"I've been in such a bad mood this week, and work has been horrific, so I decided to start a scrapbook of my summer vacation\",\n",
              " '#Rage and #disappointment man.... Is that life or what? Lol',\n",
              " 'Standard Candice starting the show with a pout #startasyoumeantogoon #GBBO',\n",
              " \"So she goes first. She gets her book signed &amp; I can barely take their picture cuz I'm shaking 😭😭😭😭😭\",\n",
              " '@jaassiieeeee I will not fall to the dark side😂😂',\n",
              " \"Autocorrect changes ''em' to 'me' which I resent greatly\",\n",
              " \"Mary Berry - what's the icing on top of your Bakewell tart? It looks like horrid Mr Kipling, not something Derbyshire would recognise #GBBO\",\n",
              " 'Every cal person I have on my snap has chic-fil-a on their story.. Lol #Yummy',\n",
              " '@mcauley_ross rojo is awful',\n",
              " 'should I #start posting #photos?',\n",
              " \"That's really it for my madden career that game sucks , ea sports does a piss poor job every year on that shit\",\n",
              " '@kateemick what a nightmare',\n",
              " '☊Focusing primarily on the person you’re talking to rather than yourself and the impression you’re making lessens social anxiety.',\n",
              " 'my bls depress the blake',\n",
              " \"I'm way too busy and tired all the time to worry about my past and the things I should be regretting (but I never am).\",\n",
              " 'Get to the gym and discover I forgot to put my gym shoes back in my bad 😤 #rage #wwhhyyy',\n",
              " 'At #UNGA Pakistan clearly shows the face of cowardliness and blatant lies! Its time for #India to act upon terror.',\n",
              " '@IrishTimesPol @IrishTimes Irish citizens boiling drinking water in 2016 leaves one foot firmly in the bog!',\n",
              " 'Rojo is hilarious',\n",
              " '@RossKemp great programme tonight  #upsetting #extremeworld',\n",
              " 'Just reached 10k followers - WOW - thanks blues #mcfc #ctid',\n",
              " 'we never taste happiness in perfection, our most fortunate successes are mixed with sadness. #success  #perfection #fortunate #mixed',\n",
              " '@cc_yandian @HillaryClinton her team must draw from a hat for daily personality #drugged #angry #yeller #quiet #screamer #😂😂',\n",
              " 'Some Mexican ladies irritate the fuck outta me. Have a their own lil preschool of fucking kids for the welfare &amp; allllat smh.',\n",
              " 'thought I was a bad driver until I went to college #relieved',\n",
              " \"That moment of #panic when your zipper gets stuck when you're in the #bathroom and you realize the only way out of your jeans is #scissors\",\n",
              " \"@KatHeartwell some don't see the difference between courting and appealing to a women vs deception &amp; pressure it's depressing\",\n",
              " \"bout to read this article 'Moving the Conversation Forward: Homosexuality &amp; Christianity' from someone in the foursquare church \",\n",
              " \"@EE your a joke I pay for data when I'm in Spain and you then text and say I've used up all my data #terrible service\",\n",
              " '#RIPBiwott I think Robert oukos soul can now rejoice and rest in peace. Call an evil man evil and a good man a good man. He was an evil man',\n",
              " \"I can never find the exact #emoji that I'm after at the exact moment that I need it #panic\",\n",
              " '@littlepieces Customer services got involved and eventually completely wash their hands of it. #awful #dreamornightmare',\n",
              " \"@LBC - I can't read this article but headline indicates a horror story. Lock sick chavs up and throw away the key.\",\n",
              " '@david_garrett Quite saddened.....no US dates, no joyous anticipation of attending a DG concert (since 2014). Happy you are keeping busy.',\n",
              " 'May a man live well-, and long-enough, to leave many joyful widows behind him.',\n",
              " 'Damnnit! Gonna be 1400 pts shy on Chiefs Rewards of getting a post game photo.',\n",
              " 'SO many great pics from the show in Tokyo😍 I like all his outfits now except the lace one w those horrible pants....💁',\n",
              " \"LOL I have reminders for my ex-gf's birthday approaching. Too bad she considers me acknowledging her existence an affront...\",\n",
              " '@RussiaInsider Really sad &amp; surprising. 1 side #Russia fighting against #IS &amp; on the other supporting #Pak which is epic centre 4 #terrorism',\n",
              " \"@jellzybean cheer up punkin'\",\n",
              " 'Wishing a very Happy Birthday to our awesome dancer, Ruthann!!! We hope your day is magical! #bday  #eatcake',\n",
              " \"i can't believe they're all messing up my favourite of all bakes i feel personally offended\",\n",
              " 'lost 11 lbs since I got married (eating healthy) &amp; ive gone from a 9:47 mile to a 8:50 mile in 2 weeks. #areyousureimagedout #fitness',\n",
              " '@NativeApprops @SBShear @HuffingtonPost Shew. That was ',\n",
              " '@DPD_UK I asked for my parcel to be delivered to a pick up store not my address  #poorcustomerservice',\n",
              " 'I just heard the most incredibly transcendent song ever &amp; now I feel high &amp; fucked up yet joyful &amp; I will never be the same',\n",
              " \"I feel like an appendix. I don't have a purpose. #sad #depressed #depression #alone #lonely #broken #sadness #cry #hurt #crying #life\",\n",
              " \".@monsoonuk Ordered before 10pm last night, paid for next day. Didn't bother to fufill order. Now 14 working days for a refund! #shocking\",\n",
              " 'Obfuscated magazines in passage to unite with in order to thine mirth conjunction treat quotient sufficiently: lEAqIWY',\n",
              " '@TampaBayRay I cried with laughter.',\n",
              " \"Migraine hangover all day. Stood up to do dishes and now I'm exhausted again. GAD, depression &amp; chronic pain #anxiety  #pain\",\n",
              " '@corruptmelon now im feeling the ',\n",
              " 'Super shitting it about this tattoo #nervous',\n",
              " \"fuck a nigga feelings till I find a nigga I'm feeling 😆\",\n",
              " \"@TGowdySC No wonder why we're in this mess. #NoLoyalty #youcaved \",\n",
              " \"It's a good day at work when you get to shake Jim Lehrer's hand. Thanks, @keratx! Still kicking myself for being to shy to hug @mcuban.\",\n",
              " 'feel really sad and down today😒',\n",
              " '@ananavarro @tcarrels most of Trump supporters have not clue about the meaning of the words they used just like him  #nevertrump',\n",
              " \"Tomorrow, is the FIRST DAY OF 🍂🍂FALL🍁🍁and I'm elated!!!!!\",\n",
              " 'Kik me I want to swap pics I will post on my account anonymously if you wish Kik: vsvplou #Kik #kikme #snap #nudes #tits #snapchat',\n",
              " 'Loving  #Pitch so far !! 🤗🤗🤗 @PITCHonFOX @Global_TV #chills ',\n",
              " 'In my room 101 would go  Russell Howard,Tom Odell,Michael Buble!!! #pants #nogood ',\n",
              " \"It feels good to get outside for a minute and get some fresh air.  It's hard to stay cooped up inside all day \",\n",
              " '@sreeniv51294598 hahaha dear d not worry discuss',\n",
              " \"Feminists should ask themselves, why they're so unhappy, and why they lack love in their lives. Is it b/c they are fighting a losing game?\",\n",
              " 'I am shy at first.It usually takes me a few minutes to assess the jaw of the people i am hanging out with and then i will act according🤷🏽\\u200d♀️',\n",
              " \"@Geminiak @LondonNPC you're welcome! #wordgeek \\\\nAlso, good to put a face to the twitter feed, even if it was only a cheery hello! 😀\",\n",
              " 'One more step in long work #visa process is over. Relief. Onto next step. #expat ',\n",
              " '@paulsherard @margarethaynie wow I just realized how much of a sexist pig I am! I am truly sorry to anyone I offended',\n",
              " \"David's #anxiety is going to send him home. As someone who also suffers, learning to look normal is an essential coping skill. #survivor\",\n",
              " \"It's not that the man did not know how to juggle, he just didn't have the balls to do it.\\\\n #funny #pun #lol  #punny\",\n",
              " 'Man Southampton will wipe the floor with  west ham on Sunday. So disheartened',\n",
              " 'Beyoncé resentment gets me in my feelings every time. 😩',\n",
              " '@ManUtd Rooney needs to come off! Absolutely dreadful! 🙈🙈🙈 class goal from @carras16 @carras16 showing why he should be in the team!!',\n",
              " '@itsyourgirl_Z happy birthday :) have a blessed day love from Toronto :) #bday ',\n",
              " 'Instagram seriously sort your sh*t out. I spent ages writing that caption for you to delete it and not post it!! #fume #instagram',\n",
              " \"What's a Kali's kitten? [She asked, a frown curling on her fair skinned forehead as he showed her the scar] A cat did - (@ScarredTiger)\",\n",
              " \"Hannah: 'This week on Survivor: Find out who is more buoyant. Gen X or Millenials!' #survivor\",\n",
              " 'aaahhhh! a little @OtisRedding to soothe the soul. #music #blues',\n",
              " \"That's the old me though #imachildofgod #whatistwerking #sober #married #bye\",\n",
              " 'Happy Birthday @Brooke56_56  #cheerchick #jeep #jeepgirl #IDriveAJeep #jeepjeep #Cheer',\n",
              " 'Because it was a perfect illusion, but at least now I know what it was. #angry #ladygaga #iscalming#mysoul',\n",
              " '@TedLeitner @jesseagler You two are TEN TIMES more interesting than those particular afternoon goofballs (I could say worse). #umbrage',\n",
              " 'Omg I actually thought she was going to jump. #bully #SouthPark20 #southpark',\n",
              " 'Literally being here makes me depress tbh',\n",
              " '@Y2JaKe85 yessir. Also cheering for Sweden bc of Lundqvist',\n",
              " \"@SilkInSide @TommyJoeRatliff that's so pretty! I love the sky in the background and the purple highlights with the dull colors is great\",\n",
              " \"During the day @JeffProbst is jovial. At #TribalCouncil he's a different,  darker fellow.  Still simply but smiles are few. #Survivor\",\n",
              " 'i just spent $40 on big little sis tomorrow and i am beyond happy about it #SAW  #mums',\n",
              " '@leesyatt you are a cruel, cruel man. #therewillbeblood #revenge',\n",
              " \"@mcrichard awe that's adorable\",\n",
              " \"Most of PROFITABLE FX MONEY MANAGER clients don't mind with high profit share we take, since they are very #happy with the returns they make\",\n",
              " 'Does anyone know, are both Sims in a dual sim phone both locked to the same network! ',\n",
              " 'Thou wilt be as valiant as the wrathful dove, or most magnanimous mouse. William Shakesphere',\n",
              " '@l1ght__eyes u tried boiling em takes years too',\n",
              " '@u4uzoma Boss I see you as someone that is jovial and funny. Tho av not met u in person.',\n",
              " \"@mayusteapot Ok, what I'm doing is better than that 😆\",\n",
              " 'Watch this amazing live.ly broadcast by @iamjustinburke  #musically',\n",
              " 'You boys dint know the game am I the game... life after death... better chose and know who side you on before my wrath does come upon us😤😤😤',\n",
              " \"@peterdaou What? Hillary has 27 different controversies and she gets asked NOTHING about any of them. Truth is she's a horrible candidate\",\n",
              " \"#anxious don't know why ................. #worry 😶 slowly going #mad hahahahahahahahaha\",\n",
              " '@DeltaAssist Tried 2 get earlier flt 2day  @BWI Turnd away bcuz it was 2 late Then agent let other pas on #silvereliteleftbehind #unhappy',\n",
              " '13 hour @bus rides make me  #sorry',\n",
              " '@Irenelove83 heres what we can do, Get Brock and Sable to tag team mr and mrs AWOL and watch with glee',\n",
              " 'Remember your identity is in Christ. Give the sting of rejection to Christ. He’s been there he’s done that and He has the scars to prove it.',\n",
              " \"Seriously @marksandspencer I'm sick and grumpy and the only thing that's gonna cheer me up is ordering my xmas food, when's it going up? 😢\",\n",
              " \"I'm doing all this to make sure you smiling down on me bro\",\n",
              " 'smh customers getting angry at me bc i aint got no marlboro lights in the gas hut. i called them in 2 hours ago, fuck you.',\n",
              " \"Sometimes the best motivations come from 'proving them wrong' #energy  #MotivationalQuotes\",\n",
              " \"Aidy: *has a physics question*\\\\nAidy: '... ok, I'm not gonna ask Tristan cause I don't wanna aggravate her'\",\n",
              " \"It is no coincidence that Lacan recorded infants' jubilant reactions to their mirror images in the noise.\",\n",
              " 'Southampton playing really well here. Youngsters Matty Targett and Jake Hesketh in particular and Austin and Long formidable as a front two',\n",
              " 'Free live music in DC tonight!  #blues with #MoonshineSociety at @thehamiltondc in the Loft starting at 10:30pm @FreeinDCBlog @WTOPFreebies',\n",
              " \"Tom Phillips being all jovial at the start of this week's show when Joe is strutting out after that video package is quite the juxtaposition\",\n",
              " 'When your friends want to go out drinking but you know you gonna have to say no because social #anxiety runs your life',\n",
              " 'If i could just get my line to block! #germantownbroncos #lilleague #popwarner #Broncos #usafootball  #lineman',\n",
              " 'Everything is far away because time is short, no rest for the weary.',\n",
              " '@eehbahmum WHY?! Did they want to make you plummet in to the depths of despair??',\n",
              " \"F'n morons u23 SMFH can't just be lackadaisical\",\n",
              " \"She gave a playful wink, taking the goggles off her head, swinging them around her finger. 'I would never~' @VerminEngineer\",\n",
              " 'Clash of the titans and wrath of the titans 🙌🏾🙌🏾🙌🏾 🔥',\n",
              " \"'to fill his campaign bank account with tens of millions of dollars'..trump 2020 campaign to start now #sad  #bad\",\n",
              " \"@RKsAllyCat82 No, but I'm planning on it before September 😊\",\n",
              " 'Fuckin restless',\n",
              " \"I base when it's going to rain here off of brills snap stories.\",\n",
              " '@safety @Support \\\\nHi 🌷\\\\nWhy do you always suspend ISIS hunters\\\\n \\\\n👉@snafy2019\\\\n\\\\nKindly please reinstate our members\\\\n*He fights terrorism d/n',\n",
              " 'Damn I lost my keys and I forgot to get the garage opener',\n",
              " 'But is it your fault you worked hard and stayed the course until eventually it all paid off, no! so let it be known and count up!',\n",
              " '@BbeautifulSoul_ u always gotta attitude tho ... 😕 cheer up',\n",
              " '#soywax limited edition horror candles going up @scentedscreams! Follow us for all the latest news!! ',\n",
              " \"@GreyTheTick But even if I jumped through that hoop, it just takes one irate netizen to decide me playing by 'the rules' isn't enough.\",\n",
              " 'Do not despise the Lord ’s #discipline, do not #resent his rebuke, because the #Lord disciplines those he loves... #Proverbs 3:11-12',\n",
              " 'Vincent looking super lively boy... Hattrick perhaps lol',\n",
              " '@duarteamanda @theseantcollins Lmao the lack of self awareness in this last tweet is genuinely awe inspiring',\n",
              " 'Never ever been this unhappy before in my life lmao',\n",
              " 'Every dancers dream song  #worldpower',\n",
              " \"Doesn't it just suck when you're so real to someone and try to exhilarate every ounce out of them to only see that they're not down\",\n",
              " \"More #terror attacks on #India means something ominous for #Pakistan The current situation can't last long\",\n",
              " \"@scdesc Yup. And Val basically ignoring the recipe. I'm just done. I keep bursting into laughter x\",\n",
              " \"The abysmal ignorance, frivolity and levity of the Italian priests stupefied him.' - Roland Bainton on Luther, #ReformationDay\",\n",
              " '@JamieSmart93 that was shocking!',\n",
              " 'In addition to fiction, wish me luck on my research paper this semester. 15-20 pages, oh boy. ',\n",
              " 'I really wanna go to fright fest 😩',\n",
              " 'Oh daaaaaaamn @SophiaBush! #getitgirl #girlpower  #rawr #ChicagoPD',\n",
              " \"A concern of mine is that big name FA(like Malik) will tell other big potential FA's to steer clear of this franchise till Gus is gone.\",\n",
              " '@aGirlHasNo_Name @MdlMurray shot by black police woman Typical looney toon thinking. #Hillary #divide  #chaos',\n",
              " 'On the other side of fear lies freedom! - JB Glossinger #quote',\n",
              " 'Gotta wonder why Caller Max listens to the show in the first place if you so incense him @MSignorile',\n",
              " 'A hearty thank you to you all for joining in tonight. Some delicious British dishes on your menus. #BeerClub',\n",
              " \"@realDonaldTrump @KellyannePolls New campaign slogan idea...'I know you are but what am I?' #bully #Trump2016 #yourefired #deflect\",\n",
              " \"I'd rather dump gasoline all over myself and run into a burning building than use Excel.\",\n",
              " '@AdamRichards_10 I done a mix of win and -1 and scores are 2-0 2-0 3-0 4-0 4-0 and then moyes was 1-0 down was fuming. Would of been easy',\n",
              " \"Wow what a thought!  #JudgeLynnToler 'I can't have the specter of this morning's problem haunt my afternoon.' Well written! That 1 sentence\",\n",
              " 'Those were the times, I thought I can never be sober. But still His grace are beyond my limits 🙏🏾',\n",
              " \"On the drive home today I heard a censored version of Spirits by The Strumbellas. 'Guns' replaced with 'dreams'. Just NO. #awful #censorship\",\n",
              " 'Remember when Joe and Quinn had a thing on glee',\n",
              " '@rtrn94 Mine is that the party did decide but the party has been slowly transformed into a vengeful hell-cult of white male resentment',\n",
              " \"@KWAYNTjoia it's exhilarating\",\n",
              " \"I'm looking for a good promoter #rock #blues\",\n",
              " '@hannah_2401 hannah stop being mournful and chill 💁',\n",
              " 'when everyone you know has died because of a treaty you had no involvement in drawing up, you get an enormous amount of fury',\n",
              " \"I did the dishes yesterday, fell asleep, woke up to the sink full and I didn't even eat dinner but I have to do the dishes.\",\n",
              " 'That old lady is cray cray #scared #BellaIsSoCute  #Empire',\n",
              " '@Jack_Septic_Eye Grass growing simulator is offended',\n",
              " \"@SopanDeb @johnrobertsFox @azizansari Let's not stereotype all South Asians as relentless beat reporters.\",\n",
              " \"#EFT is the single most effective tool I've learned in 40 years of being a therapist-Dr. Curtis A. Steele (psychiatrist) #stress \",\n",
              " '@residentadvisor thanks for getting back to me, exemplary customer service for a loyal customer #jk  #residentadvisor #poorservice',\n",
              " \"@jessbr0ughton don't be shy next time! We're a cheery bunch. :) \\\\n\\\\nSam. X\",\n",
              " 'Coulda sworn it was Interview With A Vampire. Hmmm......Mandela Effect anyone? \\\\n#interviewwithavampire #annerice #books #horror #ilovevamps',\n",
              " \"I don't like pineapple I only eat them on pizza, they lose the sting when they get cooked.\",\n",
              " \"If you ain't shaking no ass, don't ask me for my liquor. Rule #1..\",\n",
              " '@RealSkipBayless Your opinions on sports is dreadful',\n",
              " '@rickygervais my first time in Slough so checked out the new station floor #sad #LifeOnTheRoad',\n",
              " '@RealBD_ @ReyesAverie 47 unarmed blacks killed by white cops in 2015. That many die every month in Chicago wheres the ',\n",
              " \"Day 9 and I am elated because I'm taking PTO tomorrow so I'm doneeeee. But:\",\n",
              " 'this Mac update has me some kind of apprehensive.',\n",
              " '@darwinwatersons @pennyfitzger31 @gumballwatter15 ok but why tomorrow a horrible day, my day was great!',\n",
              " '@gayla_weeks1 I try not to let my anger seep into reviews, but I resent having my time wasted on books like that. Time is precious.',\n",
              " 'Whatt a trailerrrr !!! @karanjohar @AnushkaSharma #RanbirKapoor #AishwaryaRaiBachchan i am COMPLETELY BLOWN !!  #longingformore',\n",
              " 'A @FirstBSA not turning up? Why am I not surprised. Late for work again! #fuming',\n",
              " 'When you get lost in a neighborhood and have to use the gps on your phone to find your way out. #lost #GoogleMaps #blondmoment',\n",
              " 'I think they may be ',\n",
              " 'Lost without my Mom 😢 plus tired, sick and full of cold is just another day in paradise..... #upset #unwell #missyoumommybear 💖💖',\n",
              " '@bruins_514 @gorddownie @thehipdotcom It would be #TragicallyHip if they can #help @TOYSFORASMILE make #hospitalized  #sick #kids #smile 😊✌❤',\n",
              " 'I remember when Rooney wanted to leave United and the fans threaten to kill the man and bare junk... wanna regretting that now? 😂😂',\n",
              " \"i don't understand ppl who save wasps , next chance that lil dude gets he gnna sting ur grandma\",\n",
              " \"why won't you let me go? do i threaten all your plans? im insignificant\",\n",
              " 'Feel the wrath of my air-dropped pamphlets!',\n",
              " '@DocBellsSwan *peers down at you, eyes crinkling with mirth and affection* I do love ye so, my bonnie Belle.',\n",
              " \"#BridgetJonesBaby is the best thing I've seen in ages! So funny, I've missed Bridget! #love #hilarious #TeamMark\",\n",
              " 'Great to meet @BrightonChoir @MJParanzino tonight. What a lively and enthusiastic bunch! Look forward to working with you again!',\n",
              " \"well my day started off great 🙃 the mocha machine wasn't working @ mcdonalds.\",\n",
              " 'Google caffeine-an sprightly lengthening into the corridor re seo: WgJ',\n",
              " 'Gen 8:21 NIV—The Lord smelled the pleasing aroma and said in his heart: “Never again will I… lifelong depravity',\n",
              " '@ExpressScripts u shd b embrrssd. u jack up my bp meds twice and it will still take 3-5 days? Not express at all. #expressscripts ',\n",
              " 'It takes a man to suffer ignorance and smile. Be yourself, no matter what they say. #sting',\n",
              " '@KMunie7 @KaranEsch Helluva lot more animated than they were for the actual game &gt;.&lt;',\n",
              " \"Despite my sharing O'Neill's article, what saddens me about the Gazza case is there seems to be more fury about the sentence than the remark\",\n",
              " '@mtailor “20% Better Than a Tailor”? Least a tailor would know #navy vs. #blue. $500 and 4 weeks for an #innacurate suit? ',\n",
              " 'How on earth can the projection of all that is good and happy and true in my soul be a poisonous fucking snake? #patronus #adder #offended',\n",
              " 'Patti seems so sad. She stamped and ran behind the sofa. We will have to give her plenty of love and affection...more than usual. ',\n",
              " '@WWE is the live event Brock vs Orton 2 this Saturday on the WWE Network? If not it needs to be! :) #wwe @RandyOrton @HeymanHustle #revenge',\n",
              " '@RiotzXVl papercuts sting and stub ur toe last for like 10 secs',\n",
              " '@smendler (2)  Watch out for ppl who have been filled w/ impotent rage over time - they can be led to do just about anything',\n",
              " '@tbergg1 mine are good rn, gonna be horrid after next week',\n",
              " 'Watch this amazing live.ly broadcast by @kana_blender  #musically',\n",
              " \"@twojacksdetail @bluelivesmtr Very rare an officer just shoots without regard. They don't want that on their conscience. #incite \",\n",
              " '@bennymcnugget Very sad and upset and idk :/',\n",
              " '@OrbsOfJoy plan a date... like a date u find pleasing or smth. fuckign\\\\n\\\\n10/10. because the child will grow to be a ten out of ten',\n",
              " 'ya girl is ',\n",
              " '@itejasmehta @QTalker My pleasure 😊',\n",
              " 'Even in an incomplete state, the Ten-Tails possesses immense physical strength and is remarkably fast, despite its tremendous size.',\n",
              " 'Watch this amazing live.ly broadcast by @haythatjamile8  #musically',\n",
              " 'I need to stop second guess myself and just go with the first thought and go with it. #relentless',\n",
              " '@H0lliejburrows Congrats beautiful 😘',\n",
              " \"@callmekarizma I take a huge nursing school test today and I'm so nervous\",\n",
              " \"says, who are you to compared me with the others; I'm just human. #lit #fire #burning\",\n",
              " \"She'll be bribing her parents with hearty laughter and giggles :) #Loveet\",\n",
              " 'Learning to trust God can quiet a troubled &amp; restless heart, bring peace to a weary soul, &amp; eliminate the hopelessness that #addiction is!',\n",
              " 'Absolutely can not believe the generosity pouring out for us, but Id give everything I have for Nick to be healthy and happy. #lost',\n",
              " 'The amount of laughter ready to leave my body if United lose is unreal',\n",
              " \"Mou is too jovial and trying to impress those players too much. No player is bigger than manutd. SAF won't tolerate all this bs @ManUtd\",\n",
              " 'Recording some more #FNAF and had to FaceTime my mum to let her know I was okay after I let out a high pitched scream 😂  #suchagirl',\n",
              " \"Gonna be a loooooong year as a Browns fan. Longer than normal and that's #sad\",\n",
              " '#Depression has you wanting to change the past, #anxiety has you focusing on the unknown future. Neither are about living in the present.',\n",
              " \"My cell won't hold a charge 😢 #sadness So should I...\",\n",
              " \"@KingJames @chrisbosh\\\\n To good hearts I lost my job I'm Responsible 2 families My Information in profile even dollar if can’t just Re-tweet\",\n",
              " 'the\\xa0Lord\\xa0turn his face toward you and give you peace. Numbers 6:26 #truth #trust #promise #calm #justice #great #mighty #protected #delight',\n",
              " '#PiersGough on thoroughly lively and imaginative developers—“Sager have always challenged us to do better and do better.” @IslingtonSq',\n",
              " 'I absolutely love having an anxiety attack halfway through a family meal',\n",
              " 'What if.... the Metro LRT went over the Walterdale?!?! 😂 #yeg #levity',\n",
              " '@OilersFanSean yup I feel dirty cheering',\n",
              " \"What's good is that we already hit rock bottom, even though I'm about two more seasons away from new depths of despair. #playoffs? #NJDevils\",\n",
              " '@PixelMonsterYT @TeamGE0 @IZEDEPTIC @ztumtum @CrimtideTV @LtGrandslam @Slinkercorn Bahahahaha Dean looks hilarious and damn I got fat',\n",
              " \"@Fatumoriginal there's no sitcom better! If u can't laugh at Sheldon or Leonard then u are sober for real! No two ways about it\",\n",
              " '@NRO @Acosta @CNN @realDonaldTrump remember when NRO gave CNN grief about their relentless HC email crusade? me either.',\n",
              " '#FF \\\\n\\\\n@The_Family_X \\\\n\\\\n#soul #blues &amp; #rock #band\\\\n\\\\n#music from the #heart\\\\n\\\\nWith soul &amp; #passion \\\\n\\\\nXx 🎶 xX',\n",
              " '@SaraLuvvXXX : Whaaaat?!? Oh hell no. I was jealous because you got paid to fuck, but this is a whole new level.  #love #conflicted😬',\n",
              " \"for an lgbt person to tell someone else that how they identify isn't valid is so sad and against everything we should stand for\",\n",
              " \"@Theresa_Talbot @fleurrbie Haha...sorry about the dreadful puns... I need to get out more....I've been cooped up lately...\",\n",
              " \"@BlurtAlerts 'the darkest of nights can be bright, the solemn of faces lights up with a smile'. -@Totemprince believe in me, as I do in you\",\n",
              " '@LPDonovan this is why I think his pre prepped debate answers have the potential for hilarity',\n",
              " \"My wedding is in two weeks and I'm actually really nervous. I just want things to go right, I don't want to get sick or get canceled ;;\",\n",
              " 'Decide to stop being afraid. To just stop. What are you now free to do?\\\\n\\\\n#brave #free #honest #healthy #happy #life #living #optimism #love',\n",
              " \"@asda if I wanted GREEN POTATOES, a bottle with the tag still on, plus soaking wet items delivered - I'm winning today-sadly I didn't \",\n",
              " \"A joyous first webiversary/web mitzvah to Smithsonian's @WeiPoints!! @brianwolly @jackie_mansky @bethpylieberman @bilbo @mazeltov\",\n",
              " \"@LucidHurricane_ wait, you mean he wasn't armed with a book? #shocking\",\n",
              " 'Swear I got the most playful ass bf ever 😂🙄',\n",
              " 'Half past midnight, loud banging on our front door, been told about new rape cases in Edinburgh today  #nosleep',\n",
              " 'A cheerful heart is good medicine, but a crushed spirit dries up the bones. A wicked man accepts a bribe in secret to pervert  justice.',\n",
              " '*Sigh* #depression #saddness #afterellen #shitsucks',\n",
              " 'I blame the whole season on Natalie! The season would have been so different had she not turned her back on her alliance! #pissed #bitter',\n",
              " \"@PerfectQuartz She's jogging a bit to stay beside her, puffing her cheeks with a huff each time. 'Oh-- jeez Jasper, why don't you —\",\n",
              " 'It is beautiful here! I will not falter.',\n",
              " \"i bet dat dog eating name brand cheerios. cant relate. i eat cheery O's\",\n",
              " '4-2 Canada final tomorrow #WCH #Predictions #optimism #Canadian 🇨🇦',\n",
              " 'Why does @dapperlaughs have to come to Glasgow on a night I am working. I am fucking gutted, been waiting for an appearance for ages ',\n",
              " '@doranadal @JaneForRafffa #big-smile #great post #greatRafa #loveRafa',\n",
              " \"You know what's great about #GBBO ? Contestants helping each other, cheering each other on. So important.\",\n",
              " 'I have a fear of failure but no urge to be productive',\n",
              " \"#TerrorStatePak we r confirm that #navazsharif is post graduate distinction student of university of #terrorism. He can't spare himself.\",\n",
              " '@Ganypede I notice that nice people believe in a nice god and horrid people believe in a horrid god who happens to hate everybody they hate.',\n",
              " '@Jchawes What is your favorite #horror movie? #ghosthunters',\n",
              " \"I'm at the point in my life that I'm playing Christmas music in my room because i need winter and joyful times rn\",\n",
              " \"If you love something, let it go. If it comes back, it is yours. If it doesn't, it never will. #sadness #accepting\",\n",
              " '@EurekaForbes U got to b kidding me. Anu from your firm responded  when I sent the contact details. #terrible #customerexperience',\n",
              " '@_MrAminuddin @ejainews @_AlifH @AhmadFuadAdnan dont play with this master noob u want to win.. #serious',\n",
              " \"When ya'll talkin about you know who I don't know who ya'll talkin bout, I'm on the new shit....chuckin up ma deuces......🔥🔥 #kanye #breezy\",\n",
              " \"Nothings #Working-you're feeling your life's on The Edge_Could go either way #lost all reason for #Living-JesusChristHealsSavesASK #fatloss\",\n",
              " 'Whatt a trailerrrr !!! @karanjohar @AnushkaSharma #RanbirKapoor #AishwaryaRaiBachchan i am COMPLETELY BLOWN !! #awestruck #longingformore',\n",
              " 'i resent being tired and annoyed that the word Wiener is splashed across the news. this should be a slam-dunk for me',\n",
              " 'Rojo is a terrible defender',\n",
              " '@President1Trump The ignorance of the left is shocking',\n",
              " 'Why mfs so bitter',\n",
              " '@jeremycorbyn @magstogether my god is @jeremycorbyn a full shilling? Seriously you need a major rethink or no lab gove in your lifetime #sad',\n",
              " \"Profit are from 5-20% per day to 100-300% per month.Don't hesitate to contact us for the more results! info@fxventury.com\",\n",
              " 'I feel like I am drowning. #depression #anxiety #falure #worthless',\n",
              " \"462 appearances in PL and 200 goals!! 2.31 games per goal. That's very nearly a goal in every 2 games #crap 😂😂 🙄🙄🤔🤔 #Rooney\",\n",
              " 'Africa has unique and tremendous problems with war, overpopulation, starvation and tribalism which makes moving Africa forward hard.',\n",
              " 'Media is so focused on bad news that we forget how much more great/good things happen daily. #Thinkpositive #goodnews #optimism #goodmorning',\n",
              " \"@CallofDuty how do u guys determine teams? Cause I'm 80% on shitty teams when I play and I'm fuckin over it #cod \",\n",
              " 'LOVE LOVE LOVE  #fun #relaxationiskey',\n",
              " '@ditzkoff @jpodhoretz There’s not a metaphor in the world that will get at the hilarity of jpod pronouncing on humor.',\n",
              " '@KissFMUK rescue my morning, turned up to the gym an hour early before it opened! #nightmare ☝️',\n",
              " \"Hate knowing I have to get up at half 5 for gym in the morning it's so depressing\",\n",
              " '@rizikxo @estherolo_ @Corinnetuc17 @ING Her reasonings behind this.  ',\n",
              " 'A pessimist is someone who, when opportunity knocks, complains about the noise #mikeshumor',\n",
              " \"@AdamAaronovich Well, there's no need to sulk. You can always request a song, you know.\",\n",
              " 'i love those #memories that randomly pop\\\\ninto my head , have me #smiling like an\\\\n#idiot for ages \\U000fe334',\n",
              " 'When we give cheerfully and accept gratefully, everyone is blessed.\\\\n»Maya Angelou\\\\n\\\\n@DrMayaAngelou #RIP #MayaAngelou',\n",
              " 'Leveled at the half. Much better offense expected in the second half',\n",
              " \"@yupdats_jess @nereriveraa_ this doesn't concern you OR your sister. So show up if you want too lol.\",\n",
              " \"God's love spring.Of one dat sunk his whole estate for d paltry bribe,of a single apple–n yet proud of our ancestry?❤️🗿\",\n",
              " '@MarissaYerton wanna shake my tree??? 🍑🍑🍑🍑',\n",
              " \"@foodfromthesky Hi! I'm curious as to what happened to your growing space in crouch end? Is it just empty?!\",\n",
              " 'Some People hate nothing more than a happy confident person. Never mind #happy #confident',\n",
              " \"It's easy to hold a grudge harder to let go.\",\n",
              " 'Good morning, Trondheim! #optimism #productivity ⛅️❤️🇳🇴🏢💻🖥🏋🏻💪🏼📺🍿',\n",
              " '@gurrie_j thanks for making me super sad about Pizza. #sad #freepizza',\n",
              " 'How I Murdered Your Mother #SpookyTv #horror',\n",
              " '@wizkidayo Bro u just dey burst my brain Bro I need u 2 pls end everything rift BTW u nd my hommie davido pls Bro 4 d sake of luv.',\n",
              " \"@DonnyMurray I'm just no offended by stuff.We're gettin a situ where folk moan about the Polis/SNP but then happy to snitch when offended...\",\n",
              " '@Adrian_Specs Far from safe and staid I found it horribly OTT at times while everyone seemed to be trying just a little too hard. Not for me',\n",
              " 'Playing at September 21, 2016 at 09:30PM: Demetria Taylor  #blues',\n",
              " \"It's rained every day since June 30. That's 13 #dreary, #soggy days in a row. #auckland\",\n",
              " 'That feel when you travel 700 miles to pick up a form that arrives in the post two days after you leave. #fume',\n",
              " \"Do not grow weary in doing good.'\\\\n\\\\n-@billclinton\",\n",
              " \"Did men call themselves shy and mean it? So I reassure him that I'm just making sure he's a good investment and alla that 🙄\",\n",
              " 'Your #smile is always yours, we make it as easy as possible for you to get the best orthodontic care no matter when you need it.',\n",
              " 'The best #revenge is to move on, get over it, and continue to #succeed. Never give someone the #satisfaction of watching you #suffer....!!!',\n",
              " \"@p4pictures it would be great but what if the card crashes 😱. It's happened to me twice #nightmare\",\n",
              " \"@katethecursed @shannonrdk LOL this day is too gloomy for being people, should've canceled and stayed in bed\",\n",
              " \"@JackCurryYES he's just lucky...bad pitchers...#WHATEVER...ElKracken is #legit #future #bright #gottawearshades #LetsGoYankees\",\n",
              " \"And girl I love your perfume there's something bout you 🎧 \",\n",
              " \"@stolencarRSA What's the make so we can panic 😃\",\n",
              " \"@aradsliff don't know I'm from nj we are the worst on purpose. #laughter\",\n",
              " \"There is no dark side in the moon. In fact, it's all dark.'\\\\nGerry O'Driscoll at the end of 'The Dark side of the Moon'\",\n",
              " \"$100 says Teufel is 'reassigned' within the organization before next year, but I wish it was sooner... #Mets #thirdbasecoach  #lgm\",\n",
              " '@CNBCFastMoney Harwood gleeful at these new numbers, bet your money on this reporting...look to lose it...@HillaryClinton liarthiefscoundrel',\n",
              " \"It take so little to make a child's life joyful, why do we work so hard to make their lives hell? @MiddleEastEye Peace\",\n",
              " '@DorH84607784 Oh FANTASTIC, I bet it was super exhilarating  🤗😍',\n",
              " 'the day they disclosed they caught her googling cholroform we were fucking aghast',\n",
              " '@Greener105th so you are astounded that I respect blacks to vote like any other human? u talk so down towards them. What bigotry on display!',\n",
              " 'The Pats are awesome. Belichick is awesome ...they just are. ',\n",
              " '#Forgiveness\\xa0might make us look #weak, but the weakest person is the one who holds #anger, #hatred, and #revenge.',\n",
              " \"I told myself i wouldn't talk about this but i need to bring it up. I'm slightly bitter about the tøp cover of cancer\",\n",
              " 'alternate reality where @PoetryFound has a comments section and you can give poems a cheery thumbs up or a disappointed thumbs down',\n",
              " \"What's the worst affliction that you or someone you know ever convinced yourself you had?\",\n",
              " '@andreasarahco do you actually heely on campus bc this should scare you',\n",
              " 'Your #smile is a messenger of your good will.',\n",
              " \"what to wear Friday \\\\nspeaking in front of 100's.   #nervous\",\n",
              " '@Kim_is__bored exactly what I have been saying on fb.. #bitter',\n",
              " 'Treat joy and laughter as a form of worship and spiritual warfare!  #live #victory #worship',\n",
              " \"Professor: introduce yourselves and say one interesting fact\\\\n\\\\nHi I'm Ethan and the Sun will engulf our planet in a fiery explosion one day\",\n",
              " 'I was having a #BadDay and i went on #YouTube and watched @domoandcrissy reaction to old pics. #Thanks #ladies for the #laughs',\n",
              " 'I sulk too much for my own good.',\n",
              " '@ShannonBeador we know the truth about her, the public is figuring it out. Her words mean nothing. #unhappy #mean #troubled #vile ',\n",
              " 'Watching It Follows.  This is a super freaky movie.  #horror #scary',\n",
              " \"I'm just a fuming ball of anger today 🙃\",\n",
              " '@PuddlesPityP once again you have made me a very happy woman! Thx P and Casey. Sigh. #worththewait #cry #beyootifulll',\n",
              " \"You know you're in love when all you can do is smile whenever you talk about how he is to someone.\",\n",
              " 'But when my mom told me yesterday that it was looking grim and I started driving out there, I was told to turn around b/c she was too sick',\n",
              " '@chutneysupercat hi lovely brownie, MM is calling me tuppytupperware.. its awful',\n",
              " \"You're so thirsty for the chance to disagree w/ the left, that you don't even realize when something is an affront to your bigoted platform.\",\n",
              " 'Need a new outlet for ',\n",
              " \"You can have a certain #arrogance, and I think that's fine, but what you should never lose is the #respect for the others.\",\n",
              " '@Rovers what highlights ? I would imagine you will only have 30 seconds of highlights for the whole season so far #shocking. #venkysout',\n",
              " 'Oh @BentleySystems what hast thou done to thy configurations? #despair',\n",
              " 'Saga: When all of your devices and teles fail just in time for bake off #panic #gbbo',\n",
              " \"You can make excuses or you can make time. You can't make both. #time #regret  #LifeCoach\",\n",
              " '@Lil_PowWow @jweiler0528 More fat = more buoyant. Day 1 water stuff',\n",
              " '@eleanor_binks at least Blake lively and Ryan Reynolds are still together, God bless what a beaut couple',\n",
              " \"There's this Bpharm4 guy Eish that guy brings anger into my life. When I see him nje like darkness fills me @RamatsobaneM will know\",\n",
              " '@goofoffartiste Ah, the Grand Old Paradox that is fearing the encroachment of the state but loving unconditionally its paid enforcers',\n",
              " 'Skiving #Freshers2016 for a me day! #nails #sunbeds and #gym 😉💜👑 #priorities #student #studentnurse #pampered #happy',\n",
              " \"Quinn's short hair makes me sad. \",\n",
              " \"If I were assured of your eventual destruction I would, in the interests of the public, cheerfully accept my own.' Sherlock Holmes\",\n",
              " \"The #pessimist complains about the wind; the #optimist expects it to change; the realist adjusts the sails.' - William Arthur Ward\\\\n#IGNITE\",\n",
              " '@bolain_branden @GrimsToyShow grim should find broken Matt hardy because he can delete everything lol',\n",
              " \"Final night shift coming up.  I won't miss it but I will miss my work pals and the hysterical laughter that gets us through the night\",\n",
              " 'Having a terrific Tuesday? Crush it today with the Power of 4. Treat your internet like Pizza =D \\\\n#PowerOf4',\n",
              " 'come to the funeral tomorrow at 12 to mourn the death of my gpa',\n",
              " '@LoisJoanneLane Wagging his tail at the praise, he paused, tilting his head as she took the frisbee from him, letting out a playful -',\n",
              " \"I don't know how people can binge watch horror films ...ALONE!😓😰\",\n",
              " \"Transparency and openness ' is a dull sell for a fans group - want more verbs like buying, defending, building and securing.\",\n",
              " 'Im think ima lay in bed all day and sulk. Life is hitting me to hard rn',\n",
              " '@Nataliem55 sadly, war has often been the factor that jump starts US economic growth',\n",
              " '@strictlysimilak something about English sparkling wine would be good. Or farmhouse cider. Or Italian cocktails. Thanks.',\n",
              " \"It's meant to be!! #happy #happy\",\n",
              " '@AlaskaGurus @adventuretweets agreed! 😍 an awe to meet such beautiful, powerful animals.',\n",
              " 'i miss the guy who always make me sulk',\n",
              " \"and I'm up from a dream where I said something really retarded on twitter and it got like 10000 retweets #nightmare\",\n",
              " \"Harking back to 2012 - DT's challenge to @POTUS...I will give...DT a hearty thank you...if he will release his tax returns....\",\n",
              " \"Tonight's #DragRace #AllStars2 episode GAVE ME LIFE! Yaassss queens! #teamalaska #teamkatya #revenge #bwahaha\",\n",
              " '@JessicaLRohlik you seriously need to pop out of some curtains while matt is filming  to scare the bejesus out of him.',\n",
              " '@rumanaa_r @DaiIyRoasts what did I do to offend you? 🙄😭😂',\n",
              " \"@DinoHyogi Hakyeon takes all the attention happily, perching on Wonshik's shoulder to sulk when Jaehwan accidentally caused a tiny explosion\",\n",
              " '@TimmyLDN Looks dreadful... 👀',\n",
              " \"@ClaretNBlues forest gate u could see he was a bully cunt big bald cunt his mates looked in shock when I hit him and didn't do shit when he\",\n",
              " 'The majority of my clients have family/ partner/ day job/ life AND write their beautiful books. #awe #gratitude #HARDwork',\n",
              " 'Hell hath no fury like a bureaucrat scorned. ― Milton Friedman',\n",
              " \"Came in to work today 1.5 hours late.1st thing I hear: 'Ma'am,the big boss has been waiting for you in his office.' #panic #hateBeingLate 😩😪\",\n",
              " \"That's fucking horrific defending from Schalke\",\n",
              " 'Im not a #nervouswreck, Im a  #pileup. #GoingCrazy #HelpMe #Insane #Antisocial',\n",
              " 'Editing a father of the bride speech. At 3 minutes in she tells him to wrap it up. He goes on for 12 more minutes. ',\n",
              " \"Jorge deserves it, honestly. He's weak.  #90dayfiance\",\n",
              " 'Never been so relived 😆',\n",
              " \"@bringyouhome2 I'm about to fly into a fit of rage it's not FAIR\",\n",
              " \"Finally finished this term's class book, Sky Hawk by @gill_lewis kids in tears and actually cheering at the end #good read\",\n",
              " \"@SmileWhileYoDie @KiloSierraC @h0wabouthannah @Drops I'll be okay don't worry\",\n",
              " '@howcaniapply @radioscarboro Much to my delight!',\n",
              " \"@hesham786 that's the spirit \",\n",
              " '@Danger_McLovin Well done! 😀 (your twins Charlii and Cadance)',\n",
              " \"I'm so excited to see Nat tonight 😍😍.. And how happy and cheery she is! &amp; then I'm even more excited for her to get on social media 😍 #BB18\",\n",
              " \"@Toucherandrich there was a US diver named steele johnson. i'd like him barred from the olympics. #offended\",\n",
              " 'Function in regard to camshaft exhilaration companies: CQHshJSI',\n",
              " '@BookOfKaells @quennell3_ no blues?!',\n",
              " \"All this makeup is going on sale....\\\\nBut I ain't got the funds. #heartbreaking\",\n",
              " '@escotony sorry to hear about your experience, however, please do not hesitate to contact us via live chat or email at askdysonUS@dyson.com',\n",
              " 'whats with these boxes when i search google on chrome  #distracting',\n",
              " \"@BigDaddyx47 awe I'm sorry! I have 2 dogs 3 cats &amp; a snake\",\n",
              " 'Connivers blind to existential fury',\n",
              " \"@safaridjh but it's so aesthetically pleasing omg\",\n",
              " \"why is @Iongroadhome so aesthetically pleasing every single day they're even pretty when they just woke up, when they're tired, just. always\",\n",
              " \"If Angelina Jolie can't keep a man no one can. Today we mourn because Love is dead\",\n",
              " \"Think Val might be going this week. I'll have to take the rest of the week off work to mourn. I'm sure they'll understand. #GBBO\",\n",
              " 'Just watching crimewatch what kind of sick fuck touches 6 year olds 😡😡😡😡 shit like this makes me fume!!!',\n",
              " 'I got fever highs\\\\nI got boiling blood',\n",
              " \"@mik61scot @longshankseddie @ROSAZAMBONINI @YouTube I thought it was because she once sunk her teeth into something that's meant 2b sooked\",\n",
              " '@davidplotz @Commentary She writes with sort of the same playful cynicism that you do! :)',\n",
              " \"LORD MAKE ME AN INSTRUMENT OF YOUR PEACE — Where there's hate, let me sow love — Where there's injury, pardon — Where there's despair, hope\",\n",
              " '@BBCNews 😝 scared of their own horror story they wrote, afraid of the #terror they spread, will #europe start WW3 in 2017 anniversary of WW1',\n",
              " \"But the lady at the store said I had nice eyelashes so that's good, right? #optimism? @verizon\",\n",
              " \"@AlamRahman today which can impact the signal, I'm afraid :-( Our engineers are working to have this resolved by this evening and you'll\",\n",
              " '@mattwruff sadly there is constitutional RIGHT to have abortion. Yet there is constitutional RIGHT to life. Safety net protects those rights',\n",
              " 'blues bar',\n",
              " \"#ahs6 every 5 minutes I've been saying 'nope nope I'd be gone by now.' 'MOVE' or 'GTFO' so thank you for the #fear\",\n",
              " 'Band members wanted. Contact me #NewcastleGateshead #Sunderland #musicians #musicbusiness #musicislife #music #musically #band #blues #folk',\n",
              " \"Mind if I tag along?' She asked cheerfully, sweeping a lock of hair behind her ear. 'I want to see if you've really got • @DitheringWizard\",\n",
              " \"Dentist just said to me' I'm going to numb your front lip up so it'll feel as if you've got lips like Pete Burns!...... She was right #pout\",\n",
              " 'Paranoia is a fear every races has',\n",
              " 'I was so shy freshman year this guy introduced himself to me by asking if I spoke any English',\n",
              " '@huwellwell One chosen by the CLP members! MP seats are not for people to dole out to their mates, we elect candidates. ',\n",
              " ...]"
            ]
          },
          "metadata": {},
          "execution_count": 9
        }
      ],
      "source": [
        "train_text\n"
      ]
    },
    {
      "cell_type": "code",
      "source": [
        "train_label"
      ],
      "metadata": {
        "colab": {
          "base_uri": "https://localhost:8080/"
        },
        "id": "5p3Mhl7Y__SA",
        "outputId": "9126f4b4-c5f4-43b9-e28a-5c7bc709f22a"
      },
      "execution_count": 10,
      "outputs": [
        {
          "output_type": "execute_result",
          "data": {
            "text/plain": [
              "array([[0., 1., 0., ..., 0., 0., 0.],\n",
              "       [0., 0., 0., ..., 0., 0., 0.],\n",
              "       [1., 0., 1., ..., 0., 1., 0.],\n",
              "       ...,\n",
              "       [1., 0., 1., ..., 0., 0., 0.],\n",
              "       [0., 0., 0., ..., 0., 0., 0.],\n",
              "       [0., 0., 0., ..., 0., 0., 0.]])"
            ]
          },
          "metadata": {},
          "execution_count": 10
        }
      ]
    },
    {
      "cell_type": "code",
      "execution_count": 11,
      "metadata": {
        "id": "SRZ651ouifrG"
      },
      "outputs": [],
      "source": [
        "test_text = test_df['Tweet'].tolist()\n",
        "test_label = test_df.drop(columns=['ID','Tweet']).to_numpy()\n",
        "test_label = np.where(test_label == \"NONE\",0,test_label).astype(float)"
      ]
    },
    {
      "cell_type": "code",
      "source": [
        "test_label"
      ],
      "metadata": {
        "colab": {
          "base_uri": "https://localhost:8080/"
        },
        "id": "A78-fPbkN2sW",
        "outputId": "10710fbc-5d76-4850-f909-139d8995835b"
      },
      "execution_count": 12,
      "outputs": [
        {
          "output_type": "execute_result",
          "data": {
            "text/plain": [
              "array([[0., 0., 0., ..., 0., 0., 0.],\n",
              "       [0., 0., 0., ..., 0., 0., 0.],\n",
              "       [0., 0., 0., ..., 0., 0., 0.],\n",
              "       ...,\n",
              "       [0., 0., 0., ..., 0., 0., 0.],\n",
              "       [0., 0., 0., ..., 0., 0., 0.],\n",
              "       [0., 0., 0., ..., 0., 0., 0.]])"
            ]
          },
          "metadata": {},
          "execution_count": 12
        }
      ]
    },
    {
      "cell_type": "code",
      "execution_count": 13,
      "metadata": {
        "id": "wEngrnlqifmE",
        "colab": {
          "base_uri": "https://localhost:8080/"
        },
        "outputId": "8df3728f-87fc-4a2a-f943-a8cba83eb760"
      },
      "outputs": [
        {
          "output_type": "execute_result",
          "data": {
            "text/plain": [
              "['@Adnan__786__ @AsYouNotWish Dont worry Indian army is on its ways to dispatch all Terrorists to Hell',\n",
              " 'Academy of Sciences, eschews the normally sober tone of scientific papers and calls the massive loss of wildlife a “biological annihilation',\n",
              " 'I blew that opportunity -__- #mad',\n",
              " 'This time in 2 weeks I will be 30... 😥',\n",
              " '#Deppression is real. Partners w/ #depressed people truly dont understand the depth in which they affect us. Add in #anxiety &amp;makes it worse',\n",
              " '@POLITICOEurope Interesting choice of words... Are you confirming that governments fund #terrorism? Bit of an open door, but still...',\n",
              " '@ananavarro CNN should, for sure 😀',\n",
              " 'Distance yourself once stretched by your friends impose! #serious #loveyou #notseriously',\n",
              " 'Be happy. Be confident. Be kind.\\\\n\\\\n #KissablesLoveSMShopmag\\\\nAllOutDenimFor KISSMARC',\n",
              " 'My visit to hospital for care triggered #trauma from accident 20+yrs ago and image of my dead brother in it. Feeling symptoms of #depression',\n",
              " \"Thanks to Dollis Hill's relentless and tenacious PC Leach and colleagues!\",\n",
              " \"@xxBambsxx @OriginalFunko @AshWillBradley @Elliewhitt123 I've retweeted and followed #good luck @AshWillBradley @OriginalFunko\",\n",
              " '@MPSNutrition Welcome to #MPSVT! We are delighted to have you! #grateful #MPSVT #relationships',\n",
              " 'What makes you feel #joyful?',\n",
              " 'Bitter afternoon,no sweetness at all #Lenovo',\n",
              " 'Some people just need to learn how to #smile 😁 and #laugh 😂😂 #live #life',\n",
              " 'We are all in this together and we #sink together or we #swim together',\n",
              " 'Life will be more #beautiful when you start seeing things differently.',\n",
              " 'i am revolting.',\n",
              " 'Rin might ever appeared gloomy but to be a melodramatic person was not her thing.\\\\n\\\\nBut honestly, she missed her old friend. The special one.',\n",
              " \"wow, i really can't believe four years already went by. four years. jeez. we miss you big guy #4yearswithoutcory #corymonteith #glee\",\n",
              " '@rtenews ...middle class may sink without further struggles into the working class where we belong... George Orwell 1903-1950',\n",
              " 'Remember watching a talk show for class 1 day about the Charlie Hebdo aftermath.. guests had a lively debate over religion/free speech.. 4/x',\n",
              " 'All I can hear from the other room in my house is my brothers very seriously discussing the changes that need to be made to the ',\n",
              " '@AAnworislam59 Happy birthday #beautiful pussy',\n",
              " 'In need of a change! #restless',\n",
              " \"@ShadGandel i'm glad that despite my weeks of being MIA we can still talk about the most idiotic shit\\\\n\\\\nTURN AROUND BRIGHT EYES\",\n",
              " '@mattsamatt @jasonosia #cmbyn does screen  August 4 &amp; 6 at #miff',\n",
              " \"@FS1 Get Donovan out of your soccer booth. He's awful. He's bitter. He makes me want to mute the tv. #horrid\",\n",
              " '@PUBATTLEGROUNDS how can u have sold so many copies but ur game has so many fucking bugs and mad lag issues. Optimize ur shit soon. ',\n",
              " 'Sadly I do not have a garden so I watch just for Nigel and Nellie #beautiful  #gardenersworld',\n",
              " 'Pressured. 😦',\n",
              " 'Yes #depression &amp; #anxiety are real but so is bein #grateful &amp; #happiness \\\\nI choose how i wanna live MY life not some disorder',\n",
              " \"People who say nmu are the worst, something has to be going on, tell me I wanna know bout your life that's why I fucking asked, I care 😤\",\n",
              " '@RichardTBurnett The hatred from the Left ought to concern everyone----who wants a police state-the left, so than can spy on all of us.',\n",
              " '@AGT #shocking loss of talented young man#prayers#pray for his family',\n",
              " \"Its #amazing watching various news outlets showing mixed crowds of ppl watching #Eclipse with NO #racial tension.. #MSM can't hide this!\",\n",
              " \"That moment when people say you don't need medicine, it's mind over matter. You need to stop doing that. #bipolar \",\n",
              " 'im back lol #revenge',\n",
              " \"@wine_mum_ @Bob_Lawblaw Please. Don't insult Goths.\",\n",
              " \"@BB19Rewind What an F'ing liar \",\n",
              " '@hitRECordJoe Rectify: a man must rediscover life after being released from death row for a crime he may/ may not have committed. #brilliant',\n",
              " 'May or may not have just pulled the legal card on these folks. #irritated',\n",
              " \"If I'm talking about the Asian world. Club life.\\\\n\\\\nI'd probably say I might resent dorks. Or like less popular. I don't know the word.\",\n",
              " \"Me: 'I miss your personality,will it come back?' Him: 'I'm sorry.I'm me. You be you.' #Sad #depressed #longdistancerelationship\",\n",
              " 'Comparing yourself to others is one of the root causes for feelings of unhappiness and depression.',\n",
              " \"@ChelseyyH Hope your first shift back isn't too grim chicken x\",\n",
              " '@ARnews1936 @kdsats72 Americans do not spank their children, and they are a God fearing people who knows the biggest sin is hypocrisy.',\n",
              " '@breakoutEDU,@GooseChase, pirate style witnessed across the district!@burgessdave #backtoschool #engaged  #tlap #LeadLAP #genoastrong',\n",
              " \"The only upside to being deathly ill this week is that I've gotten better at taking pills. #optimism\",\n",
              " 'and you start to think that your new found home will be yours forever, with no threat in sight, until something or someone comes along...',\n",
              " \"I'm gonna start crying and i can't fuck\",\n",
              " \"Fear not @lisajnc1951, God is with you, don't be discouraged, for He is your God, He strengthens and helps you at all time. Is 41:10\",\n",
              " \"Favorite character who's name starts with the letter M?\\\\n #Prisonbreak5  #The100 #GreysAnatomy\",\n",
              " 'The bathroom sink just spat a spider at me.  I turned on the faucet, and a sizable spider flew up out of the drain.  #spiders #fb',\n",
              " \"Today's ECLIPSE was a warm fuzzy for the entire country. A GIANT GROUP HUG❤️😎💕#EclipseSolar2017 #repair #smiles\",\n",
              " \"I'm so nervous I could puke + my body temp is rising ha ha ha ha ha\",\n",
              " '@julyxnthegreat i hope so too.... ☹',\n",
              " 'I cannot see a rational way of bearing a grudge to him for that. I do not. Maybe because I do not live by Netflix and I do not care...',\n",
              " 'And let the depression take the stage once more 🙃',\n",
              " 'I love swimming for the same reason I love meditating...the feeling of weightlessness. ',\n",
              " '@LeaMichele We miss you all with you Lea ❤️💕 #glee',\n",
              " '@AutoBant Is it just me that thinks it looks boring? ',\n",
              " ',, The solar eclipse was really cool.. #inspiring!',\n",
              " \"@Monarch Really??? I've had to hang up! \",\n",
              " \"i would start my process now but i'm too busy enjoying this self hatred wave I'm on\",\n",
              " \"When Jim Sheridan is standing next to you and you don't say A WORD!!! #facepalm #tonguetied \",\n",
              " '@AudaciousBrute_ -- can handle myself.\\\\n[Carl yelled back in fury, blood smeared across his face and clothes. Still holding onto his --',\n",
              " '@shedboy23 @fhathast_tha there was a fair bit of raging folk last night... something to do with pension day?',\n",
              " '@realDonaldTrump No #racism, no #hatred , no #sectarianism  ... Only yes to love',\n",
              " '@PlumRemson Sorry to offend. Just using some different levels of communications. I hear memes are popular in your circles.',\n",
              " 'irate because i broke my arm and had to sit out during the games 2017-07-11 17:46:15.109 ; Two wrongs dont make a right',\n",
              " 'sleep is and will always be one of the best remedies for a tired and weary soul',\n",
              " '@Topshop where is my order? Placed on Monday via express delivery, yet no sign!!! #annoyed #hurryup Your customer service queues are #awful',\n",
              " 'yukwon no video do zico the world is shaking',\n",
              " 'Obama and Biden would have watched the #Eclipse2017 together and Pete would have shared an awesome photo of them in their glasses. #cry',\n",
              " 'BUT, I have offended so many people with the idea that conflicts and value judgments are separate that we need to have a talk.',\n",
              " 'Tweet at me some cool #madden clips u got',\n",
              " 'Any girl want a load? ;) dm me #horny #cum #snap #dmme #cumtribute #cocktribute',\n",
              " '@SandraOldfield I LOVE the comics! #hilarious',\n",
              " 'Still no word yet, on wether I still have a job at the hospital I work at. Deletion notices come out soon. #stressful #upsetting',\n",
              " \"There's no one right way to live life but: be kind, be genuine, be honest, be open. #Love yourself &amp; #laugh often. #Mindfulness @HealingMB\",\n",
              " \"'if you really want something and you do nothing about it,you have no right to pout around if you don't get it.Kasi 'di ba you did nothing?'\",\n",
              " 'I need to start doing something with myself. #lazy ',\n",
              " \"@Bell - spelled exactly how it makes you feel 'better eat land line'. Talking to my mom this week has been impossible. #goodservice #rage\",\n",
              " \"@20committee John, what do you make of DJT's silence? He would usually be foaming at the mouth right now. Maybe he's constipated.\",\n",
              " 'Only in #whitehorse do you see a hubcap going down 2nd ave all by itself #yukontumbleweed #yukon ',\n",
              " '@Alibenzkr @floatingboat Memento ending 😄',\n",
              " '@muqryyy happy birthday machaaaa 🎈🎉🎊 stay awesome and murah rezeki selalu 👍🏻',\n",
              " \"When you should be working, but you're shopping amazon prime deals instead... 😦\",\n",
              " \"Meditation is taking out the garbage. Tuning out the thoughts we don't need. Embracing our true self. #yoga #love #smile\",\n",
              " \"Karma is real bitch 🖕🏼you can't just be mean and do horrid things without paying the price 😂\",\n",
              " '@ReporterLaurenB @Examiner Agree with @Examiner or you are of a lower intelligence would be your message there then? #dreadful',\n",
              " '@RealJamesWoods Rumor has you are #wellendowed #awesome! Truth is you are a #big 😲 #notsomuch so you know a bunch of #gaypeople #sowhat',\n",
              " 'Note to self: Don’t get discouraged by what you’re going through. Your time is coming. Where you are is not where you’re going to stay.',\n",
              " \"IK to PMLN: 'Darling, I will haunt you in your nightmares, dressed like a dream.' BEST THING EVER. #GameOverNawaz\",\n",
              " \"OMG we're eating drinking in a restaurant and  so is a baby!!! Quell horror #YummyMummiesAU\",\n",
              " '😍🤤😍🤤😍 #foodie #yummy #halalfood \\\\n(twitter saw',\n",
              " \"hello phy6 i'm stressing over u ayuku na??¿ ☹\",\n",
              " 'There are parts of you that wants the sadness. Find them out, ask them why',\n",
              " 'Are you always looking for quotes of your days? Then follow @kettlewell to learn more!\\\\n #quote  #doubleviz',\n",
              " '@charliekirk11 @DonaldJTrumpJr Little Donnie is heading to jail, rejoice.',\n",
              " '#Bible reading today shows us the Lord has done #great things for us &amp; we are glad. Our mouth is filled with #laughter &amp; tongue with singing',\n",
              " \"psa: if you read while you're laying out you sort of forget about the boiling sun and the sweat poring down your face 🙌\",\n",
              " '@namivague huhu kak help me through all of this ',\n",
              " \"i'm actually trying to find excuses to go out after interaction day on friday but i'm afraid that my mom will scold me even more lol\",\n",
              " 'Dear Emma its my honor to communicate with you directly kindly give me this tremendous opportunity to chat via Whats App 00966504634031 thx',\n",
              " 'Super excited and Counting down the hours until I see @Pink tomorrow night!!! #awesomeness 😍',\n",
              " \"Let's start all over again.....\\\\n#feels #lover #happiness #loyalty #truth\",\n",
              " 'Beyond disappointed with @HeidiSomers clothing line and service. Lulu never asks questions about returns. Not getting money back. #horrible',\n",
              " \"Earth's sixth mass extinction event under way, scientists warn **basically  caused by Islamic Muslim terrorism which Obama dem- rats back*\",\n",
              " \"Some days I feel like I'm going to accomplish everything I've ever dreamed.  Today is not one of those days #nomotivation #rainyday #gloomy\",\n",
              " 'That was spooky! One of those water big roaches was crawling on my back. #terrible',\n",
              " 'Keep a relentless eye on your goals! Perseverance, joyful dedication, and unwavering focus will get you @AmyLeighMercree',\n",
              " 'When @Jaclynhill and @JeffreeStar  snap chats get you through the day w/ their words of inspiration #blessed ❤️💕',\n",
              " \"For every one concept I try to cram into my brain, I feel like I'm pushing out three. #panic\",\n",
              " '“The #optimist proclaims that we live in the best of all possible worlds; and the #pessimist fears this is true.” ~ James Branch Cabell',\n",
              " '@OddNMacabre I Definitely would go the Elm Street way!! More #horror right!?😀',\n",
              " \"Red Sox fans are #mad #onhere - it's almost like their All Star relief pitcher and 1st baseman both left with injuries in this game 🤷🏻\\u200d♀️\",\n",
              " 'She gave me a serious fright #scared #loveMyCat',\n",
              " '\\ufeffmy phone is oppo. but its alway oppocot 😒 those who always startle will know what i mean',\n",
              " '#My #Mind is free of all aspects of #fear and #pain &amp; talk with me to produce #positive thought.\\\\n#affirmation #thought #focus\\\\nPlease retweet',\n",
              " 'Woke up in a great mood, ready to get back to work 😊 ',\n",
              " '@LisaCim @AcaciaEvans This is the best picture I have ever seen! #beautiful #happy',\n",
              " '@Daily_Express He suffers with depression again right wingers treat people with depression as lazy or filthy #ToryBritain',\n",
              " '@dtptraffic - @MCDdelhi has occupied one full lane for toll collection permanently resulting in traffic snarl everyday on UP Link Road',\n",
              " \"I've never been happier. I'm laying awake as I watch @stolenmcments sleep. Thanks for making me happy again, babe.\",\n",
              " 'All these David Brooks sandwich tweets are much-needed comic relief. #hilarious #sopressatta',\n",
              " 'Trere should be more meet cute ccenes where beautiful young people accidenta.ly.start eating the same cruller.',\n",
              " 'Take #photographs of life and write them in #journals #motivation #inspiration #life  #love #inspire #smile #quotestoliveby',\n",
              " \"'Total Lunchgarden' is a grim insult\",\n",
              " 'I wish for my Powers be multiplied and the Insight that I had into their understanding be made clearer #joy',\n",
              " \"@maltsphere @politically_cor @PrisonPlanet @DonaldJTrumpJr There can be no true despair without hope. Isn't that what you're looking for?\",\n",
              " \"#Overheard: 'I don't really like dogs.' I DON'T FEEL SAFE IN THIS PLACE. Clearly a hostile environment!  #bigly #covfefe #TrustNoOne\",\n",
              " '@lukeWHC09 Hahaaa! Was fuming with that 😞😂',\n",
              " '@Haven check in is a pop up stall next to arcade, 2 staff, no alphabetical organisation and an hour long queue.... #greatstart #crap #bored',\n",
              " \"Hailing from Izu Beach, a sparkling ★TWINKLE★ star, it's the newcomer everyone's been waiting for, Yohane♪\",\n",
              " \"Premier League Teams should fear next seasons Arsenal's XI. #coyg #afc\",\n",
              " \"@izs @npmjs It'd be #awesome if we get emoji 😆😇😂😃support in #npm readmes. Readmes shouldn't be that serious. @github has it and it's #fun.\",\n",
              " '@Rinoa11 lel I already know the whole plot dont worry I would have warned you :D man... Cid tho... That bitch slapped Gabranths hand away',\n",
              " 'Youth an embarrassing unavoidable affliction, thankfully temporary. (altered sentence from New York Times book review)',\n",
              " 'They promised I would go blind but I still got 20/20 ',\n",
              " \"@01mattwhite @Football__Tweet @DeadlineDayLive That's brilliant 😂 The music makes it\",\n",
              " 'Amid gloom in IT sector, ATCS expands India operations',\n",
              " 'Cleaning my coffee wear with decanter balls is so therapeutic. #sparkling',\n",
              " 'Aw, bummer. @WckdLbrn (Maura Rankin) blocked me for calling her out as a #bully. Some people just #CantHandleTheTruth, can they?',\n",
              " '@SnoopDogg is the man ',\n",
              " 'Gorkas is angrily unhinged, &amp;lecturing CNN on what?they should cover demanding they go after Hillary Clinton instead of Trump.',\n",
              " \"Request MRI 2 years ago, Neuro only requested last year, I'm still waiting on appointment  #mssucks #healthcareFail\",\n",
              " 'Snorkel time #fury key west',\n",
              " '@tonyposnanski @realDonaldTrump a serious character flaw. Nowhere close to @POTUS44',\n",
              " '@NikkiWoods Start where you are. Use what you have. So what you can. AND do it with a #smile and #confidence. ❤',\n",
              " 'Driving down the thruway,pantless. #breezy',\n",
              " \"'I have a problem with authority.'\\\\n\\\\n'Oh, you mean you hate being told what to do?'\\\\n\\\\n'No. Authority figures just terrify me.'\\\\n\\\\n#SocialAnxiety\",\n",
              " '@RazdanNidhi Improve on the makeup dear to avoid reduction in viewership... ',\n",
              " 'Ground control to Captain Tom, eclipse was mind blowing #solareclipse2017 ',\n",
              " 'Lmao nah give that bitch a show 😂 she on her high horse and still miserable 😂😂😂',\n",
              " \"omg i'm soooo fucking fuming\",\n",
              " '- Due to the historically long bond between dogs and humans, dogs have evolved to understand human laughter. #FeelAlive',\n",
              " '@thetimtracker Saw last nights vlog. Sorry bout what u guys went through this weekend. Just glad u r doing better! Happy car shopping.',\n",
              " \"@TheSarahFader I don't even log on sometimes. \",\n",
              " \"Pages like AjPlus profit off our outrage... they serve no purpose other than to show us shit that pisses us off. Don't need that negativity\",\n",
              " \"@jaden_lindner If I acquire a deadly scowl like that I'm going to be pretty happy to be old\",\n",
              " \"@Aajijie Dont it'll hurts 😦 i prefer hugs hehe xoxo\",\n",
              " 'got a channel on my Roku which has 24/7 Invader Zim playing. ',\n",
              " \"@oliverdarcy yes, it's awful :(\",\n",
              " 'Anytime I start getting sad about the fact that I might die alone I just look at how miserable 90% of my married friends are.',\n",
              " 'How odd to watch a mortal kindle\\\\nThen to dwindle day by day.\\\\nKnowing their bright souls are tinder\\\\nAnd the wind will have its way.',\n",
              " \"Trying my hardest not to curse people off. I look annoyed for a reason don't tell me to smile bitch!\",\n",
              " \"@whounfollowedme - I'm #very #glad to see You in my community !\",\n",
              " '@fredonair I always laugh during horror movies',\n",
              " '@cnn please get Sebstian Gorka off of my tv.  The whole trump admin. needs to stop deflecting by talking about Hillary.  #awful',\n",
              " '@Afi_licious I have at 7am so I have to get up around 5am to get ready! N also 7am classes are never pleasant 😭',\n",
              " \"@WYP_FizAhmed Couldn't have delivered without you @WYP_FizAhmed - #inspiring #partnership #women\",\n",
              " '“Let us not become weary in doing good, for at the proper time we will reap a harvest if we do not give up.”\\\\nGalatians 6:9 NIV',\n",
              " '@mrsebastian696 @Twitter HAPPY BIRTHDAY!! :D',\n",
              " 'First pumpkin coffee of the season this morning! Thank you @DunkinDonuts for an automatic good day! 🎃 #ecstatic #pumpkineverything',\n",
              " 'I need words of encouragement right now 😥',\n",
              " \"omg they said kyungsoo looked gloomy and his instant smile after that i'm melting\",\n",
              " '@J_UGO_ @TopPlanet63 Vestiti Black and White, stile blues Brothers',\n",
              " '2 followers until 420? This should be easy. #bot #moneygiveaway #freemoney #blessing #free #money #likes #payday',\n",
              " \"the man was staring at him intensely, not smiling but not frowning either. just looking at him. 'you should sleep some more' the man says\",\n",
              " \"Honestly, with all I've been through, I know I'm the strongest person. \\\\nEmotionally tho 😀\\\\nCoz small blow and I'm in a pool of tears.\",\n",
              " 'Exited for my 3 week #trip. Sadly I won’t be able to make any music #crying',\n",
              " '@geoffschwartz agreed but it had tessie by dropkicks playing outside of gameplay.  #awful',\n",
              " '@LATMultilingual #whattheworldneedsnow indeed; #laughter #fun #smiles #joy. #VanBiennale team are already in the mood!',\n",
              " '@BellinoNBC @FSMBlitz @bustedcoverage FYI speed trap on I-75/I-475 NB.Changes to 50 Mph . Slow down or receive a $120 ticket in mail! #angry',\n",
              " \"'If I allow my worry to consume me - all that I worry about will be given the opportunity to manifest.' ~ #Eleesha ღ #quote #worry #trust\",\n",
              " 'Love getting them calls ',\n",
              " 'When a person can no longer laugh at himself, it is time for others to laugh at him. Thomas Szasz #humor #merryheart #just ',\n",
              " 'Honey, you hurt me the way the sun touches my skin today #Sinatra\\\\n\\\\n#quote  #success',\n",
              " '@Transition My perception of J culture is that they would be torn between the ritualistic act, and the indignity of the experience :-)',\n",
              " 'Dro is everything to me ',\n",
              " '@morrgancatt you dont have a bad smile at all, you should smile more often and share your smile with all your fans',\n",
              " 'My heart is so happy I want to explode. ❤️💥',\n",
              " '@matthewpouliot Wow-he had sooo much talent. #glad he is still playing',\n",
              " 'love to see them interacting 😸🙏 #itsbeensolong #laughing',\n",
              " \"@DJVigilanteSA Don't fret! Twitter is here to ensure that I swear on 'em, without a civil war!!!\",\n",
              " \"@topnotch200 I don't know my mouth was burning the whole time\",\n",
              " '@PreetBharara “Ask,” lol. Looks like gene pool on male side of Trump family #sadly lacking.',\n",
              " \"A woman is sterilised because she is certain that she doesn't want children. What exactly is there to discuss? 😠 #LooseWomen\",\n",
              " '@billjoehughes Sounds delightful 😅',\n",
              " 'Not only was @ReignOfApril and @deray responsible for the unnecessary outrage of this movie, but made the director @mattreevesLA look bad',\n",
              " 'Accept the challenges so that you can feel the exhilaration of victory.  \\\\n-- George S. Patton',\n",
              " 'This the way I rage, \\\\n\\\\non sum wopstar shit ⭐️',\n",
              " '@adgpi @NorthernComd_IA It is a grave #provocation 2 #Jawan #Martyr Plz ensure 20 #jawans killed Across LoC,Govt Says Army given #FreeHand?',\n",
              " \"@allthestations Don't worry, no more Pacers by the time you get to Scotland. :D\",\n",
              " '@TEN_GOP @Dj_MadArab outlier fail. Btw, nothing to see here 😄',\n",
              " '#happy #birthday #day trip #great day #super nice weather #blue sky #good mood #fun #love #ice cream #lycklig #födelsedag #öland',\n",
              " \"I don't know what to say. I'm so tired rn. Maybe one more time, and I'll burst out of anger.\",\n",
              " '@titsjpeg Yeah funny and sexy 😍',\n",
              " '#nokia6 announced in US after India., still its available there..and in india waiting since ages. #bad @nokiamobile #disappointed',\n",
              " 'My daily actions are congruent with my big goals.  I feel incredible about myself. #goals #success #justdoit #happy #enjoy #life',\n",
              " 'Anybody else getting furious about all the ads / articles filled with #WalkingDead &amp; #GoT spoilers? #mad #furious #sad #SpoilerAlert',\n",
              " '#depression is a condition which will affect an estimated one in five of the population at some point in their lives',\n",
              " '@chuckwoolery I Feel sick reading this, when does it end? #dread #civil war? #sad',\n",
              " 'Life is a #blessing',\n",
              " '@abpnewstv @narendramodi What action is the government contemplating to apprehend the culprits? Condemning the incident is not enough.',\n",
              " '@Villesportslaw You are way late to the party my friend. We were all over this yesterday... #hilarious',\n",
              " '@_Nafami_ 😂 He looked like a sea weed version of cousin IT from adams family and was reaaaally tall.',\n",
              " \"@Orin_Atlantis 'I am much more cheerful when you are around'\",\n",
              " 'how i drink two 40s and im still somewhat sober ?',\n",
              " \"@FoxHedgehog @guardian I was too. Should've written in, but can't help wonder if this was reaction they wanted -  righteous indignation!?\",\n",
              " \"Oh Canada 🇨🇦 shouldn't be sung like that. #terrible #MLBTHESHOW17\",\n",
              " '@Sceptic_1985 I think we underestimate them at our peril. IMHO Bannon, Ryan, McConnell, ect. will accomplish terrible things if allowed to.',\n",
              " \"I think about you when I'm drunk, but can't stand the thought of you when I'm sober.\",\n",
              " \"These restless nights and early mornings aren't good. 😫😪\",\n",
              " 'We really need a strong action against this #AmarnathTerrorAttack !\\\\nThis is really high time!\\\\n\\\\n #sad #frustrated ',\n",
              " \"@BroxtonDaniel I love you more than anything. I'm so glad we're able to make each other so infinitely happy😊\",\n",
              " '@Bombardier Joyeux anniversaire / Happy birthday Bombardier Inc. :)',\n",
              " 'Mima tremendous at bringing the noise.',\n",
              " '@FuthieMasina Lol nah u subscrib 4 R60/pm. N pay R3 each day thus anada R90/pm. Lol stream n use de app using ur data. #smiles',\n",
              " \"Damn twitter making everybody mad, it's hilarious 😂\",\n",
              " 'this #overcast #cloudy #rainy weather makes me #lazy #glum and #sad',\n",
              " \"this person hasn't uploaded episode six or seven of the lodge and i'm \",\n",
              " \"Instead of working on not offending others I wanna work on learning never to get offended. Life's to short to live on a fence #offense\",\n",
              " \"I'm a proud father to a mustache #babystache #adorable #newborn\",\n",
              " '@eavesdropann My pleasure my dear. 😘',\n",
              " \"@LovinUnited That'll be Madrid throwing a huff over Morata and De Gea. Fuck them\",\n",
              " 'I think #Saudis are responsible for most of the #islamic #terror in the world. Both with their #Wahhabism and by financing terrorists …',\n",
              " '🔝 #love #instagood #photooftheday @top.tags #photoeveryday #cute #picture #beautiful #followme #happy #follow #fashion #pic #picoftheday',\n",
              " \"Of course I've got a horrible cold and am breaking out 2 days before grad 👍🏼👍🏼👍🏼👍🏼👍🏼\",\n",
              " \"@realDonaldTrump @foxandfriends You are a man after God's heart and I am proud that you are my president.  #BlessedAndGrateful #awesomeness\",\n",
              " '@cragget @adamliaw if I catch you making tea with water boiled up to 100 degrees, there will be dire consequences',\n",
              " '@ghenesnowdon @NoOneGOT2 @MochaUson Exactly  because of their  #FiatLoserIdiotAquinoFollower',\n",
              " 'May you find your #center the peace of your #soul, joy in your #heart #understanding in your #mind. This is my #blessing &amp; #prayer for you.🌞',\n",
              " '@xysist Wise you mean? 😅',\n",
              " \"@inseopirit LOL, I never got to that part actually :) ICSYV is a great show, isn't it? Tears and laughter.\",\n",
              " \"7. I have alot of opinions about alot of things. I just dont say it because i'm gonna 'add insult to injury' ☺☹\",\n",
              " '@RiggsBarstool big revenge guy',\n",
              " 'Remain attached to God during your happiness and during your sadness.',\n",
              " '@tabby313 Jen, awful funny how the tide has turned on this show! I am elated and amused! Goes from love fest to oh we have collusion!',\n",
              " \"Odd watching #Antifa extremists going full spectrum to become Fascists\\\\n\\\\n#Violence #Hate #angry #Clueless #YOUTH in mom's #basement come out\",\n",
              " \"'I think our dreams can motivate us more than our fears can paralyze us.'  ~  Chris Hogan  #dreams #fears #life\",\n",
              " '@MercedesUKTeam Yes I tried but no help really. No contact back from them. #dissapointed',\n",
              " '#Work not to ',\n",
              " 'your tongue\\\\n\\\\non top of my bone\\\\nlonging to be a destitute\\\\nknelt down\\\\nyou, weeping love\\\\n\\\\nI kill merciless.\\\\n\\\\n#poem #dark #amwriting',\n",
              " 'She writes a lot of songs, but she’s shy and doesn’t publish. [BOT]',\n",
              " \"@GorjusGeorge5 @MrBridger1905 I'm fuming that you're fuming 🙄 #fuming\",\n",
              " 'ugh going to college tm, so nervous.   #college #life #collegelife #newyearnewme',\n",
              " '@SenecaReads @zimyix @MouthyBuddha I bet he needed to take an anime break and drink a Zima after all the furious typing.',\n",
              " \"@PolitiBunny Exhausting for us. Imagine being so tightly wrapped that you're writing these 'think pieces' at such a furious rate. #medicated\",\n",
              " \"Haven't been on a holiday abroad in two years how depressing is that btw☹️\",\n",
              " 'sardonyx expresses herself through supporting the team with your incredible yo-yo skills and depression okay',\n",
              " \"@Fish_pw But I would say that wouldn't I #bitter 😂\",\n",
              " '@DebraHorrocks @Fash_Rev have some shocking stats #fashionrevolution',\n",
              " '@ScarletteDrake OMG poor you! It happened to me last summer. I saw my under skin 😰',\n",
              " 'Girls dmme your snap chat account',\n",
              " 'The patients were increasingly protected during heart attacks, chains have encouraged smoke, anger and hundreds of new hospitals.',\n",
              " '@DonaldJTrumpJr you look shook! #afraid #shook #impeach #youaregoingdown',\n",
              " 'Words are simply amazing people can twist them and make them say anything 😅',\n",
              " \"If you let your insecurities get the best of you,  you will hurt someone unwillingly. I've learned that!  #tired #blah\",\n",
              " \"Wooo so happy right now! Just bought my tickets to see @NiallOfficial next summer in Dublin.Can't wait 😁 #niallhoran #Dublin #music \",\n",
              " \"'You run, I con. A tiger doesn't change her stripes'. #lost #sawyer\",\n",
              " 'Just added a copy of CANDIDE to my local Little Free Library &amp; a guy grabbed it literally 5 seconds later #optimism #BestOfAllPossibleWorlds',\n",
              " 'I feel so intimidated talking to chicken now that I know how pretty she is',\n",
              " '@websvalor (c) grew with resentment for herself and the world around her.\\\\n\\\\nHer spine tingled as she heard the incessant clicking of a (c)',\n",
              " '@instaafp are we in for Lemar even though wenger was very coy about him in his press conference',\n",
              " \"My mother-in-law, in a fit of #rage, referred to someone as a 'yo-yo'.\\\\n#yoyo #motherinlaw #amirite #fitofrage\",\n",
              " \"My author copies have landed in Australia. My agent has them. Soon, I'll be able to hold one and flick through it. #excitement #StoneCircle\",\n",
              " 'So happy I get paid tomorrow so I can sort my bloody hair out before holiday ',\n",
              " \"@realDonaldTrump Maybe don't nom so many raging dicks, Donny!  Jeez, it's like teaching a baby to fly a jet!\",\n",
              " \"@prisonerben1 Try explaining to Joe Public these charities do not simply give offenders 'treats' #despair\",\n",
              " 'You know your (numerous)meds have kicked in when you find stupid things highly amusing #BPDproblems #KeepTalkingMH  #mentalhealth',\n",
              " '@realDonaldTrump believe it! you can start your temper tantrum now/',\n",
              " \"@jh00die Really?? Because music analyzes your screenshots with my microscope too??? I didn't think so #offended\",\n",
              " '@itstraceyporter Off with work related stress and anxiety',\n",
              " \"#LT a mom let her kid pay for the bus. The kid dropped the coins. I'm boiling in rage. My face may be straight bu my eyes say IMGONNAKILLYA\",\n",
              " \"Don't grieve over things so badly..\",\n",
              " \"Don't let a #Season of #Sorrow turn into a lifetime of #bitterness ~ #FearfullyMade #GracefullySaved\",\n",
              " \"Uncharted 4 on Crushing is the least fun I've ever ha splaying a video game  \",\n",
              " 'Thinking more, KD winning #BestChampionshipPerformance at the @ESPYS is as bad as Jason Garrett winning Coach of the Year.  #justno',\n",
              " '#TONITEinASHEVILLE: @TALsounds w/Matchess, Nothing But Net &amp; Mushigo Palm @themothlight, #blues dance @TBobAVL 11pm\\\\n#avlent #avlmusic #AVL',\n",
              " '@edsheeran ballroom dancing class tomorrow, any advice for a first timer? ',\n",
              " \"@ul_sang Awhh thanks! Maybe now I'll finally be blessed with some 😭\",\n",
              " 'you begin to irritate me, primitive',\n",
              " '@Malala Happy day to you Malala 👏🏻😃I seem to share a birthday with you #inspiring #women #education',\n",
              " 'Hey The Success Novel thanks for the follow! (UN)FOLLOW=(UN)FOLLOW Please visit my #twitter handle #quoteboxindia for #awesome #picture #qu…',\n",
              " 'Easy day at school today; last rehearsal before the show tomorrow... #excited to play #Nancy in #Oliver, then straight into new project! 😍',\n",
              " \"@bookish_yogi It's been a little Twitter saga lately. The tea thing is horrific, plus they never have fresh milk to put in it.\",\n",
              " 'My head is bloody, but unbowed. \\\\nI front unfeared the threat of space \\\\nAnd dwindle into dark again.',\n",
              " 'Just #snorted #laughing @CommunityTV #outtakes @donaldglover @dannypudi #hilarious Best duo ever! @community',\n",
              " 'They say ur a prdct of ur surroundings. A bit intimidated by the crazy amazing ppl I met @ @codecityco @n8walke @dianap_patton @DrMattKutz',\n",
              " '@Jenlynn219 I wonder if your face immediately contorts into a scowl when you put it on your head?',\n",
              " 'And yet again, @MarliePacker sets the back row bar high... Tackling and support play outstanding. Congrats on your 50th cap! #inspiring',\n",
              " 'Sometimes i just wanna give up on everything i have but then i realize that if i give up and start fresh my hard work wont show. ',\n",
              " 'Thanks @o2sbe for your medic and security help with my daughter tonight ❤️shame she missed @TheVampsband ',\n",
              " \"Whoops! I see (&lt;---) it's time to move on to the news. Grab your ☕️, &amp; lets head out &amp; see (&lt;---) what 🔥's are burning today.\",\n",
              " 'May new update nanaman ang Bloody Crayons 😆',\n",
              " 'Three more shifts then I start the next part of my tutorship in response #enjoyingthelastfewdays #excited #nervous #newchallanges',\n",
              " 'This nightmare is nearly over gang gang gang',\n",
              " \"@Traonach It's an evening for lying around doing feck all. Looks like an October evening down here #miserable\",\n",
              " '@sapphixy Goddess, that poor girl 🙁',\n",
              " 'Rewatching RKellys trapped in a closet series 😂😂😂 #classic #hilarious',\n",
              " \"i haven't had to speak maltese in over two years and now have relatives calling me about the trip and it's terrible 🙃\",\n",
              " '@VitaCocoUK WOW 😍 This is wonderfully exciting! Would be a very happy treat to win ✨ Thank you for the chance ❤️️ Retweeted &amp; Following 😀',\n",
              " '@sofisuuu i know 😰',\n",
              " \"Cold sores are the worst. The second you smile or laugh, it's over. Blood everywhere\",\n",
              " '@WalmartToday your hitting it spot on with your commercials. Love the one with the town coming to eat and bringing chairs. #brilliant',\n",
              " '@BrenFosterReal Happy Tuesday, Bren...Just stopping by to wish you a great day ahead filled with love and smiles 😙😙😙....Love and Miss you! ❤',\n",
              " \"@ItsARipper Ganguly chose? It is Kohli's provocation which compelled Dada to pick that pretentious fuck.\",\n",
              " \"Bless me O friends for I've burst the bubble of #happiness &amp; replaced it with #contentment.\\\\n\\\\nEcstasy of the #unstrucksound is pure #Bliss 🙏\",\n",
              " \"@Skype I've just logged into the new-look app and none of my contacts or convos are there. It's all gone. 😑 #upgradefail #annoyed\",\n",
              " \"@RanaAyyub @rajnathsingh She is Right shld burn them alive 😡 it's even more better if they burn you with ur brothers 😠\",\n",
              " 'Really enjoying candles and incense around the house at the moment - brings a sense of calm 💆🏽 #candles #incense',\n",
              " 'That was the most beautiful thing I have ever seen. #Eclipse2017 #Eclipse #SolarEclipse #tears',\n",
              " '#unforgiveness lives in the #dark',\n",
              " 'suddenly I want to be in the middle of chaos, feel the #wonderful sense of sound; my feet are tired of these long stretched silences #vss365',\n",
              " '@AdamZHerman shocked as well. but bc I cheer for another club in the swiss league…',\n",
              " '@Aidan_Herring_ @JACKElCHEL @NHLNetwork @DallasStars The banner I look at from my seats at the AAC tells me otherwise. #good',\n",
              " \"@British_Airways They give awful service and you haven't got back to my complaint yet. Can you guess the airline? #dontflyBA #annoyed\",\n",
              " '@whatthefarrugia still trembling',\n",
              " \"@colecubelic So are you saying there's a good chance that two teams might *gasp* finish last? One in the East and one in the West? #offended\",\n",
              " \"@beenthatkyd so I scrolled back up on the '17 GC because I missed it earlier and man you toooooooooo funny 😂😂😂😂😂 hilarious headassss!!!\",\n",
              " \"We're in the bathroom and you perch on the sink,\\\\nI begin to infatuate, exasperate, resuscitate.\",\n",
              " 'Scared to leave the routine but excited to break out the mould 😖 #scared #confused #happy #undecided #excited',\n",
              " \"@Brooksvb 😱 that's just terrible\",\n",
              " 'Whatever you want to do, if you want to be #great at it, you have to #love it and be able to make sacrifices for it. #Quotes for you',\n",
              " 'That became obvious with the Morata saga. The fucking bitter old cunt turned down 70m for that sideman.',\n",
              " \"@nickjonas is coming for DePaul's welcome week and I'll be in Cali 🙄🙄🙄🙄🙄🙄🙄🙄🙄🙄🙄🙄🙄🙄🙄🙄 #pissed\",\n",
              " 'Signs of Incipient Faggotry are the arsehole quivering and puckering.',\n",
              " \"Man, filling out your dad's life insurance paperwork will really put a damper on your Tuesday morning. Really makes it feel final...\",\n",
              " 'Mosquito bit my ankle this morning 😢 walking into the house . ',\n",
              " \"i'm nervous\",\n",
              " \"'If you try to get rid of #fear and #anger without knowing their meaning, they will grow stronger and return.' \\\\n― Deepak Chopra\",\n",
              " \"Full of #optimism after the FP Summit yesterday. Thanks to @melindagates @FP2020Global @UNFPA and @DFID_UK we're thinking about #HerFuture\",\n",
              " '@denisebatters I blame @stephenharper for these terrible terrible rules. ',\n",
              " '@findingclea im sorry i voted jeans &lt;/3 u look banging who tf needs food anyway when ur a student existential dread feeds us',\n",
              " \"I must stop with these loan jokes,people will think I'm serious and get annoyed with me 😂😂😒\",\n",
              " \"I've developed a new philosophy... I only #dread one day at a time.\",\n",
              " 'Ideals are peaceful, history is violent. #fury',\n",
              " 'hate tan lines but refuse to tan at a salon anymore. 🙄 ',\n",
              " '@annarxbs @lolitsluan oh my lord I love you both with all of my heart. I feel so good and happy and you make it possible xx',\n",
              " '@Yummywaterbynad I wanna meet tho 😅',\n",
              " 'Hey @ShutdownSafety would it be safe to assume that this is the most disappointing #madden in years in your opinion?',\n",
              " '@Walu2go @ThisisLukeOwen Yes it is. I especially love the ramble chat love when they go off topic for like ten minutes. #awesomeness',\n",
              " 'this weather = my mood ☔ #miserable',\n",
              " 'Happy birthday to @LauraJillSomers! Hope you have a lovely and wonderful day. :) *fellow Cancer fist bump*',\n",
              " \"@VirginTrains Why do you send me a sales email suggesting that I am procrastinating 'asking out Derek from accounts'?  I am male. \",\n",
              " \"I apologize whenever I'm throwing tantrums...\",\n",
              " 'Every time I see the #GBBO advert..... #sugacravings #yummy #dietgonetohell     😋😋😋',\n",
              " 'Can finally start looking forward to my sisters wedding on Friday now the car is sorted ☺️🎉👰🏻 #relieved',\n",
              " '@BethRigby ...so near yet so far.corbyn +lab doing much better but without even a majority + out of govt 3 times now, resentment will return',\n",
              " '@hannahcburke_ let that sink in',\n",
              " '1-3KohGeーBuddhism verse for cleanse oneself with incense #Buddha',\n",
              " 'Model Town massacre represented the height of terrorism, savagery and oppression committed by the rulers\\\\n#ArrestModelTownKillers',\n",
              " \"She doesn't know how to smile! So be it! #pissed 😏😒😠😡😤👀👄👊👎🙍💔\",\n",
              " 'Humble yourself in the sight of the LORD. If we have died in Christ, then how can we be offended? A dead person cannot feel anything, right?',\n",
              " \"EAHelp: mcmalveiro Hi Miguel, that's awesome! Thank you very much for updating us! 😄 -Claire\",\n",
              " '@gaybookgeek Yes, that immediately made me fearful of the rest of the books in the list.',\n",
              " 'Chiropractor time  #crackle #pop #chiropractor',\n",
              " 'u can get an oreo shake at burger king',\n",
              " '@BloodMoonSaint @Tamaishingo22 definitely agree 😊',\n",
              " 'The hair is getting lighter but in certain light people point out that my baby is a ginger. I know , I am too lol #fiery #sassy',\n",
              " 'Totally forgot to bring my healthy breakfast into work...all types of #upset w/ myself.',\n",
              " 'It amazes me how many useful videos there are on Youtube.  Everyone sharing knowledge &amp; making money doing it. #wonderful',\n",
              " 'Noses are electric lime columbines are dimgray sugar is fiery and so on',\n",
              " 'It takes a smoke detector 4 months to stop beeping if you were wondering how #lazy I am. #lol #funny #Comedy #laughs #CrackMeUp #hilarious',\n",
              " \"I love to start a writing session with 'Moon River' from the BREAKFAST AT TIFFANY'S soundtrack performed by Audrey Hepburn #amwriting #bliss\",\n",
              " '@ANI_news Sir, what about 2G, 3G, 4G, Coalgate, scams Parliament Attack, Mumbai terror attacks despite intelligence input.',\n",
              " \"'Stay close to people who feel like sunshine.' This may just be the great secret to a more #joyful life. #WednesdayWisdom\",\n",
              " \"watching that video and realizing that I've gotten uglier #depressed\",\n",
              " 'Rabbit races ... 😊 .. simply perfect! \\\\n\\\\nSo glad @LeBatardShow and @Stugotz790 are back!',\n",
              " '@hateweed I had the worst alarm ringtone and would wake up irrationally pissed everyday until I changed it to something nice lol',\n",
              " 'Potentially going on holiday in 7 days.. can you get fit in that time? #panic 🤔',\n",
              " 'fuckfuckfuck my hands are shaking',\n",
              " 'dark lucha truly is the best',\n",
              " '#alarm Bel OC Limburg 157901 - Unknown address',\n",
              " '@WhitneyJoyner @cassiidybrooke yeah you have not been the perfect patient like I was #dread',\n",
              " '@littlebcstcrd Pardon me 😃',\n",
              " \"I'm so sick of that 'I'm done w. My ex na we're never getting back together' crap so You can get back together in like a month 😂\",\n",
              " 'Come on blues #StateOfOrigin #Origin  #NSWBlues #nsw',\n",
              " '@bugusdiemon Happy birthday cuzzo many blessing🙌🏾💪🏾🇳🇬💯#KeepGrinding #blessed',\n",
              " \"AJ's epic 'Anger Montage' is coming up next! Kids, always be happy. Don't be an angry AJ.\\\\n#anger #rage #montage\",\n",
              " 'Not a childs play..... Happy Birthday Sir ..be blessed',\n",
              " '@SadieAtkins Should have come with us #boiling #kefalonia #pretty',\n",
              " '@MerkTheWorld This thread is hilarious!!!!',\n",
              " '@SonaFanArt Isnt it too early? Thats really interesting 😦 i wonder what are they filming in kusadasi. It makes me so excited  :)',\n",
              " 'Was sort of hoping #EclipseDay would mean my world would change and cardio would make me go blind #EclipseSolar2017 #dissapointed #exercise',\n",
              " \"1. I'm grateful for love.\\\\n2. I'm grateful for miracles.\\\\n3. I'm grateful for music.\\\\n#beatdepression #grateful\",\n",
              " 'Watching @JamesAcaster clips in bed. Actual legend. Never fails to put me in a good mood. #comedy #legend #love #laughter #bedtime x',\n",
              " \"@SAVAGEKERMlT don't #worry, froggy\\\\nit will SOON be TIME for #FROGFEARFRIDAY!\",\n",
              " \"I'm legit in the worst mood ever. #annoyed #irritated\",\n",
              " 'Great meeting with my great friend and superstar lawyer Bryan Freedman @ftllp .  Such an amazing person who does so much for many. ',\n",
              " \"When USPS says your @DBHGaming order arrived a week ago but you haven't seen it. Nows a great time to panic 😰\",\n",
              " \"How the hell did I miss @HenryMcKean why wasn't this announced in the #RoseOfTralee🌹 @jonathanhealy @newschambers #devastated\",\n",
              " 'I think that Nuclear weapon and Cyber weapon are big threats, but I think that the bigger threat is Scalar weapon ...\\\\n#scalar #threat',\n",
              " 'The formula of happiness rather than inertia. #elated',\n",
              " \"@realDonaldTrump I am so glad you won't have Twitter in jail! #LockHimUp #LockDonJrUp 💩💩💩💩💩 #sad\",\n",
              " 'Watching #ScottishOpenHeroChallenge from last night... Smoke, flames, tense sound effects and lively commentary.. #boring #dull #shite 🙈',\n",
              " 'Find a guy who can handle your tantrums and mood swings, not a man who causes it.',\n",
              " 'Lugubrious face, crestfallen eyes, forlorn heart and an agitated soul seeking serenity.',\n",
              " \"@SkyNews @CNN @cnnbrk watching the #totalsolareclipse on ur channels right now #amazing what's happening in the #usa\",\n",
              " \"We're all #laughing! Eddie Izzard has begun #his probe #into fuzz wrongdoing involving the house of Osiris.\",\n",
              " '#smiles are great investment. The more we collect, the better we feel.. have a nice smiling day... #goodmorning',\n",
              " \"If you're not eating @TheHotCorner3b lasagna for dinner tonight, you're doing it wrong. \",\n",
              " 'faint glimpse of the circling stars. Presently, as I went on, still gaining velocity, the palpitation of night and day merged into one',\n",
              " '@RRakoto42 It only took me 39 seconds to fly over Mozambique. #awesomeness',\n",
              " 'One week on SW and going to gym. Smashed it #weekone  #goals #sw',\n",
              " \"@stephenasmith You made me laugh today when you told a caller to turn up the volume, that you weren't doing the #MarvinGaye thing #levity\",\n",
              " '@7sozo Thanks 4 following me! #Bible respect older man.Beg say you can.Been #sober 36years one half age72.Another 10 hit the pew 1Timothy5:1',\n",
              " \"'look at your face in a mirror... You are so fat and dark... You can't have lunch with us' #kids #meangirls #rude #insult\",\n",
              " \"It's way too early to be #angry #happytuesday #711\",\n",
              " \"I'm so angry\",\n",
              " 'my name is sara, im 20 years old and i cant believe boiling an onion is making me cry',\n",
              " 'the only problem people should have in the morning is burning their tounges on hot coffee (like i just did)',\n",
              " 'Looking for good news today...not finding any on Twitter. Bummer. 😢 #depressing #badnews',\n",
              " '@dailysunsa Jerrrrrr a woman is been stabbed in the face and now guys r arguing about her ass being real or not hehehee ',\n",
              " 'going to sleep was a bad idea i had a horrible nightmare abt what i hate the most in a nightmare but its fine im ok',\n",
              " 'Good morning family to all of you who took the time to wish mom a HAPPY BIRTHDAY Thank you from my ❤ love you be blessed',\n",
              " \"Happy Birthday @RyanRolison24! Have an AWESOME day! We're keeping up with you on the Cape and you're doing great!\",\n",
              " 'AJ ends up being a terrible character, but no one in his family ever actually speaks to him. He witnesses so much and just gets sent away.',\n",
              " '@IDFsoldiergirl Like you said, its all propaganda against #Israel. Palestinian adults and their Govt are full of #hatred. So sad to see',\n",
              " '@HK9Gaming Yes man 😄',\n",
              " '@mir_btc Eherium should make everybody happy',\n",
              " 'I hung up on my manager last night 😭',\n",
              " \"@RosieHale Bro no you don't you'll be so dissapointed in me 😂 il let you read it next time you're down here tho 💁\",\n",
              " '@kathryn_dennis keep your head clear an focused. Do not let T intimidate you or use your children to silence you! Hate when a man does that!',\n",
              " \"Dean Fujioka's History Maker is on Spotify as well as Breaking Benjamin's Dear Agony. #amazing #wonderful #iloveyouspotify #noonecaresbutido\",\n",
              " \"I'm also wheezing really hard. I decided to make up today, and then after I got to work realized it was mbbsd, and now I'm #intimidated\",\n",
              " \"We're just a bunch of sad kids trying to cheer each other up..\",\n",
              " \"If your only response to this current political crap show is 'but Hillary!!' Or 'but Obama!!' you need to start looking for a new argument.\",\n",
              " \"@HollyMecher I'm stealing this one 😎🤘🏻👏🏻👏🏻👏🏻👏🏻 #edtechchat \",\n",
              " '@exceptions Although I have a nice vulva, I choose not to intimidate other women with it.',\n",
              " 'Sometimes it takes sadness to know happiness, noise to appreciate silence and absence to value presence.',\n",
              " \"@pattonoswalt @EricaRoman_ Amazing how folks are foaming at the mouth to judge. We're happy for you @pattonoswalt !!!!!!!!!!\",\n",
              " 'every time i think abt hobi crying i start crying',\n",
              " \"Don't justify Terrorism as communal hatred. #AmarnathTerrorAttack is sheer Act of cowardice. Let's unite together against terrorism. Luv all\",\n",
              " 'God bless him in Hong Kong! #ex ',\n",
              " '@seydacanim The best of make up horror story...',\n",
              " '@ShekharGupta @YusufDFI Naming India Lynchistan is not provocation terror is a provication even when terror has no religion.',\n",
              " 'He who #laughs last usually had to have #joke explained. #TeamFollowBack #RockTheReTweet',\n",
              " \"The best bridge between despair and hope is a good night's sleep.\",\n",
              " \"@realDonaldTrump Why don't you try nominating qualified people; B.DeVos, T.Pruitt, R.Perry,etc...really? They are terrible!\",\n",
              " '#GameOfThones how can you top that next week #heartbreaking',\n",
              " 'John 14:27\\\\nLet not your heart be troubled, neither let it be afraid. #peace #afraid',\n",
              " '@RightNewsUK Poor dogs! Have to bite that sun of a bitch! 😠',\n",
              " '@Retale It would be #awesomeness to win this for my 2 girls.',\n",
              " '@LATMultilingual Thanks for the shoutout! Will we see your team at #MortonPark on Thursday? #Smiles &amp; #laughter guaranteed! 😀',\n",
              " \"@TeamBoA Jim is ok. He refuses to come back to #reality but at least he doesn't #insult like the rest of ignorants...\",\n",
              " '@ObeyTwig At least smile a little holy crap Twiggy.',\n",
              " 'we will send video to proper agency ,state workers harass the public to fuel the ego of Scott Arniel  and trial court what the bleep #bully',\n",
              " '@GutoAberconwy Your majority is 635 members of the public- believe me you have offended rather more than 635 voters!',\n",
              " '@6oulz @slayerlmfao no it was a selfie of him from seven months  ago look at the top left of the snap people',\n",
              " \"@IvankaTrump What's up w the profile pic?? \",\n",
              " \"@Shann_Graham They were actually dire man wasn't expecting  to be so bad like\",\n",
              " 'Do not be too #timid and #squeamish about your actions. All life is an experiment.',\n",
              " \"Do you ever just get so excited that you're trying to sleep &amp; just can't even close you eyes😁like I really need this catnap but #excitement\",\n",
              " 'distract yourself from the fiery hellscape that is 2017 America with a free small cup of frozen sugar water #FreeSlurpeeDay',\n",
              " 'Fools! Little did you know that getting angry and trusting your instincts by walking right into my trap was a mistake!',\n",
              " 'A SPELLBINDING performance by @DebsNewbold. Electric physicality and sheer awe. A pleasure to watch, thank you. #ueafly',\n",
              " 'What are some of your favorite staple dinners you keep on standby for quick and easy nights? :) #goodmorning #dinner #yummy #foodie',\n",
              " \"@cyclingweekly 'shocking' ???  Nah that's not Shocking . Richie Portes crash ...THAT WAS  shocking . #tourdefrance2017\",\n",
              " \"Just know USA, all Canadians don't agree with what Khadr's settlement and his unwillingness to take responsibility for his actions. #outrage\",\n",
              " \"If you even dream of beating me you'd better wake up and apologise. Muhammad Ali :-) #boxing #droll #funny\",\n",
              " 'feeling like a grim reaper all day hehehe\\\\n9 days pa 🎩✉️',\n",
              " \"AHHHHHHHHHHHH #dread OMFG! It's so good...@JoinTeamAlpha @Hydra_Lord @executivegoth @matthewmercer @enthusiamy @vorpahlsword @satinephoenix\",\n",
              " '@MeBeIssy I have now made this journey around Earth a total of 105,755 times since I began. #restless',\n",
              " 'A bit late but had to say Love You Zindagi by The Live 100 experience gave me goosebumps!Big shout to all of them! #awesomeness at its peak',\n",
              " \"literally I'm baby momma status everyone I date wants to start a fam I'm like yo do I just come off as fertile and mom ish\",\n",
              " \"@HughShows Ha, sadly not: just the undying respect of your peers, I'm afraid...\",\n",
              " 'Look at this little guy! He is connecting to his magical self.😇\\\\nWhat do you do to keep life magical?🌈 @AnewPerspective #magical  #be',\n",
              " \"Hello fellow #gamers, I'm here to tell you why being a #Nazi is .\",\n",
              " 'Knew Tulip was hiding something but I never would have guessed that she was married 😧 #Preacher',\n",
              " \"we averaging 2 anxiety attacks a day now. 'chea.\",\n",
              " '@realDonaldTrump The GOP controls the Senate. Blaming the Dems seems #sad.',\n",
              " \"Life is too short to hide your feelings. Don't be afraid to say what you feel.\",\n",
              " '@glovesandtricks Me too! His eyebrow?? Ffff will haunt me forever',\n",
              " '#Sleep is my #drug. My bed is my dealer. My #alarm is the #cops. #School is the #jail. #TeamFollowBack',\n",
              " '@Liz_Hanbury Oh no, jumper on again, has it turned colder? 😟 Have a terrific day🙋🏼🌸🌼🌻💕💕',\n",
              " 'and every time i cry hard, fear blankets me',\n",
              " '@shelby_Billsfan @buffalobills They kinda hafta be these days. #bleak 😬',\n",
              " 'Spend your day creating #smiles today!',\n",
              " \"the thing about living near campus during the summer is that it's a ghost town but now everyone is back and im #annoyed\",\n",
              " '@sultanseok mdnjd to keep it short,, theres a hero in percy jackson whose name is thalia and she gets turned into a pine tree when she dies',\n",
              " 'I just got insulted with my own insult... 😪😪😪',\n",
              " 'Woke up to my neighbors singing Perfect by Ed Sheeran. 😊 My mood has been set. 😍',\n",
              " \"Oklahoma, South Carolina, Idaho, and Louisiana I'll see you this fall 😍 #excitement\",\n",
              " 'get u a goofy shorty w/ a big heart &amp; a anger problem..',\n",
              " '@DannyMcguire6 sad day Danny 😓you have been and still are a true Leeds rhino you have been brilliant at the club I will miss you',\n",
              " 'When every @IndianExpress Indian in a gloomy mood some one is trying to catch the Fish in Muddy water TO BECOME VICE PRESIDENT.WHAT A CRAVE',\n",
              " 'The one most important thing we forget. That we need to denounce terrorism, not stoke communalism  #AmarnathTerrorAttack',\n",
              " \"I fw @ralofamgoon he don't hesitate to speak his mind\",\n",
              " 'First class of the day &amp; I have the hottest professor #god #is #good',\n",
              " '#oneday #your #pain will be your #pleasure .#Thursday #motivation #inspirational #quotes #startups #workhardplayhard #DoIT #success #Braves',\n",
              " \"@PrisonPlanet @DonaldJTrumpJr I read they pissed in Trump's bed 😀\",\n",
              " \"@Caprica Ah that's a neat idea, will check that out - might makes me more depressed about my slowness tho 🤣\",\n",
              " \"@bambustyk He looks scared and burdened, but he withstands all that and comeback stronger! 😭 I'm crying, he is so strong 👍🏻\",\n",
              " 'Negative self-talk in #depression can extend to sleep, with catastrophic thinking about the impact of poor sleep fueling insomnia.',\n",
              " \"When Dino was making a fool of himself with that Ajekun iya stunt, y'll hailing him but a bereaved person got a chance to be joyful = abuse?\",\n",
              " 'Mentally suffered #iwanttodie #worthless #lifewithoutcolor  #pain #suicidal',\n",
              " 'James to Bayern is probably the smartest choice for him.\\\\n\\\\nAnd, frankly, this kind of scares me 😲',\n",
              " 'So exhausted I could cry 😭',\n",
              " '@Belle_Canberra ya he was asking leading qns to provoke me, I wish I hadnt gotten so upset :)',\n",
              " '@realDonaldTrump @LizCrokin Great #start for #MAGA ...',\n",
              " 'Its hilarious that baby buffoon Trump provides evidence. Nothing new though. Eyes on the prize. Stop this nazi based admin in its tracks.',\n",
              " '@Kazalex_ Happy birthday hope you have and amazing day!',\n",
              " 'They cancelled Chewing Gum. #devastated',\n",
              " 'Usually love @KatiePrice but watching #mycrazylife its sad how that affair her hubby had has ruined &amp; changed her #obnoxious #cruel #bitter',\n",
              " '\\ufeffSuch a serene when you let yourself loose in a breezy weather. Your thoughts are countless at that moment.',\n",
              " '@Alyssa_Milano @mothergooseAZ @realDonaldTrump is #laughing all the way to the #bank and #America is paying for it all. 💰 💰 💰',\n",
              " \"'When I get sad, I stop being sad and be awesome instead. True Story.' \\\\n- Barney Stinson @ActuallyNPH\\\\n#brohosting #motivation #awesomeness\",\n",
              " \"@snowflakenest @bollytoybee @Alexicon83 You need a new tactic post-Trump/Brexit. Hurling that insult around no longer works I'm afraid.\",\n",
              " \"#Thoughtoftheday: 'Perpetual optimism is a force multiplier.' - Colin Powell #quote #optimism #positivity\",\n",
              " 'Part of #danielhive #insecure i got you',\n",
              " '@benoitgomis @AU_SIS @HugoRosemont @alex_corbeil My pleasure: hope it was useful and happy to keep the conversation going!',\n",
              " \"@AvrilLavigne Mom A. i saw ur insta, why? ur picture black in white, but☝ it's nice ur smile :) winner💕💕🌸🌸🌸\",\n",
              " 'Gm and have a  #Tuesday!',\n",
              " 'If I were my own republic, I would declare war on patchouli incense.',\n",
              " 'First time using @thetrainline app and definitely be the last - not a happy first time customer #disapointed',\n",
              " '@OfficerHedgehog That story just made me do a little sick in my mouth #grim',\n",
              " \"So, if you have a really tiny penis, get help, but please don't try to compensate on the road  #bigcar #tinypenis #roadrage\",\n",
              " \"'Florian Picasso - Final Call' is raging at ShoutDRIVE!\",\n",
              " \"'Can you not play your sad music in the morning? It's soothing but I don't wanna feel depressed on my way to work' sorry mom lmao\",\n",
              " \"He is holding her so close, wrapped his hands around her shoulder, she is holding them and they're both smiling. I'm still living. ☺️\",\n",
              " 'What is this inane waffling nonsense that @BBCSport @bbctennis is forcing us to endure every time John Inverdale takes the mic. #dreadful',\n",
              " \"@PageShhh1 I know you mean well but I'm offended. Prick.\",\n",
              " \"I follow this famous chick on snap and she put 'I'm snapping back' &amp; next snap says 'dudes stop sending your peepees, it's not cute.' 😂😂😂\",\n",
              " 'So apparently one of your bus drivers has a grudge against me @KingsTransit I was passed while waiting for it to stop. Real service there..',\n",
              " \"#31DaysOfJoy Laughter brings me so much joy! It's good for the ❤️. #laughter #laughterishealing #laughterisgoodforthesoul\",\n",
              " '#YummyMummiesAU Are you serious! Breastfeeding should be illegal?! You breathing our air should be illegal, dumbass! #stupid',\n",
              " 'Always beware of the racist liberal smiling in your face. #EmmanuelMacron #makelove #makebabies #racist',\n",
              " \"No offense to the girl next to me but dousing yourself with cheap cologne won't hide your rank smell\",\n",
              " 'this one lady literally parked next to me and scared the shit out of me 🙃',\n",
              " 'Genuinely and perfectly #happy',\n",
              " \"@trash_addict Things I've been called/heard with literally no provocation. I've just played and talked about the game:\",\n",
              " 'Things that rage me: when I hear a man ask a woman if she thinks her skirt/dress is too short\\\\n\\\\n😨😵😠😡😤 #shame #rage #Feminism #feminist',\n",
              " \"'You have an amazing problem here' - @sbxr has spotted a huge privacy issue for TracTAG 😱 #SharkTankAU\",\n",
              " '@Shirley_Sein who is that? 😧',\n",
              " \"Summer is drawing to a close. It's been incredible. Build your life on dreams, kindness, hard work &amp; imagination. #manifest  #music\",\n",
              " \"Catching up on Greys, almost couldn't make it through two episodes because of how sad the storyline was. Two best/worst eps for me. \",\n",
              " \"@Haynsie75 Support Qld and you'd never be #angry\",\n",
              " \"The stupidest and weirdest thing people do. And what's more stupid than that? They upload it online. Oh my god. But good for laughter ah. 🤣🤣\",\n",
              " 'Well the new AA advert is absolutely terrifying 😭 #creepy #possessed #horrifying',\n",
              " \"oh how i just love love love glee doing billy joel's numbers!!!!\",\n",
              " 'Wonder how many times connor says fuck in press conference #lost count',\n",
              " 'Every day I dread doing an 8 hour shift in retail 🙂',\n",
              " 'Psalm 2:12 Kiss the Son, lest He be angry, And you perish in the way, When His wrath is kindled but a little.',\n",
              " 'Santorini is so beautiful 😍',\n",
              " 'So excited for the final 10 eps of @MTVteenwolf! So happy @dylanobrien is back and @TylerL_Hoechlin returns, as well as @ColtonLHaynes 😄❤',\n",
              " \"Be strong. Stay positive. Make them wonder how you're still smiling.\",\n",
              " 'that moment when you feel meaningless and just feeling like you cant do anything right =*( #foreveralone ',\n",
              " \"@JaapUnited Sule is going to be a terrific player. Wouldn't be surprised to see him get some game time this year.\",\n",
              " 'One of those days. #Mentalhealth #Anxiety #agoraphobia #panic #depression #OCD',\n",
              " 'Avoid facial cleansers containing harsh chemicals which irritate and weaken the protective barrier of skin. Use natural cleansers.',\n",
              " '2nd time this week I received services for free. It pays to be nice! #kindness #friendliness #bekind #smile',\n",
              " 'My neck still hurting though... 😥',\n",
              " \"Happy happy birthday to the girl who never fails to brighten up everyone's day! Thank you for everything! I'll always be here for you. 🤗\",\n",
              " \"I'm an Indians fan so, I hate Joe Buck. Im glad he looks old af now. 😂 #bitter #AllStarGame\",\n",
              " '@zae200012 I know it bothers me that u worry my love@zae200012 😢😢',\n",
              " '@TweetmeJordan @jordanknight oh, that too! 🤣',\n",
              " 'I got $150 on McGregor, who wanna bet? #serious',\n",
              " 'All of my friends are so attractive and am grim in comparison lol',\n",
              " 'on the upside i saw a corgi puppy on the tube today. my shining light in the dark.',\n",
              " '@FilY0 @VPPilipinas @lenirobredo You are in dire need of therapy.',\n",
              " 'Omg! It just keeps getting better! #MUGGYMIKE &amp; #Sam have to go back in! #LoveIsland #drama #hilarious',\n",
              " \"Big surprise the OTHER woman shouting into her phone pulled the wrong coat and I'm a little afraid of it?\",\n",
              " \"When you miss a call from @ThisisiRadio #devastated 😭 I'm trying not to #cry 😭\",\n",
              " '@CCfunkandsoul happy birthday mate ❤ hope you have an amazing day xx',\n",
              " \"Be fuming if Sunderland sign Murphy like. He was crap when we first signed him and he's still crap now\",\n",
              " 'The use of violence, threat of violence and intimidation just tag zany pf. Very good at it.',\n",
              " \"Just can't sleep but thinking about you always hmmm. #pensive\",\n",
              " \"(y'all) #snap\",\n",
              " 'Pls dont give me empty hope 😧 dont want just say lah zzz',\n",
              " 'As you start and end your day, be thankful for every little thing in your life. You will come to realize how blessed you truly are.',\n",
              " \"I'm all for writing that delivers disturbing images into the mind of the reader...when I'm the one writing it. #shudder #badvisual 😒\",\n",
              " \"@stephentotilo Think it lost its heart after the second version. Third was disappointing and haven't played the fourth yet\",\n",
              " '@espn This is goin to be as good as rocky vs hogan #terrible #ohnowhatisyoudoingbaby',\n",
              " \"Lady Middleton's first coming to her care, the contrary, as she turned involuntarily to _you_ are all sunk the rest, she\",\n",
              " '@DrJaninaRamirez @GlosHistFest Hope to come #yay Do u have central accom list plse? (Lone gal trying to avoid taxis 😉) 🏰 #History #joy',\n",
              " 'At the end of my tether with trying to get any truth or reassurance that our house will be built. #depressed #angry #stillwaiting #Bovis',\n",
              " 'We did all more like a fuss #contentment #Momtauk.',\n",
              " \"@OliviaSundberg1 thanks for this – the perspective is shocking. it's getting to a point where it's near that number every week now.\",\n",
              " 'Twidiot in charge is boring on script. #disapointed i was waiting on the train wreck. They just have him on a shock collar.',\n",
              " 'Take delight in the Lord , and he will give you your heart’s desires.\\\\nPsalms 37:4',\n",
              " \"@Anagaitan09 @kayy_jnsa @lolbhappy @HamzaWamiq @AlissaViolet bully at school now you're bullying your bro\",\n",
              " 'Codes? Lyft codes? We got em! Use: OATH #Great deals are here for you now  #LOVEISLOVE',\n",
              " \"I'm sorry. Im much more interested in the #BachelorInParadise rose ceremony than whatever @realDonaldTrump has. #seriously \",\n",
              " \"Prepare to suffer the sting of Ghost Rider's power! Prepare to know the true meaning of hell!\",\n",
              " \"Tonight's episode of #GameOfThrones is just epic went through so many emotions watching it #dragonwhitewalker #flippinheck #brilliant\",\n",
              " '#AmarnathTerrorAttack @narendramodi @rajnathsingh cn u plz ans wt u r afrd of or wt stpng u to end #terrorism wn whol #India is stndng wth u',\n",
              " '@drstip @flock_of_ewe @cfsmtbation Yeah except then we just end up with Pence. ',\n",
              " 'You got me w that one @AmazonPrime ! New #theTICK trailer is #hilarity',\n",
              " \"@nadisaonline i'm very happy glad or whatever the feelings i'm not into dramas\",\n",
              " 'With James gone, no player would be throwing tantrums when subbed anymore.',\n",
              " \"@catherinerusse2 ooh, how I'd dance with glee around the living room if you emerged from the Tardis at Christmas!\",\n",
              " '@stevenwellings @NextBigPod Yeah good shout. If the build up is acrimonious then the aftermath should reflect that.',\n",
              " \"I didn't give @chelsopat @s0ccer15 credit for bringing me chocolate milk so here it is 🙏🏼 #grateful\",\n",
              " 'Been parked on 610 for about 30 min now 😅',\n",
              " 'skillroads | #AI #Resume creator: Take risks: if you win, you will be #happy; if you lose, you will be wise. #Wisdom #success',\n",
              " '@e662354c8e02466 @AlSure5 You. Sir are a alarmist unsubstantiated facts. And a idiot',\n",
              " '@Snap @Snapchat it is indeed time 4 you 2 create the Ghost Filter 👻 please🙏🏾#CanWeGetAGhostFilter ???  #snapchat #ghostfilter #retweet',\n",
              " '#Laughter strengthens #relationships. #Women are more attracted to someone with the ability to make them #laugh.',\n",
              " 'So Dorje Shugden has been sent a leaf to be torn. Rothschild is struck by Indra wrath lightning and also Iron Fist. 10 bloodlines 2b removed',\n",
              " 'LEO TRAITS: Strengths: Creative, passionate, generous, warm-hearted, cheerful, humorous',\n",
              " 'Not trying to offend nobody',\n",
              " '@worldonalert horrible when and where exactly happen ?',\n",
              " \"It's a #disappointing #frightening #sickening realization @BetsyDeVosED WANTS kids to #fail... #parents need to #pushback &amp; #standup #NOW 😢\",\n",
              " '@Creative_Voices @ScotParl Happy to help :-)',\n",
              " 'Waddup #bitter',\n",
              " 'Thousands of pickled dunder-headed anthracites ! #furious',\n",
              " 'Marriage is the mourning after the knot before.         #laugh #punoftheday',\n",
              " \"no matter how many sad ghost man tears he's crying now! you are not entitled to forgiveness just because you're really sad now!!\",\n",
              " 'Usually the things you are most #afraid of are the most #worthwhile. #FACT #TeamFollowBack #rocktheretweet',\n",
              " 'This morning has been hilarious 😂😂',\n",
              " \"Attention Crew! it's a Happy Tuesday everybody! Make someone #laugh out loud today\",\n",
              " '@MargoGray48 @waff48 @trentnews @katcampbellwx Good morning Margo! We are😀have a terrific Tuesday dear',\n",
              " '@SouthernRailUK no air working in the 1sr carriage of the 18:03 from Victoria to Bognor. #boiling #southernfail',\n",
              " '@benavides_412 awe feels or que :,(',\n",
              " 'To be really knowledgeable and really petty is such a delight to behold.',\n",
              " 'An #angry #person may lose his/her objectivity, empathy, prudence or thoughtfulness and may cause harm to others.',\n",
              " \"Said it once and I'll probably say it again, anything more depressing than making your sandwiches for work the next day #cry\",\n",
              " '@VanBluesat @infrared_rock Among them, is Hawrelak Park and the stage they have there. A great venue. #livemusic #blues',\n",
              " \"@schuygoo : 'like honestly, partying would probably come #1 either way' \\\\n😂😂 #rage\",\n",
              " \"@AC360 Please, please do something about her! Where's Kayleigh, Jack, Jeff? Ugh. #awful #doctor?\",\n",
              " 'I am seriously considering takeing a day off just to stream all day really need to 😂 #😂 #streaming #take #the #day #off',\n",
              " \"Remember when Julia thought she was pregnant with Michael's baby and I was so happy about it and then the storyline got dropped. #pissed\",\n",
              " \"Watched the #eclipse without glasses and it was #great! Now I'll have an #eclipse over my #retinas for the rest of my life ☺️😵\",\n",
              " '2 more months marks my #2year #alcohol # free #sober #life',\n",
              " 'WTF ! @JonnyBones people love you, stay off the dick pills!!!  #goldensnitch',\n",
              " '@Good2bqueen67 @foxandfriends @realDonaldTrump 😂😂😂 says the #coward that hides its ID #loser  #traitor',\n",
              " '@RachelStothard1 @Jomarshall6 No room at the inn when we arrived due to computer error. 24hrs of messing around to get sorted. ',\n",
              " '@passagefoods @TKMaxx_UK @Tesco Yes!!! Thank you. Bought loads today! #happy',\n",
              " \"@ColMorrisDavis @The_Borg_Queen_ @realDonaldTrump Amen!  He doesn't think at all. #arrogance #supremacy\",\n",
              " \"U was posting selfies in the gym last week now ur to scared to buy a McDonald's lol 😂 shows how much ur willing to lie\",\n",
              " 'They are burning not Muslims Economy,\\\\nThey are burning the Economy of Sri-Lanka',\n",
              " \"@Loneranger1166 @NBCNews She's a rhodes scholar! You're so ignorant you probably don't even know what that is #feelsadforyou \",\n",
              " 'So u see, I just wasted 2 hrs to see some extra shadows in the middle of the day #SolarEclipse2017 #dissapointed #OVERHYPED',\n",
              " \"can't believe i have to go work at the job that i voluntarily applied for \",\n",
              " '@loosewomen #dreadful show. #embarrassing 🙊Bear needs to #CalmDown #tryingtoohard #hadtoturnoff',\n",
              " 'Disney having trouble casting Aladdin @tellyleung ....... You should do it! 😊 #warbler #glee',\n",
              " 'Why  o they call it a happy mea. if it tastes like a whole lot like depression.',\n",
              " 'post wireless blues is too real 😒😒',\n",
              " 'Was watching more Subnatica so fun and funny and IGP is so hilarious #funny #omg #amazing #nice #hilarious',\n",
              " \"@zion_kuwonu @TheAustinPorter @nickmara y'all don't follow me yet and I'm \",\n",
              " \"Johnny doesn't seem like the suicidal type #suspicion #tcmparty\",\n",
              " 'Wow that last chick was a bit intense, poor Freddie was a bit unnerved lol #NinjaWarriorAU',\n",
              " \"If I see one more Lakshmi EX enrage, I'm kill someone.\",\n",
              " 'filled with sophisticated glum',\n",
              " 'Olivia is the worst kinda girl there is #psycho  #dick #ihateu #getoffmytv #loveisland',\n",
              " 'What happens if I get lost? Hmm I think I shall return tho 📌',\n",
              " '@italianirish81 Any republican stupid enough to attend one of these grotesque abominations would suffer a horrible death.',\n",
              " \"Wonderful morning at my best friend's house.  She's at work! I'm writing, eating her delicious fresh bread &amp; cake &amp; drinking fresh ☕️ \",\n",
              " '@SteveConteNYC lovely! 😀',\n",
              " \"Y'all ever go to your snap maps and click somewhere random like Saudi Arabia?? Bruh shit is WILD 😂😂😂\",\n",
              " \"lonely is not being alone, it's the feeling that no one cares. #alone #depressed #anxiety\",\n",
              " 'or just blame the gloomy weather',\n",
              " 'I dreamt that my dog, Snoopy, came back to life. Man I miss that dog 🙁',\n",
              " \"But DAMN the sight of them getting scared af makes me feeel SOOO BAD! Which they should feel afraid cause if their mom don't come n it them\",\n",
              " \"@scott_mills after you said an apple pie isn't naughty I really want Chris or  @gregjames to say 'but a cream pie is' #naughymind #rage\",\n",
              " \"Sometimes in #life ....\\\\nSee the #statement itself #sounds so #temporary\\\\nNothing is permanent isn't it?\\\\nSo #never #worry let it go &amp; #moveon\",\n",
              " 'being an entrepreneur at 18 is a real blessing 🙏🏼 the flexibility, doing what you love, and being the one in charge is #great #blessed',\n",
              " 'From the archives... Strikeforce Champ Ronda Rousey 301 #chirp #church #mayhemmiller #naked #rip #rondarousey #twitter',\n",
              " 'Tomorrow should be interesting if info is being released re away priority &amp; Canalside membership! #outrage #htafc',\n",
              " '@5sos i cant wait for the day you release the album so that i can finally unleash my fury \\\\n\\\\ni hate this long ass hiatus ok afshdkflckakdbwi',\n",
              " 'Instead of asking #blessing from GOD the Father, remain #engaged on #pilgrimage of remembrance. Never get #tired on spiritual pilgrimage.',\n",
              " 'Good morning! I hope you all have an amazing Wednesday. #wednesday #positivevvibes ',\n",
              " '@Teenique yessss waiting for an epi is for the birds. it sucks. im waiting for walking dead new season😩 ',\n",
              " '#note8 #animated said pen. Amazing. Wife loves this one',\n",
              " \"@angrydwarf9 @carolinesandall It ruins my frigging night each night at 9pm. Mrs loves it, i've been early to bed for a month. \",\n",
              " 'Ugh @easyJet really do have the worst customer service!!!!!!! #astounded',\n",
              " \"I'm fuming I wanted Hamez\",\n",
              " 'my blood sugar is 399 and my anxiety is wrecking me and i have court like right now and i made us late bc im fighting w my mom #great #good',\n",
              " \"There are girls on my Facebook cheering on the fact that Chyna got a restraining order against Rob just bc of the 'revenge porn' thing\",\n",
              " \"My main concern are the children and his wife thats if she is still stuck with him and if she is, then she's strong af. Jeez 😟\",\n",
              " \"'Is it that funny to you when someone's sad? In that case, I'll beat you 'till you won't even be able to crack a smile!'\",\n",
              " '@AC360 omg.  Who is this nan Hayworth person and where did she come from? Send her back!#sad #bad',\n",
              " \"I just wanna be okay!!\\\\nLike I know I can be all smile and giggles, but hot diggity dang, if that wasn't a mask, life would be swell!\",\n",
              " 'I see you smiling through the steam of my coffee cup',\n",
              " '@LogitechUK Been there done that ',\n",
              " '@kikisshh @gyorzeppeli 14 year old me is crying in delight right noW AXELLLLLLLLLL  ♥♥♥♥♥',\n",
              " \"i want to ruffle jungkook's hair.... this is so sad\",\n",
              " \"Don't be afraid to ask questions! He's real &amp; there's always a revelation.\",\n",
              " \"@SOUNDK2022 always panic before the presentation.. &gt;.&lt;'\",\n",
              " \"@lmwilson92 Girllll I don't even know what's on anymore \",\n",
              " \"@JenBhen @jenwinget Cos she isn't afraid not to look as aesthetically pleasing to the audience.\",\n",
              " \"@DaddysLittleK Wow I've just spotted the cutest human being alive #blessed 😍\",\n",
              " \"I've seen the innocence leave your eyes. I still mourn this death.\",\n",
              " '@1pmlunch I coloured my hair bright red AND had a dodgy fringe. #dreadful #nophotos #thankgoodness #betterblonde',\n",
              " \"You can pair me with your smartphone. Just lay it on me and by spinning I'll pair it into pieces / #smart #playful #washer #IoT\",\n",
              " '#laughing but #crying bc my life is such a shit show',\n",
              " \"Miss Sylvester wants to see you in her office, Mr. Schue. She doesn't like to be kept waiting.  #glee\",\n",
              " \"You couldn't mind me up more if you tried right now raging 🙃😠\",\n",
              " 'Robert called me to make sure I was awake for my night class ',\n",
              " '@cpwomensopen @BrookeHenderson @CHEOhospital @OttawaHuntClub #Priceless  love those #smiles',\n",
              " 'All the proud parents on fb about their kids school report and am shitting myself for Graces arriving 😂😂😂  #troublemaker',\n",
              " 'genuinely think im dying boys n girls never felt so awful in my LIFE x',\n",
              " '@malviyamit Fuck off. Enough of this fake solidarity. #NotInMyName was a rabid #Hinduphobic campaign. Stop giving them legitimacy.',\n",
              " '@bookingcom #croydonparkhotel will be receiving a big complaint from me tomorrow #worseservice #rudestaff #furious',\n",
              " 'I hate these crippling anxiety. :(',\n",
              " 'I finally got my drivers permit #yes #readytodrive #nervous #scared',\n",
              " '@thewarofexo ohhh HAHAHA. but now i do not have a time to watch kdrama 😟',\n",
              " \"I'm in such a good place right now, so happy... 💛 I just wanted to share that #positivevibes #optimism #followingmydream\",\n",
              " '@AlaskaAir as a long time Gold &amp; near Million mile member just had a terrible customer service experience #disappointing',\n",
              " \"'....trying to work out how a band featuring Corin Tucker and Peter Buck (REM) could be so bad.' WAAHHHHH @normanrecords  #devastated\",\n",
              " \"I'm just trying to watch the dragon ball super episode before I go to work but it won't load so #pissed\",\n",
              " '@davidgold @karren_brady My shirt did not arrive today as promised, I even pre-ordered it in June, who do I make my complaint to ? ',\n",
              " '@Karma_cutie aw, you make me smile, too.😉😘',\n",
              " \"Shoutout to @Enterprise bc nothing be will ever be as #horrible as the last 22 #miserable hours I've spent dealing with your #nonsense\",\n",
              " \"A person #hates u for 1 of 3 reasons. They 1) want 2b U; 2) #hate themselves. 3) C U as a #threat. (&amp; don't tell me hate doesn't exist!)\",\n",
              " \"Cochi's face &amp; manner never show sadness. But the guitar always in his hands will play songs that will make you weep. #blues #WIPTruthOrDare\",\n",
              " 'MOTIVATION TIP - Great #salespeople know how to increase #business by eliminating #consumer #complaints #concerns #fears and pet peeves !!',\n",
              " '@jnyalero @BelAkinyii Eng.R  u call a spade a spade if u were good lets all mourn but if you not pop a bottle and say good riddace',\n",
              " \"I should wear black &amp; mourn a lil'.\",\n",
              " 'I make nebulizer look sexy #DarthVader #breathless #sexy #nebulizer #girl',\n",
              " \"@asksheilas I've tried to get through 3 times today and waited 20 mins each time, what do I have to do to get through?! \",\n",
              " 'animated bts is so cool ok im cryin djdndjenns',\n",
              " \"Just started p30 @mrjonathanlynn's SAMARITANS. Spot-on Orwellian discription of #US HealthCare tragedy exploitations melancholic &amp;HILARIOUS!\",\n",
              " 'Ot6 still exist? #julid #deletesoon ',\n",
              " '@joeAlane @KayleyHignell Think too timid. I think a £50 fee for all for ETs as suggested by @Wonkypolicywonk is way to go.',\n",
              " 'is joy okay??? she looked really breathless on stage...',\n",
              " \"Getting up for work is so much harder when Charles doesn't have to 🙁\",\n",
              " '@OfficialPLT when you try to place an order on PLT website and it comes up with an error but still take money out of my account #fuming',\n",
              " '@AuralOrgasim Looking at babies just makes me cross my legs and wince 😂',\n",
              " 'Nothing more fun to do at a day like this 😭☔️🌧 #dark #rainy',\n",
              " \"@RanaAyyub @rajnathsingh So what's wrong in burning the terrorists alive? If they kill you do you want biryanis and award in return\",\n",
              " 'had noodles for tea\\\\nyummmmmmy\\\\n#yum #yummy #ddlg #abdl #chgl #noodles',\n",
              " 'nw immortal songs 2 || the blues ♥',\n",
              " 'This pain makes me want to hit something!!!!😞 #irritated',\n",
              " '@kaylynreynolds @katycpstrong Ha brilliant 😂. Its really not ok is it 🙁 xx',\n",
              " \"@jamaicajewell burning, throbbing, stabbing. Can't exactly explain how it feels but this damn sht is fvking painful for real\",\n",
              " 'The times when you need someone to lean on but sadly they are only there if they need you',\n",
              " 'America...just a nation of two hundred million used car salesmen with all the money we need to buy guns and no qualm',\n",
              " \"This Wednesday @ChandlerBMusic #kickstarter begins! Y'all be READY! #ChandlerBayMusic #ChandlerBayEP #tantrum\",\n",
              " '@mxxxcxxx weekedn cheer',\n",
              " '@funnyrealfact Thx 4 follow! I #terrify with letters&amp;tweets.Prefer I hand out sweets.Perhaps they are powerful like Apostle Paul 2Cor10:9-10',\n",
              " '@Hurricane_Surge Id argue that sakura space is the best of the franchise and its not on your list. #dissapointed',\n",
              " \"@luxlikelindsey because one of the main symptoms is restlessness and it could explain why he isn't able to sleep/might not want to\",\n",
              " 'deni &amp; i on here be4: known as friendship goals by all our adorable mutuals 💘💗🙆🏻✨!⭐️™\\\\nus now: tweets three times a day about depression',\n",
              " '@Not_Yves 😂 me as hell',\n",
              " 'What does this buffoon and his team have to do for you trump fans to bail!!?? #confused ',\n",
              " \"Wow ... I don't know who Jocelyn Alice is, but judging by her rendition of Oh Canada, I'll never buy any of her music #AllStarGame #awful\",\n",
              " '@EsteemedKompany is dani alves really going to go to PSG in your opinion #nervous',\n",
              " 'Felt like a lost soul in front of @katetempest, shivering more than ever #nowordstodescribe #emotional #beautiful #festival #aufoindelarue',\n",
              " 'My heart is hurting because I had to pour my milk out because something was in it 😭',\n",
              " '3. There is already a lot of resentment against the coal miner and union crowd among the liberals. They are seen as racist and as having',\n",
              " \"@thequippster Okay but like why haven't you told me about this yet? \",\n",
              " \"Utd fans taste on strikers have become SO low. Their enchanted by close to poverty level strikers and it's hilarious to see.\",\n",
              " 'i do love shack shake',\n",
              " \"So, basically, Donald Trump was so intimidated by Hillary Clinton that he sought foreign assistance (including cyberattacks) to 'win'?\",\n",
              " 'complainin bitcoin has dropped. The altcoin bubble has burst. Bitcoin cud go to $1800 mid/end July but will rise above previous highs\\\\n#HODL',\n",
              " '@ian_beckett Have the most wonderful day Ian. ',\n",
              " \"Why is @DonaldJTrumpJr 'busted' bc he spoke w/Russian lawyer? He's a world bizman. Where was the outrage bc @SenSanders honeymooned there?\",\n",
              " 'Did they offend us and they want it to sound new?',\n",
              " '#fans #gamers what you think @EAMaddenNFL 18 is going to rate the #Dolphins #offense #defense special teams rating &amp; rank out of 32 teams',\n",
              " '#Worry steals your #happiness, robs your #energy. #success #quote #BertMartinez',\n",
              " 'Sometimes we create our own heartbreaks through expectations. When #love prevails, fear departs. Learn to be grateful for our moments. Quiet',\n",
              " 'how are you my love? @Hashtag_DonJon love youu!! thanks for the smile, that motivates me to keep going!! 💛 so blessed to have you 😊',\n",
              " '@PinkNews An outrage',\n",
              " 'Happy happy birthday @mrjaxtaylor  hope your day is f*n awesome! Have a drink or two or five for me!!',\n",
              " \"Went to 3 western union outlets will take my money but when I need to receive cash from them they won't allow me #bad #service #westernunion\",\n",
              " '@Scientists4EU that is amazing not only can it make people hear it can make us all #cry as well 😘',\n",
              " \"I've seen some get so discouraged in their old age becos they aren't physically able 2 do the things for God they used 2 do in their youth.\",\n",
              " 'Holding a #grudge is like allowing someone to #live #rent #free in your #head #WednesdayWisdom #MotivationalQuotes',\n",
              " 'Looking up some phone prices online and it just saddens me even more 😧 ',\n",
              " 'Good Morning #start 2Wheel #free course *Pune *8888006565',\n",
              " 'QLD are like the All Blacks #relentless',\n",
              " '@lukasbradley use the F word as much as you need to. People may start to listen. :)',\n",
              " '@_StevenKavuma I know!! #carefree',\n",
              " 'Learning without thought is labor lost; thought without learning is perilous.  #Confucius',\n",
              " \"@sydboyd_ It used to scare me too...  But it's better this way.\",\n",
              " 'Do #you #said, people never cross the 10! #serious',\n",
              " 'Thank you for sending random kind people into my life when I need them the most #smiling #grateful',\n",
              " 'Another blow for students as the SU have shunned wildcats for fear they will offend Dr. Dre.',\n",
              " 'In less than a month I get to see @NEEDTOBREATHE and @GavinDeGraw in concert with @lilbittysmitty and I already have zero chill! ',\n",
              " 'We get #upset when we are #overlooked for doing things for others, even small things. Imagine how #Jesus feels when he died for our sins.',\n",
              " 'Lying at the pool with John , ice cream , drinks, 29 degrees and listening to busted ✌🏼️ #bliss',\n",
              " 'Hi @AmazonHelp my hairdryer that is less than a year old has started smelling of burning plastic- can you help?',\n",
              " 'Morning Swindon!\\\\nIs there any chance you can cheer yourself up a bit?!! #bleak 😝',\n",
              " 'Words cannot describe the sheer pain of the blisters caused by these new sandals. I am this close to going barefoot all the way home #grim',\n",
              " '@mycharlibrown @pcbcat43 Happy birthday Mom what a wonderful cake delivery youre blessed',\n",
              " \"I've had my share of trials and tests. But you know what? God has always stayed with me and brought me through! 😊\\\\n#Survivor #grateful #truth\",\n",
              " 'If money cannot buy happiness, can you ever be truly happy with no money?',\n",
              " \"I'm fuming, I was buying games for it and everything! That's so out of order #AmazonPrimeDay\",\n",
              " 'Wear a smile, one size fits all. #inspire #simple #simplethings #motivation  #health #healthcare #relax #goals',\n",
              " '@Dreamsof96 You want me to slap you? 😂',\n",
              " 'My take on recent Yatra. Security forces have done s wonderful job fighting terror. They have also made supreme sacrifice. Civilian turn now',\n",
              " \"Have you ever spoke in tongues, don't be afraid.\",\n",
              " \"Marriage is the place where two WHOLE pple are supposed to come together not a broken sick person seeking fixing it's a terrible arrangement\",\n",
              " 'LibertySeeds: realDonaldTrump LizCrokin Great #start for #MAGA ...',\n",
              " '@RedNationRising @POTUS Agree. I used to love her Fox show until she turned. Now she exudes a bitter attitude. She is done with television.',\n",
              " 'All I want is get my sister @ashleyclaw &amp; @chrisdelia in a room and listen to both of them laugh #Hollywoodimprov #laughteristhebestmeds #😂',\n",
              " \"it's still kind of weird that this guy was an Atlantic contributor for so long, mostly as a one-man cheering section for Elena Kagan\",\n",
              " '@narendramodi Really it was very sad and shame!!!',\n",
              " 'blood rage',\n",
              " '@hugaarondingle God, the way he said that line... 😭\\xa0💔 #amazing #loveDannyBMiller #robron',\n",
              " 'Feeling slightly apprehensive, but amazing after this weekend off😊 ',\n",
              " 'Having a movie day with my favorite today 😄 god I love my lil goth bean.',\n",
              " '4. I should start numbering these geezㅡ anyways im filipino but not fluent in the language huhu me ☹',\n",
              " \"Quote of the day comes from Queen Cersei herself @IAMLenaHeadey 'Power hungry people are fearful, otherwise why wouldn't you just chill?' 👏\",\n",
              " \"@StevieRenee3 @realDonaldTrump It's what they'll be known for. Temper tantrums, obstruction, working against the American people.\",\n",
              " '1/ ...do not give the devil an opportunity [to lead you into sin by holding a grudge, or nurturing anger, or harboring resentment, or',\n",
              " \"@mythos1014 I think I will tomorrow. I ain't ready for all those feels though. 😥\",\n",
              " 'Does every #GOP have an #obnoxious #TWANG?  WTF?  Watching #FOX is #shocking!  More #hicks than I can stand!',\n",
              " \"@GMA4Trump_ Nope we don't have it. It's an #outrage\",\n",
              " 'I love when gg cheering up eo. Apink rv mamamoo jjang!!!!',\n",
              " \"Morning! Good vibes today people!! It's July 11, 2017 at 09:00AM #goodmorning #twitter #happy\",\n",
              " \"I'm new to the #instructionalcoach world and would love to know your fave resources! I will be in a high school new to IC. #nervous #excited\",\n",
              " '#upset #emotional\\\\nMissing loved ones, wishing they were with me and this nightmare was over 😔😥',\n",
              " '@balbirpunj @sgurumurthy #Conversion is root cause of most acts of violence, wars &amp; #terrorism in history of human civilisation .. !!',\n",
              " \"Jordan is helping Arya hunt a moth, lifting her up to get it on the walls. it's super adorable. #kitten #boyfriend #adorable #hunting\",\n",
              " '@carelcj_ homyghad 😢',\n",
              " 'Daniel killing her ex doeee🍫🍫🍫😛 #insecure',\n",
              " 'Paul is such a fucking bully! Dam leave the poor guy alone. He went on #BB19 to play the game same as you SMDH pathetic #annoyed #worstvet',\n",
              " '@djallsorts playing Bliss #bliss A Quiet Coversation taken from the Six Senses Album by Claude Challe #claudechalle',\n",
              " 'A #happy woman is always ., A #beautiful woman !😊😇\\\\n#womanhood #beingwoman.',\n",
              " 'For Goldman, it proved to be a PR nightmare. The bank’s investment arm was blasted for snapping up what were labeled “hunger bonds,”',\n",
              " 'I would anybody have seen it\\\\nI’ll laugh all the car?\\\\nClothes are really gettin in a night I lost myself, hating myself, I',\n",
              " \"It's my #party #Hashtag10 and I'll #cry if I want to ...... Not really! #Hashtag10 celebrations and I shall #rejoice! I love quirky ones!\",\n",
              " 'I was so scared!.. I thought I lost another daughter tonight.  #grateful OTM❤',\n",
              " '@SweatbandActive Bullies, rudeness and littering all make me #mad!',\n",
              " \"The @StandardDiary nailing @SarahTheDuchess the other day was very amusing! 'I've written 56 books... ' @standardnews #hilarious #funny\",\n",
              " '@snowberrytae When I just added @Gochi_mong on snap yesterday and I watched her stories today....oh lord I’m just torturing myself 🤦🏻\\u200d♀️😭',\n",
              " \"My boss' have a right grudge against me today🙄\",\n",
              " 'When I get clear on what actions to take, my #fear transforms into excitement because I am in step-by-precious-step action. Can you relate?',\n",
              " \"I'm blessed with a wonderful older sister I'm so happy\",\n",
              " 'Codes? Lyft codes? We got em! Use: INVITES -- Want to ride anywhere free? #wonderful',\n",
              " \"I always get annoyed  or unhappy about the way I look in pictures but I have to accept that you can't change your face lol\",\n",
              " '@ChrisCuomo Same as the bully in second grade. Classic.',\n",
              " 'The number of ppl who took it the wrong way is not that alarming, but srsly why do u think lyt dat man oy 😊',\n",
              " '@Marcella_Jonas One of the twins was sleeping next to me. I tried to cover my laughter, but I shook so hard she woke up!',\n",
              " \"@ABCTV @AuSenate @annabelcrabb I confess I didn't watch last week. #bad Are you going to do an episode on accessibility?\",\n",
              " \"Whenever u have a bad day, just remember that there's a bitch stalking you like it's their religion just to see if ur happier than them 😘\",\n",
              " '@Muhd_Babba I started reading it but it made no sense kawai I left it 😅',\n",
              " \"@CaxtonSupport I'm sorry but I don't know what DM stands for. I know a PM 😂. But sadly not a DM. It won't create an account to find.\",\n",
              " 'bro im fuming right now how the fuck did we hand them over james for 45m, we probably paid for his plane ticket aswell so shameless',\n",
              " 'You hold my every moment you calm my raging seas you walk with me through fire and heal all my disease 💕💕💕❤❤',\n",
              " \"@CallumOBrien3 @PlymouthHerald Getting common place now I'm afraid ... even getting the 'on this day ' articles repeated ... !\",\n",
              " 'Smile because you have the promise of tomorrow and the next day and the next day ..endless possibilities ! #focus #live #happiness',\n",
              " \"I don't even have a Parking infraction in this City I Graduated 25 years ago. I have been completely #sober since May of last year. #RockOn!\",\n",
              " 'Dirty Den returns, bursting forth from his grave to deliver a horrible vengeance.',\n",
              " 'Over 9 hours, 6 trains and 7 stations only to be back where I started #nightmare',\n",
              " 'Idk why tiff always have a 6:30 am alarm that rings everyday for',\n",
              " \"You won't find #excuses if you seek #optimism. #realtalk\",\n",
              " 'Confidence c|mos not from always being right but from not fearing ho be wrong.-Peter ;. Mcintyre',\n",
              " '@realDonaldTrump How many in your family,Admin or camp need to get caught with the hand in the cookie jar @DonaldJTrumpJr #idiots #sad',\n",
              " 'Kidnapping and hostage-taking threats are on the rise. #civics #war ',\n",
              " 'Does anybody mom annoy them just by talking and she probably not even trying to annoy you 😂',\n",
              " '@cherishnorminah well be offended then cause im speakin truths here 😜',\n",
              " \"Chanyeol always cheering, he'll claps loudly and very happy when talks about something funny\",\n",
              " \"Well played radio station. Playing the song 'Total Eclipse of the Heart' at the start of the eclipse! #Eclipse #brilliant\",\n",
              " \"@superdupertashy What's with the frown? Cheer up!\",\n",
              " '@Kawells00 Oh your art so wonderful 😭',\n",
              " '@kimberlee__xox awe thanks you so much ❤️❤️ love you too',\n",
              " '@LiamPaulCanning Gotten on the wrong side with Dortmund as well. Watzke not happy with how they handle the situation. #arrogance',\n",
              " '@LondonEconomic Sometimes our judiciary just leaves you breathless and speechless.',\n",
              " \"Don't be discouraged.\",\n",
              " '@KOlusola @CurlineO Just look at those happy smiles! Beautiful! 💛',\n",
              " \"@Everton @WayneRooney Did you not film them when we equalised ? Hmm didn't think so #disappointing\",\n",
              " 'smile princess , it looks good on you ..',\n",
              " 'What a raucous crowd today @GCSchoolsNC #GCSArtsPD17! How often does one hear applause and cheers at PD?! #excitement @ARTSEDNC @nakiahardy',\n",
              " \"I'm actually very irritated 😡\",\n",
              " 'fuck shit fuck fuck shit  #suicideISanoption',\n",
              " 'Me: yells at ppl for having low self-esteem\\\\nAlso me: burning myself in a trash can in a dumpster in hell for ppl with no self esteem',\n",
              " '@sebastiankurz : We need more mutual #trust to increase #security &amp; fight #terrorism &amp; #radicalization in Europe #osce17AUT #Diplomacy140',\n",
              " \"I feel bad for people who don't understand my sarcasm. They think I'm mean, but really I'm hysterical &amp; they don't realize it. #sad #funny\",\n",
              " 'I hope everyone has a safe and fantastic day!!! 😊',\n",
              " \"Me: How much price for this poster of this sexy man? Sales Clerk: That's a mirror, sir.\\\\n #LaughOutLoud \",\n",
              " 'I do not fear bugs, as being poor.',\n",
              " \"Skyq is 👌🏼 but it's about time @SkyUK sorted there internet out! \",\n",
              " \"@VarunsPrincess_ Huhh It's awesome 😍\\\\nI'm obsessed with it 😍😂\",\n",
              " \"By the lack of cheers for cozart when he was announced, one would assume people don't know who the reds are. #cincysports #depressing\",\n",
              " 'I hate the smell of cigarettes.. 😠',\n",
              " 'whats for #breakfast today ? i have 2 slices of #bread out i #toast them #spread them with #butter &amp; #strawberry jem and yum #delicious !',\n",
              " '.@PayPal  why do you always make it so incredibly difficult to do anything or get anything resolved?  #customerservice #sucks',\n",
              " \"I'm #afraid he might kill me if I'm not good!\",\n",
              " \"“Tell me, Doctor, are you afraid of #death?'\\\\n'I guess it depends on how you #die.”\",\n",
              " \"You won't reach a #goal you hide in a drawer. Keep it in front of your face at all times.  #WednesdayWisdom\",\n",
              " \"It's arrived and can't wait to read and learn! #specialneedsandlegalentitlement 2nd edition. If it's as good as the 1st edition \",\n",
              " 'And now that Im having the other way around, i feel so upset and sad',\n",
              " 'I need a beer #irritated',\n",
              " 'Reason #1001 why moms would make great elected officials...negotiating a two year olds . #hardwork #worthit #maybeitstheeclipse',\n",
              " 'I cry whenever they call me mico chan 😭',\n",
              " \"@Mike_J_Lord You're welcome 😃\",\n",
              " \"yikes got my first job interview next week, haven't had one in years \",\n",
              " \"@IrmaDiggs @rollcall These cuts don't just sting.  Sting I can handle.  These cuts are amputations.\",\n",
              " \"seulgi, fret not. that's okay!\",\n",
              " 'Time to get my dreads back I miss them 😩😩 #dread head #girlswithdreads',\n",
              " 'I need a LIST of group that debuted in 2010 and disbanded so I can grieve',\n",
              " '@SWATI_V_JOSHI Goons of Mamata spread everywhere as terror elements.',\n",
              " '@LePetitChatNYC @NYGovCuomo @MTA ugh i dread having to ride those trains again',\n",
              " \"Morning all! Here's to a #wonderful #Wednesday with #warm #weather &amp; #happy #holiday makers may the #sun #shine on #Cornwall #kernow #enjoy\",\n",
              " \"(I've been shaking for the last 30 minutes, I've steadied to the point where I can type again lmao)\",\n",
              " \"@pattrice It's a bit sad really. You'd think that he/she/it had something better to do, wouldn't you?\",\n",
              " '@stephaniemain2 haha Use separate sheet if necessary 😆',\n",
              " \"@justapenname @lettrs @RealJamesWoods btw you're a #brilliant\",\n",
              " \"Lost my glasses right before I'm supposed to see a movie at the Chinese Theater. #pissed\",\n",
              " \"@_antithesis_1 @saikatd Don't insult donkeys\",\n",
              " 'You can be discouraged by failure or you can learn from it. -- Thomas J. Watson,#motivationalquote,#success',\n",
              " \"It's a terrible feeling walking into a spider web,but I try and make myself happy w/ the possibility I could turn into spidergirl. #comickid\",\n",
              " 'This is the day the Lord hath made! I will rejoice &amp; be glad in it!',\n",
              " \"#Vocabulary #1: Crap : extremely poor in quality.\\\\n\\\\nEx3: That movie was terrible. I can't believe I just wasted $10 on such #crap !\\\\n\\\\n#English\",\n",
              " 'R5 fans confuse there hatred for being called a Disney band with hatred for a&amp;a. Sad.',\n",
              " '@emilyhroderick Electronics also have foibles, personality faults, like to sulk and crash just like humans... switch off and desolder',\n",
              " '@Jeremy_Hunt Unbelievable #arrogance to think you know better than #StephenHawking .',\n",
              " 'Remember : first come the fear then the blessing. Wooh!',\n",
              " '@azta110790 sports will always be ',\n",
              " 'if jk realize what taehyung did can he do that to taehyung as a revenge? i would love to',\n",
              " '@WthrmnSlaughter whew! I was nervous!! 🙌🏽🙌🏽',\n",
              " 'I want a whole show of @chrislhayes just reading emojis. #adorable #inners',\n",
              " 'Attention seeker Chris Uhlmann highly aroused over the attention he drew to himself now enjoying some fists of fury time @abcnews @abc730',\n",
              " \"i got a place at that school and i start monday!! i'm so excited! (even if it is just 3 days haha)\",\n",
              " '@Geordiegirl1967 @TKnicegirl @castielsmish they need time to grieve.',\n",
              " '@LackWille To much good lookin for one picture 😍',\n",
              " 'New Lyft User? Use code to get credit: INVITES #Hey coupon clippers! #cheery #LyftNOW',\n",
              " \"\\ufeffMummy came home and ordered pizza even though there's food in the fridge. I ain't fighting the hypocrisy this time #jalepenos #pine #chicken\",\n",
              " \"@Miss_Wisconsin It's amazing what not being told no enough can raise. #horrid\",\n",
              " '@20committee Don Jr lawyered up with the wrong folk. He aint so bright.',\n",
              " 'What can you say about @rogerfederer #awestruck.....',\n",
              " 'Day 1 tom 😱',\n",
              " \"I can feel my skull shatter from the dull chatter\\\\nBrain spattered on the wall\\\\nGrey stains won't dissolve\\\\nNow I have to paint it all\",\n",
              " \"@vivschwarz Yeah I'd terminate your contract. I had a similar problem in last place where I was told I should have 'business broadband' 😠\",\n",
              " '#Impeach\\\\nJust a reminder - we have a bratty, infantile, insecure man running the country &amp; congress is allowing him to throw his tantrums.',\n",
              " \"This airport's so grim it makes Gatwick feel like Buckingham Palace\",\n",
              " 'Smiles and laughter are always good, but never forget your Poker Face - Kaito Kid  #DCQuotes',\n",
              " \"@realDonaldTrump is such an #ass. He thinks being #president is his stage to get #attention. He's like a baby throwing a #tantrum\",\n",
              " 'Alien Newborn - Alien: Resurrection (Sideshow Collectibles) - This thing really was an abomination! #horror #aliens #figures',\n",
              " '#good to learning #wisdom &lt;&lt; reform (v): make in order to improve something &gt;&gt;',\n",
              " 'Having a 280 day snap streak end is heartbreaking',\n",
              " 'Find research about terrorism over time and around the world; extremist and terrorist groups.',\n",
              " 'Sometimes you have to smile to hide your fears and to laugh to hide your tears',\n",
              " \"I am trying to get through to the #RAC because I've had a car collision..been waiting in a queue for 16 minutes #shocking\",\n",
              " '@KETV Very scary but so glad the nabbed him. Afraid there may be more :(',\n",
              " 'I LOVE @AerialWarehouse - conquering my #fears and gaining #strength and #grace 💪🏼💫💜 #aerialsilks #aerialarts',\n",
              " \"Provide gainful employment to men and women so that they don't end up joining vigilante outfits or terror squads\",\n",
              " '@ChristinaSNP All this great news.... it must be hurting some folk to be happy about this. 😊',\n",
              " 'yesterday was amazing. thank u #mtv cant wait for the #interview the #irony is 7.10 was also supposed to be my 7 yr anv. plus6yr. ',\n",
              " \"Creator, Jack Dorsey: 'The definition [of #Twitter] was 'a short burst of inconsequential information,' and 'chirps from birds'.'\",\n",
              " '@DavidLammy This kind of abuse is UNBELIEVABLE and an absolute disgrace. It makes me sad to see this #dismayed',\n",
              " 'Going to #BigApple tomorrow! Loving #NJTransit #commute! Wearing #khakis #whiteshirt #maybeblue #brownshoes #macys #joy #jealousyet?\\\\n#usa',\n",
              " \"@DaddyZoey Yea I'm going to go back when I get off work because that's ridiculous 😭 I'm super pissed\",\n",
              " \"no offense to those who love k culture, u can love it all you want bbs!! 💖 but i just personally want to get to know my own country's-\",\n",
              " '“I can’t afford to hate people. I don’t have that kind of time.” – #BobRoss  💛💙 #TuesdayMotivation  #sober #xa',\n",
              " 'Difficult roads often lead to Beautiful destinations! #keepgoing #keeppushing #startsomewhere #key #start',\n",
              " \"There's nothing more #depressing to me than thinking about how many times I will shave my legs in my lifetime. #showerthoughts #writer\",\n",
              " '@btsportfootball he will haunt RM in the CL',\n",
              " '@NexaExperience Most pathetic after service experience for Baleno servicing, #horrible Feel i have made a mistake buying',\n",
              " 'Strapless wedding dresses look awful on most people. \\\\nJulianne Hough looked great 👌🏼',\n",
              " 'Lady singing really loudly with headphones on making everyone giggle @greateranglia #train #journey #smile',\n",
              " 'He is very playful and can hardly stay in one spot.',\n",
              " '@tiffanyreisz Never a dull moment with you two😂',\n",
              " 'Carlsbad #Rouladen is one #delicious, hearty, home-style dish! Stop by and let us know how you like it! #getdtl #ldnont #chaucers #marienbad',\n",
              " \"@pdmcmagic Everyday I'm #stretching my elastic bands ready for #practicing #magic #entertaining\",\n",
              " '@psychoticdream1 @CNN Wow, there is at least 1 person who still watches CNN. 🙄 have a nice day! Clearly ur still pissed u lost 😂',\n",
              " 'Really sad to hear about terror attack on pilgrims. Condolences with victims family #NotInMyName',\n",
              " 'oh crap...I lost $100 on poker games yesterday :(',\n",
              " 'panas sia omg i cannot 😡',\n",
              " \"It's been just over a decade since #NickSaban quit as the @MiamiDolphins head coach! Good coaches don't quit  #suckynflcoach\",\n",
              " 'That maybe she just lost her job in the recession and is trying out a new career path',\n",
              " 'Honey, you hurt me the way the sun touches my skin today #burning',\n",
              " '@Sailingflyingd @kylegriffin1 This is what happens when blinded by raging hatred',\n",
              " 'Why so sensitive?! Did someone put you in your place???? #awe #shutthefuckup',\n",
              " 'yo where my sullen state stans @',\n",
              " 'The optimist sees opportunity in every #barbecue; the pessimist sees barbecue in every opportunity.',\n",
              " '#funny #quote #joke Hilarious joke quote of the day! For more funny jokes pics and great humor quote',\n",
              " \"@Bethanblog Happy to help :) If there is anything we can do for you please don't hesitate to ask. - Thanks - James K\",\n",
              " \"*gen math class*\\\\n\\\\nms: what is the value of x in this eq'n?\\\\n\\\\nme: x is 10....tial dread and suffering is a prison without escape, only death.\",\n",
              " '@Scriblit @TheMendozaWoman Ugh! Not those vile men again. 😱',\n",
              " 'The excitement I get when I see tipping point is on tv is rather sad',\n",
              " \"There really isn't a more depressing feeling than coming home from a holiday 🙇🏽\\u200d♀️🙇🏽\\u200d♀️\",\n",
              " '@liwei987891 Greetings! #Depression is #anger inward.Secondary feeling.Its hurt needs #healing.Tears taken from inward to outward.Eph4:19',\n",
              " 'Is that a fashion to wear a tight pants, so u can see a camel toy? Lol 🤣 #fashion #girl #girl #pants  #fact',\n",
              " 'Be weird. Be #happy. Be #grateful. Be #positive. Be open #minded.\\\\r#love #bliss #success',\n",
              " 'Every time I fart my dog jumps in fear hahahaha yass',\n",
              " 'Fuck @mariannethyssen  Let us go for #splendid isolation !',\n",
              " '@ComeJesusSoon trembled, the #earth quaked, and it became a very great #panic. [2/2]',\n",
              " 'Looking for a Lyft ride? $50 free w/ Lyft Code: CLEO # MK #mirthful #LOVETOSAVEMONEY',\n",
              " 'You still have hope Of being lonely, apart, not having a baby. #dismal',\n",
              " 'Going to finally start getting ready for my move☺️ ',\n",
              " '@No1likeNole @danielNolefan Ugh..hate Manarino got this game 😦',\n",
              " 'I let my anger get the best of me yesterday &amp; I feed in',\n",
              " '@itscxelsea Whats more sad are the adults who continue to do it afterwards',\n",
              " \"I've lost many things, but earned many more. #grateful\",\n",
              " \"@StansburyShow you'll have to forgive me, I have a personal grudge against cnn that dates back as far as the first gulf war.\",\n",
              " 'Game of Thrones was like The Revenant on high 🤔😂🐻🐉 #zombiebear #GameOfThrones #GOT #whitewalkers #terrifying #TheRevenant',\n",
              " '@FoxySnaps @NengoHD @SGalehaut How did you attend men 😱',\n",
              " 'My hittas a shake the spot if I point my finger',\n",
              " '#dull start',\n",
              " 'This morning, watched a hummingbird, two cardinals, a bunch of finches, a large bunny, and a baby bunny all feasting in the backyard. #happy',\n",
              " \"Accidentally looked directly into the solar eclipse. Didn't die. Didn't get superpowers either. #disappointing #SolarEclispe2017\",\n",
              " ...]"
            ]
          },
          "metadata": {},
          "execution_count": 13
        }
      ],
      "source": [
        "test_text"
      ]
    },
    {
      "cell_type": "code",
      "source": [
        "test_label"
      ],
      "metadata": {
        "colab": {
          "base_uri": "https://localhost:8080/"
        },
        "id": "KlqWVZ1XAL2y",
        "outputId": "b44ede58-e828-4a7f-801a-b3b831bbf55a"
      },
      "execution_count": 14,
      "outputs": [
        {
          "output_type": "execute_result",
          "data": {
            "text/plain": [
              "array([[0., 0., 0., ..., 0., 0., 0.],\n",
              "       [0., 0., 0., ..., 0., 0., 0.],\n",
              "       [0., 0., 0., ..., 0., 0., 0.],\n",
              "       ...,\n",
              "       [0., 0., 0., ..., 0., 0., 0.],\n",
              "       [0., 0., 0., ..., 0., 0., 0.],\n",
              "       [0., 0., 0., ..., 0., 0., 0.]])"
            ]
          },
          "metadata": {},
          "execution_count": 14
        }
      ]
    },
    {
      "cell_type": "markdown",
      "metadata": {
        "id": "y2s0V83TlJ9a"
      },
      "source": [
        "## Create Huggingface DataSet"
      ]
    },
    {
      "cell_type": "code",
      "execution_count": 15,
      "metadata": {
        "id": "UCr0cczUifhP"
      },
      "outputs": [],
      "source": [
        "trainset = Dataset.from_dict({\n",
        "    'texts': train_text,\n",
        "    'labels': train_label\n",
        "})\n",
        "\n",
        "validset = Dataset.from_dict({\n",
        "    'texts': valid_text,\n",
        "    'labels': valid_label\n",
        "})\n",
        "\n",
        "testset = Dataset.from_dict({\n",
        "    'texts': test_text,\n",
        "    'labels': test_label\n",
        "})"
      ]
    },
    {
      "cell_type": "code",
      "source": [
        "trainset"
      ],
      "metadata": {
        "colab": {
          "base_uri": "https://localhost:8080/"
        },
        "id": "haNC0UiGBzsZ",
        "outputId": "d5297ebd-559a-4993-9f26-5b2990305002"
      },
      "execution_count": 16,
      "outputs": [
        {
          "output_type": "execute_result",
          "data": {
            "text/plain": [
              "Dataset({\n",
              "    features: ['texts', 'labels'],\n",
              "    num_rows: 6179\n",
              "})"
            ]
          },
          "metadata": {},
          "execution_count": 16
        }
      ]
    },
    {
      "cell_type": "code",
      "execution_count": 17,
      "metadata": {
        "id": "C0TxntDcifcq",
        "colab": {
          "base_uri": "https://localhost:8080/"
        },
        "outputId": "160ac3d4-91cf-4693-9576-4daeef6b28d0"
      },
      "outputs": [
        {
          "output_type": "execute_result",
          "data": {
            "text/plain": [
              "{'texts': Value(dtype='string', id=None),\n",
              " 'labels': Sequence(feature=Value(dtype='float64', id=None), length=-1, id=None)}"
            ]
          },
          "metadata": {},
          "execution_count": 17
        }
      ],
      "source": [
        "trainset.features"
      ]
    },
    {
      "cell_type": "code",
      "execution_count": 18,
      "metadata": {
        "id": "Ce6IFEhAifWC",
        "colab": {
          "base_uri": "https://localhost:8080/"
        },
        "outputId": "f8bb6e62-7960-415a-b955-a6a0bb0e8c45"
      },
      "outputs": [
        {
          "output_type": "execute_result",
          "data": {
            "text/plain": [
              "Sequence(feature=Value(dtype='float64', id=None), length=-1, id=None)"
            ]
          },
          "metadata": {},
          "execution_count": 18
        }
      ],
      "source": [
        "trainset.features['labels']"
      ]
    },
    {
      "cell_type": "code",
      "execution_count": 19,
      "metadata": {
        "id": "mv8nhRvDifRT",
        "colab": {
          "base_uri": "https://localhost:8080/"
        },
        "outputId": "c2fe5bbc-6096-4e49-a245-0d28d765c337"
      },
      "outputs": [
        {
          "output_type": "execute_result",
          "data": {
            "text/plain": [
              "{'texts': \"@carysmithwriter @Maria_Savva @RealRockAndRoll We're the least known band in the World, but so glad you asked #muchlove \",\n",
              " 'labels': [0.0, 0.0, 0.0, 0.0, 1.0, 1.0, 1.0, 0.0, 0.0, 0.0, 0.0]}"
            ]
          },
          "metadata": {},
          "execution_count": 19
        }
      ],
      "source": [
        "trainset[1]"
      ]
    },
    {
      "cell_type": "code",
      "execution_count": 20,
      "metadata": {
        "id": "M8nVcD44ifMe",
        "colab": {
          "base_uri": "https://localhost:8080/",
          "height": 52
        },
        "outputId": "1c8eb8c3-4fc6-4150-d173-490eb8ae5c11"
      },
      "outputs": [
        {
          "output_type": "execute_result",
          "data": {
            "text/plain": [
              "\"Going to get myself a copy of @StephenKing's CUJO for an upcoming project that I can't talk about just yet.  #amwriting\""
            ],
            "application/vnd.google.colaboratory.intrinsic+json": {
              "type": "string"
            }
          },
          "metadata": {},
          "execution_count": 20
        }
      ],
      "source": [
        "trainset[0]['texts']"
      ]
    },
    {
      "cell_type": "code",
      "execution_count": 21,
      "metadata": {
        "id": "lmumLsOdmd3v",
        "colab": {
          "base_uri": "https://localhost:8080/"
        },
        "outputId": "4572d540-1811-4ecb-bebb-ec804de573ef"
      },
      "outputs": [
        {
          "output_type": "execute_result",
          "data": {
            "text/plain": [
              "[0.0, 0.0, 0.0, 0.0, 1.0, 1.0, 1.0, 0.0, 0.0, 0.0, 0.0]"
            ]
          },
          "metadata": {},
          "execution_count": 21
        }
      ],
      "source": [
        " trainset[1]['labels']"
      ]
    },
    {
      "cell_type": "code",
      "execution_count": 22,
      "metadata": {
        "id": "bbEjuU2Zmd1K",
        "colab": {
          "base_uri": "https://localhost:8080/"
        },
        "outputId": "4ab72f6d-9481-4b23-df1a-f17a76e75ee6"
      },
      "outputs": [
        {
          "output_type": "stream",
          "name": "stderr",
          "text": [
            "/usr/local/lib/python3.10/dist-packages/huggingface_hub/utils/_token.py:88: UserWarning: \n",
            "The secret `HF_TOKEN` does not exist in your Colab secrets.\n",
            "To authenticate with the Hugging Face Hub, create a token in your settings tab (https://huggingface.co/settings/tokens), set it as secret in your Google Colab and restart your session.\n",
            "You will be able to reuse this secret in all of your notebooks.\n",
            "Please note that authentication is recommended but still optional to access public models or datasets.\n",
            "  warnings.warn(\n"
          ]
        }
      ],
      "source": [
        "checkpoint = \"distilbert-base-uncased\"\n",
        "tokenizer = AutoTokenizer.from_pretrained(checkpoint)"
      ]
    },
    {
      "cell_type": "code",
      "execution_count": 23,
      "metadata": {
        "id": "SR7eI8Z_mdy2"
      },
      "outputs": [],
      "source": [
        "# Create function for Tokenizer"
      ]
    },
    {
      "cell_type": "markdown",
      "metadata": {
        "id": "7yQYdjCBpFjb"
      },
      "source": []
    },
    {
      "cell_type": "markdown",
      "metadata": {
        "id": "oDRZggSypF2y"
      },
      "source": [
        "# Create function for Tokenizer"
      ]
    },
    {
      "cell_type": "code",
      "execution_count": 24,
      "metadata": {
        "id": "HcMMgQnwmdwF"
      },
      "outputs": [],
      "source": [
        "max_length = 128"
      ]
    },
    {
      "cell_type": "code",
      "execution_count": 25,
      "metadata": {
        "id": "EHUIf5XwifHv"
      },
      "outputs": [],
      "source": [
        "def tokenize_fn(batch):\n",
        "    return tokenizer(text = batch[\"texts\"], truncation=True, padding=\"max_length\", return_tensors=\"pt\",max_length = 128)"
      ]
    },
    {
      "cell_type": "code",
      "execution_count": 26,
      "metadata": {
        "id": "NTk8qgepifDd",
        "colab": {
          "base_uri": "https://localhost:8080/",
          "height": 113,
          "referenced_widgets": [
            "51fbee2275324b9bb369ab651b29b857",
            "5f469ba531774953a41f5482040be3fa",
            "07186567ae9f4b40a8f1ed35760d43d8",
            "85326560b2d44a809e8dcc16ef3cc860",
            "0df5d357ba714c94954a8cbf675c4858",
            "4edfb6b3077b45bba2c19af8432ff074",
            "9c3b6859b79b4dc7b303429fde812711",
            "df46d3f113cc4c54bc07d4cfdcde3693",
            "70cc0234036e458ea4c99231308fea3f",
            "e5d935d6966144ed8c22dbf841a30e92",
            "5b9e11aceb1e49c7b68a3e2569d93ce3",
            "d3f0abc2c7564b9da8dbedcd877a3c68",
            "26d6c861a69a4de8bed057eee1a4cea4",
            "6e5b2fccbacc459d9c114f37f88b1770",
            "1f12640f4fcc475ebf70d496f4daf427",
            "fde409608c0b483b9385ac8273c00e47",
            "a47d9531be4f49ba922fc014be805046",
            "e2da437a8d5b400d833a0e031d09cb53",
            "e1a7f01e9e7e460fb52cbd8ade41fdb2",
            "8fb3b9ce2165460ea750ada9e9f02ed6",
            "395304ae29894a81a55c30c13aad8f18",
            "77ec16476b9c4edfbfe5738b87291839",
            "7d75c7e5ba824b4188fd7034d813afb1",
            "1bb0fb0b51d84a848b12a4184798bba0",
            "035fadaa520e41239fc9f63a85cda9b2",
            "1710626e5c8a4cdaa75634c7535966ab",
            "cdd1822a7dd14bb2bd5790980cdb61e1",
            "8c6e5ba1b613435699110d5cf3417fae",
            "b51e2ca2c0be493d8bf5a81b5d919239",
            "531df19360034339a62ce3a300e5e363",
            "ac21e2cc2bf846dcb3b3b022a81e0f09",
            "9a40dfb38b86482bb71a1d45edd5b65c",
            "d0dd18055a614c11ae03c72691fecc22"
          ]
        },
        "outputId": "09b5e838-f183-4ef6-e27c-86e3e069a5f8"
      },
      "outputs": [
        {
          "output_type": "display_data",
          "data": {
            "text/plain": [
              "Map:   0%|          | 0/6179 [00:00<?, ? examples/s]"
            ],
            "application/vnd.jupyter.widget-view+json": {
              "version_major": 2,
              "version_minor": 0,
              "model_id": "51fbee2275324b9bb369ab651b29b857"
            }
          },
          "metadata": {}
        },
        {
          "output_type": "display_data",
          "data": {
            "text/plain": [
              "Map:   0%|          | 0/1545 [00:00<?, ? examples/s]"
            ],
            "application/vnd.jupyter.widget-view+json": {
              "version_major": 2,
              "version_minor": 0,
              "model_id": "d3f0abc2c7564b9da8dbedcd877a3c68"
            }
          },
          "metadata": {}
        },
        {
          "output_type": "display_data",
          "data": {
            "text/plain": [
              "Map:   0%|          | 0/3259 [00:00<?, ? examples/s]"
            ],
            "application/vnd.jupyter.widget-view+json": {
              "version_major": 2,
              "version_minor": 0,
              "model_id": "7d75c7e5ba824b4188fd7034d813afb1"
            }
          },
          "metadata": {}
        }
      ],
      "source": [
        "tokenized_traindataset= trainset.map(tokenize_fn, batched=True)\n",
        "tokenized_validdataset= validset.map(tokenize_fn, batched=True)\n",
        "tokenized_testdataset= testset.map(tokenize_fn, batched=True)"
      ]
    },
    {
      "cell_type": "code",
      "execution_count": 27,
      "metadata": {
        "id": "AlsDgkePie9K",
        "colab": {
          "base_uri": "https://localhost:8080/"
        },
        "outputId": "d43395d2-e53c-43a2-bbcb-4d009538ce1a"
      },
      "outputs": [
        {
          "output_type": "execute_result",
          "data": {
            "text/plain": [
              "Dataset({\n",
              "    features: ['texts', 'labels', 'input_ids', 'attention_mask'],\n",
              "    num_rows: 6179\n",
              "})"
            ]
          },
          "metadata": {},
          "execution_count": 27
        }
      ],
      "source": [
        "tokenized_traindataset"
      ]
    },
    {
      "cell_type": "code",
      "execution_count": 28,
      "metadata": {
        "id": "OO95TLIOpTH6"
      },
      "outputs": [],
      "source": [
        "tokenized_traindataset = tokenized_traindataset.remove_columns(['texts'])\n",
        "tokenized_validdataset = tokenized_validdataset.remove_columns(['texts'])\n",
        "tokenized_testdataset = tokenized_testdataset.remove_columns(['texts'])"
      ]
    },
    {
      "cell_type": "code",
      "execution_count": 29,
      "metadata": {
        "id": "Px_ipluGpVUf"
      },
      "outputs": [],
      "source": [
        "tokenized_traindataset.set_format(type='torch')\n",
        "tokenized_validdataset.set_format(type='torch')\n",
        "tokenized_testdataset.set_format(type='torch')"
      ]
    },
    {
      "cell_type": "code",
      "execution_count": 30,
      "metadata": {
        "id": "U-VHwZAGpXQQ",
        "colab": {
          "base_uri": "https://localhost:8080/"
        },
        "outputId": "a2d0f583-05f7-451d-e0e5-d31d4cdceb35"
      },
      "outputs": [
        {
          "output_type": "execute_result",
          "data": {
            "text/plain": [
              "{'labels': tensor([0., 0., 0., 0., 1., 1., 1., 0., 0., 0., 0.]),\n",
              " 'input_ids': tensor([  101,  1030, 20533, 21405, 15994,  1030,  3814,  1035,  7842,  2615,\n",
              "          3567,  1030,  2613, 16901,  5685, 28402,  2057,  1005,  2128,  1996,\n",
              "          2560,  2124,  2316,  1999,  1996,  2088,  1010,  2021,  2061,  5580,\n",
              "          2017,  2356,  1001,  2172, 14301,  2063,   102,     0,     0,     0,\n",
              "             0,     0,     0,     0,     0,     0,     0,     0,     0,     0,\n",
              "             0,     0,     0,     0,     0,     0,     0,     0,     0,     0,\n",
              "             0,     0,     0,     0,     0,     0,     0,     0,     0,     0,\n",
              "             0,     0,     0,     0,     0,     0,     0,     0,     0,     0,\n",
              "             0,     0,     0,     0,     0,     0,     0,     0,     0,     0,\n",
              "             0,     0,     0,     0,     0,     0,     0,     0,     0,     0,\n",
              "             0,     0,     0,     0,     0,     0,     0,     0,     0,     0,\n",
              "             0,     0,     0,     0,     0,     0,     0,     0,     0,     0,\n",
              "             0,     0,     0,     0,     0,     0,     0,     0]),\n",
              " 'attention_mask': tensor([1, 1, 1, 1, 1, 1, 1, 1, 1, 1, 1, 1, 1, 1, 1, 1, 1, 1, 1, 1, 1, 1, 1, 1,\n",
              "         1, 1, 1, 1, 1, 1, 1, 1, 1, 1, 1, 1, 1, 0, 0, 0, 0, 0, 0, 0, 0, 0, 0, 0,\n",
              "         0, 0, 0, 0, 0, 0, 0, 0, 0, 0, 0, 0, 0, 0, 0, 0, 0, 0, 0, 0, 0, 0, 0, 0,\n",
              "         0, 0, 0, 0, 0, 0, 0, 0, 0, 0, 0, 0, 0, 0, 0, 0, 0, 0, 0, 0, 0, 0, 0, 0,\n",
              "         0, 0, 0, 0, 0, 0, 0, 0, 0, 0, 0, 0, 0, 0, 0, 0, 0, 0, 0, 0, 0, 0, 0, 0,\n",
              "         0, 0, 0, 0, 0, 0, 0, 0])}"
            ]
          },
          "metadata": {},
          "execution_count": 30
        }
      ],
      "source": [
        "tokenized_traindataset[1]"
      ]
    },
    {
      "cell_type": "code",
      "execution_count": 31,
      "metadata": {
        "id": "_YX8oli1pb1S",
        "colab": {
          "base_uri": "https://localhost:8080/"
        },
        "outputId": "fb37858d-95ab-4c0a-ea78-9bcc43d807e5"
      },
      "outputs": [
        {
          "output_type": "execute_result",
          "data": {
            "text/plain": [
              "{'labels': Sequence(feature=Value(dtype='float64', id=None), length=-1, id=None),\n",
              " 'input_ids': Sequence(feature=Value(dtype='int32', id=None), length=-1, id=None),\n",
              " 'attention_mask': Sequence(feature=Value(dtype='int8', id=None), length=-1, id=None)}"
            ]
          },
          "metadata": {},
          "execution_count": 31
        }
      ],
      "source": [
        "tokenized_traindataset.features"
      ]
    },
    {
      "cell_type": "markdown",
      "metadata": {
        "id": "AqOU8L8LpstW"
      },
      "source": [
        "# Model Training"
      ]
    },
    {
      "cell_type": "markdown",
      "metadata": {
        "id": "8wDNC6gfp0GE"
      },
      "source": [
        "## Download pre-trained model"
      ]
    },
    {
      "cell_type": "code",
      "execution_count": 32,
      "metadata": {
        "id": "EcjrCzcGpek0",
        "colab": {
          "base_uri": "https://localhost:8080/"
        },
        "outputId": "c5ca262d-1dcd-4b2c-8d16-be843b116c7b"
      },
      "outputs": [
        {
          "output_type": "stream",
          "name": "stderr",
          "text": [
            "Some weights of DistilBertForSequenceClassification were not initialized from the model checkpoint at distilbert-base-uncased and are newly initialized: ['classifier.bias', 'classifier.weight', 'pre_classifier.bias', 'pre_classifier.weight']\n",
            "You should probably TRAIN this model on a down-stream task to be able to use it for predictions and inference.\n"
          ]
        }
      ],
      "source": [
        "model = AutoModelForSequenceClassification.from_pretrained(checkpoint,num_labels = 11,problem_type = \"multi_label_classification\", id2label = id2labels , label2id = labels2id)\n",
        "config = AutoConfig.from_pretrained(checkpoint)\n",
        "config.id2label = id2labels\n",
        "config.label2id = labels2id\n",
        "model.config = config"
      ]
    },
    {
      "cell_type": "markdown",
      "metadata": {
        "id": "UjZL-mT-se_E"
      },
      "source": [
        "# Compute Metrics"
      ]
    },
    {
      "cell_type": "code",
      "execution_count": 33,
      "metadata": {
        "id": "gvBVuJs4pr0-"
      },
      "outputs": [],
      "source": [
        "accuracy_metric = evaluate.load(\"accuracy\",'multilabel' )\n",
        "f1_metric = evaluate.load(\"f1\",'multilabel')\n",
        "\n",
        "def compute_metrics(eval_pred):\n",
        "\n",
        "    logits, labels = eval_pred\n",
        "    # predictions = (logits > 0).astype(int).reshape(-1, 11)\n",
        "    predictions = (logits > 0).astype(int)\n",
        "    accuracy = accuracy_metric.compute(predictions=predictions, references=labels)\n",
        "    f1_macro = f1_metric.compute(predictions=predictions, references=labels, average='macro')\n",
        "    f1_micro = f1_metric.compute(predictions=predictions, references=labels, average='micro')\n",
        "    return {'f1_micro':f1_micro['f1'],\n",
        "            'f1_macro':f1_macro['f1'],\n",
        "            'accuracy':accuracy['accuracy']}\n"
      ]
    },
    {
      "cell_type": "markdown",
      "metadata": {
        "id": "TRdj4qqas92A"
      },
      "source": [
        "# Train Args"
      ]
    },
    {
      "cell_type": "code",
      "execution_count": 34,
      "metadata": {
        "id": "KImEQ1oZprxj"
      },
      "outputs": [],
      "source": [
        "# Define the directory where model checkpoints will be saved\n",
        "run_name = \"HW6/bert\"\n",
        "base_folder = Path(basepath)\n",
        "model_folder = base_folder / \"models\"/run_name\n",
        "# Create the directory if it doesn't exist\n",
        "model_folder.mkdir(exist_ok=True, parents=True)\n",
        "\n",
        "# Configure training parameters\n",
        "training_args = TrainingArguments(\n",
        "    # Training-specific configurations\n",
        "    num_train_epochs=5,  # Total number of training epochs\n",
        "    # Number of samples per training batch for each device\n",
        "    per_device_train_batch_size=128,\n",
        "    per_device_eval_batch_size=128,\n",
        "    # auto_find_batch_size=True,\n",
        "    weight_decay=0.1,  # Apply L2 regularization to prevent overfitting\n",
        "    learning_rate=1e-4,# Step size for the optimizer during training\n",
        "    warmup_steps=50,  # Number of steps to warm up the learning rate\n",
        "    optim='adamw_torch',  # Optimizer,\n",
        "\n",
        "    # Checkpoint saving and model evaluation settings\n",
        "    output_dir=str(model_folder),  # Directory to save model checkpoints\n",
        "    evaluation_strategy='steps',  # Evaluate model at specified step intervals\n",
        "    eval_steps=20,  # Perform evaluation every 10 training steps\n",
        "    save_strategy=\"steps\",  # Save model checkpoint at specified step intervals\n",
        "    save_steps=20,  # Save a model checkpoint every 10 training steps\n",
        "    load_best_model_at_end=True,  # Reload the best model at the end of training\n",
        "    save_total_limit=2,  # Retain only the best and the most recent model checkpoints\n",
        "    # Use 'accuracy' as the metric to determine the best model\n",
        "    metric_for_best_model=\"eval_f1_macro\",\n",
        "    greater_is_better=True,  # A model is 'better' if its accuracy is higher\n",
        "\n",
        "\n",
        "    # Experiment logging configurations (commented out in this example)\n",
        "    logging_strategy='steps',\n",
        "    logging_steps=10,\n",
        "    report_to='wandb',  # Log metrics and results to Weights & Biases platform\n",
        "    run_name=run_name,  # Experiment name for Weights & Biases\n",
        "\n",
        "    fp16=True,\n",
        "\n",
        "\n",
        ")\n"
      ]
    },
    {
      "cell_type": "markdown",
      "metadata": {
        "id": "5sG55kOJteqM"
      },
      "source": [
        "# Initialize Trainer"
      ]
    },
    {
      "cell_type": "code",
      "execution_count": 35,
      "metadata": {
        "id": "pit1izDQprvL",
        "colab": {
          "base_uri": "https://localhost:8080/"
        },
        "outputId": "79436260-e1f1-4b1c-94c4-aec5f35595a3"
      },
      "outputs": [
        {
          "output_type": "stream",
          "name": "stderr",
          "text": [
            "/usr/local/lib/python3.10/dist-packages/accelerate/accelerator.py:436: FutureWarning: Passing the following arguments to `Accelerator` is deprecated and will be removed in version 1.0 of Accelerate: dict_keys(['dispatch_batches', 'split_batches', 'even_batches', 'use_seedable_sampler']). Please pass an `accelerate.DataLoaderConfiguration` instead: \n",
            "dataloader_config = DataLoaderConfiguration(dispatch_batches=None, split_batches=False, even_batches=True, use_seedable_sampler=True)\n",
            "  warnings.warn(\n"
          ]
        }
      ],
      "source": [
        "# initialize trainer\n",
        "trainer = Trainer(\n",
        "    model=model,\n",
        "    args=training_args,\n",
        "    train_dataset=tokenized_traindataset,\n",
        "    eval_dataset=tokenized_validdataset,\n",
        "    compute_metrics=compute_metrics,\n",
        "    tokenizer=tokenizer,\n",
        ")"
      ]
    },
    {
      "cell_type": "code",
      "execution_count": 35,
      "metadata": {
        "id": "RJICREOSprsG"
      },
      "outputs": [],
      "source": []
    },
    {
      "cell_type": "markdown",
      "metadata": {
        "id": "iRrlt-Nbtnil"
      },
      "source": [
        "# Setup wand"
      ]
    },
    {
      "cell_type": "code",
      "execution_count": 36,
      "metadata": {
        "id": "i5XzejF4prpA",
        "colab": {
          "base_uri": "https://localhost:8080/"
        },
        "outputId": "e7ea247e-5fb3-4c28-d2d1-60211a8a3f02"
      },
      "outputs": [
        {
          "output_type": "stream",
          "name": "stdout",
          "text": [
            "\u001b[34m\u001b[1mwandb\u001b[0m: Appending key for api.wandb.ai to your netrc file: /root/.netrc\n",
            "env: WANDB_PROJECT=nlp_course_spring_2024-HW\n"
          ]
        }
      ],
      "source": [
        "!wandb login 75a22b5a5c4de4706fb1be6e842e13687283d10c\n",
        "%env WANDB_PROJECT = nlp_course_spring_2024-HW"
      ]
    },
    {
      "cell_type": "markdown",
      "metadata": {
        "id": "h_a1Fmv6uEAD"
      },
      "source": [
        "# Training and Validation"
      ]
    },
    {
      "cell_type": "code",
      "execution_count": 37,
      "metadata": {
        "colab": {
          "base_uri": "https://localhost:8080/",
          "height": 645
        },
        "id": "LgKexz4AuGpg",
        "outputId": "8acc9c5f-e5cd-4145-bd3d-d2edf683d0c9"
      },
      "outputs": [
        {
          "output_type": "stream",
          "name": "stderr",
          "text": [
            "\u001b[34m\u001b[1mwandb\u001b[0m: Currently logged in as: \u001b[33msamanojvan\u001b[0m (\u001b[33mmanojcompany\u001b[0m). Use \u001b[1m`wandb login --relogin`\u001b[0m to force relogin\n"
          ]
        },
        {
          "output_type": "display_data",
          "data": {
            "text/plain": [
              "<IPython.core.display.HTML object>"
            ],
            "text/html": [
              "Tracking run with wandb version 0.16.6"
            ]
          },
          "metadata": {}
        },
        {
          "output_type": "display_data",
          "data": {
            "text/plain": [
              "<IPython.core.display.HTML object>"
            ],
            "text/html": [
              "Run data is saved locally in <code>/content/wandb/run-20240417_224240-1jl9ulg0</code>"
            ]
          },
          "metadata": {}
        },
        {
          "output_type": "display_data",
          "data": {
            "text/plain": [
              "<IPython.core.display.HTML object>"
            ],
            "text/html": [
              "Syncing run <strong><a href='https://wandb.ai/manojcompany/nlp_course_spring_2024-HW/runs/1jl9ulg0' target=\"_blank\">HW6/bert</a></strong> to <a href='https://wandb.ai/manojcompany/nlp_course_spring_2024-HW' target=\"_blank\">Weights & Biases</a> (<a href='https://wandb.me/run' target=\"_blank\">docs</a>)<br/>"
            ]
          },
          "metadata": {}
        },
        {
          "output_type": "display_data",
          "data": {
            "text/plain": [
              "<IPython.core.display.HTML object>"
            ],
            "text/html": [
              " View project at <a href='https://wandb.ai/manojcompany/nlp_course_spring_2024-HW' target=\"_blank\">https://wandb.ai/manojcompany/nlp_course_spring_2024-HW</a>"
            ]
          },
          "metadata": {}
        },
        {
          "output_type": "display_data",
          "data": {
            "text/plain": [
              "<IPython.core.display.HTML object>"
            ],
            "text/html": [
              " View run at <a href='https://wandb.ai/manojcompany/nlp_course_spring_2024-HW/runs/1jl9ulg0' target=\"_blank\">https://wandb.ai/manojcompany/nlp_course_spring_2024-HW/runs/1jl9ulg0</a>"
            ]
          },
          "metadata": {}
        },
        {
          "output_type": "display_data",
          "data": {
            "text/plain": [
              "<IPython.core.display.HTML object>"
            ],
            "text/html": [
              "\n",
              "    <div>\n",
              "      \n",
              "      <progress value='245' max='245' style='width:300px; height:20px; vertical-align: middle;'></progress>\n",
              "      [245/245 01:17, Epoch 5/5]\n",
              "    </div>\n",
              "    <table border=\"1\" class=\"dataframe\">\n",
              "  <thead>\n",
              " <tr style=\"text-align: left;\">\n",
              "      <th>Step</th>\n",
              "      <th>Training Loss</th>\n",
              "      <th>Validation Loss</th>\n",
              "      <th>F1 Micro</th>\n",
              "      <th>F1 Macro</th>\n",
              "      <th>Accuracy</th>\n",
              "    </tr>\n",
              "  </thead>\n",
              "  <tbody>\n",
              "    <tr>\n",
              "      <td>20</td>\n",
              "      <td>0.593100</td>\n",
              "      <td>0.523984</td>\n",
              "      <td>0.000000</td>\n",
              "      <td>0.000000</td>\n",
              "      <td>0.023948</td>\n",
              "    </tr>\n",
              "    <tr>\n",
              "      <td>40</td>\n",
              "      <td>0.475800</td>\n",
              "      <td>0.469025</td>\n",
              "      <td>0.000000</td>\n",
              "      <td>0.000000</td>\n",
              "      <td>0.023948</td>\n",
              "    </tr>\n",
              "    <tr>\n",
              "      <td>60</td>\n",
              "      <td>0.400600</td>\n",
              "      <td>0.398464</td>\n",
              "      <td>0.499575</td>\n",
              "      <td>0.238635</td>\n",
              "      <td>0.162460</td>\n",
              "    </tr>\n",
              "    <tr>\n",
              "      <td>80</td>\n",
              "      <td>0.353700</td>\n",
              "      <td>0.356257</td>\n",
              "      <td>0.595981</td>\n",
              "      <td>0.372850</td>\n",
              "      <td>0.203883</td>\n",
              "    </tr>\n",
              "    <tr>\n",
              "      <td>100</td>\n",
              "      <td>0.341700</td>\n",
              "      <td>0.343030</td>\n",
              "      <td>0.613471</td>\n",
              "      <td>0.374709</td>\n",
              "      <td>0.216828</td>\n",
              "    </tr>\n",
              "    <tr>\n",
              "      <td>120</td>\n",
              "      <td>0.293700</td>\n",
              "      <td>0.330005</td>\n",
              "      <td>0.627685</td>\n",
              "      <td>0.401989</td>\n",
              "      <td>0.238188</td>\n",
              "    </tr>\n",
              "    <tr>\n",
              "      <td>140</td>\n",
              "      <td>0.288100</td>\n",
              "      <td>0.324185</td>\n",
              "      <td>0.643126</td>\n",
              "      <td>0.455199</td>\n",
              "      <td>0.237540</td>\n",
              "    </tr>\n",
              "    <tr>\n",
              "      <td>160</td>\n",
              "      <td>0.257700</td>\n",
              "      <td>0.323292</td>\n",
              "      <td>0.650180</td>\n",
              "      <td>0.456739</td>\n",
              "      <td>0.247896</td>\n",
              "    </tr>\n",
              "    <tr>\n",
              "      <td>180</td>\n",
              "      <td>0.249700</td>\n",
              "      <td>0.323575</td>\n",
              "      <td>0.648969</td>\n",
              "      <td>0.468975</td>\n",
              "      <td>0.240129</td>\n",
              "    </tr>\n",
              "    <tr>\n",
              "      <td>200</td>\n",
              "      <td>0.239200</td>\n",
              "      <td>0.324539</td>\n",
              "      <td>0.651811</td>\n",
              "      <td>0.467892</td>\n",
              "      <td>0.240777</td>\n",
              "    </tr>\n",
              "    <tr>\n",
              "      <td>220</td>\n",
              "      <td>0.227900</td>\n",
              "      <td>0.326565</td>\n",
              "      <td>0.656899</td>\n",
              "      <td>0.494395</td>\n",
              "      <td>0.254369</td>\n",
              "    </tr>\n",
              "    <tr>\n",
              "      <td>240</td>\n",
              "      <td>0.230700</td>\n",
              "      <td>0.324907</td>\n",
              "      <td>0.657187</td>\n",
              "      <td>0.497729</td>\n",
              "      <td>0.249838</td>\n",
              "    </tr>\n",
              "  </tbody>\n",
              "</table><p>"
            ]
          },
          "metadata": {}
        },
        {
          "output_type": "execute_result",
          "data": {
            "text/plain": [
              "TrainOutput(global_step=245, training_loss=0.3362087512502865, metrics={'train_runtime': 86.1798, 'train_samples_per_second': 358.495, 'train_steps_per_second': 2.843, 'total_flos': 1023309287427840.0, 'train_loss': 0.3362087512502865, 'epoch': 5.0})"
            ]
          },
          "metadata": {},
          "execution_count": 37
        }
      ],
      "source": [
        "trainer.train()"
      ]
    },
    {
      "cell_type": "code",
      "execution_count": 38,
      "metadata": {
        "id": "2_LAj0A3uGl3",
        "colab": {
          "base_uri": "https://localhost:8080/",
          "height": 37
        },
        "outputId": "8561c6f8-d176-46c2-bae8-68494ca6814f"
      },
      "outputs": [
        {
          "output_type": "display_data",
          "data": {
            "text/plain": [
              "<IPython.core.display.HTML object>"
            ],
            "text/html": [
              "\n",
              "    <div>\n",
              "      \n",
              "      <progress value='13' max='13' style='width:300px; height:20px; vertical-align: middle;'></progress>\n",
              "      [13/13 00:00]\n",
              "    </div>\n",
              "    "
            ]
          },
          "metadata": {}
        }
      ],
      "source": [
        "evaluated_results = trainer.evaluate(tokenized_validdataset)"
      ]
    },
    {
      "cell_type": "code",
      "execution_count": 39,
      "metadata": {
        "id": "qFiufQz6uGjN",
        "colab": {
          "base_uri": "https://localhost:8080/"
        },
        "outputId": "dfc7f40f-d545-4980-b3b6-29ea71fb3466"
      },
      "outputs": [
        {
          "output_type": "execute_result",
          "data": {
            "text/plain": [
              "{'eval_loss': 0.32490721344947815,\n",
              " 'eval_f1_micro': 0.6571865443425077,\n",
              " 'eval_f1_macro': 0.49772937341705153,\n",
              " 'eval_accuracy': 0.24983818770226537,\n",
              " 'eval_runtime': 0.9304,\n",
              " 'eval_samples_per_second': 1660.576,\n",
              " 'eval_steps_per_second': 13.972,\n",
              " 'epoch': 5.0}"
            ]
          },
          "metadata": {},
          "execution_count": 39
        }
      ],
      "source": [
        "evaluated_results"
      ]
    },
    {
      "cell_type": "code",
      "execution_count": 40,
      "metadata": {
        "id": "QOGkQGQuuGhE"
      },
      "outputs": [],
      "source": [
        "wandb.log({\"eval_accuracy\": evaluated_results[\"eval_accuracy\"], \"eval_loss\": evaluated_results[\"eval_loss\"], \"eval_f1_micro\": evaluated_results[\"eval_f1_micro\"],\"eval_f1_macro\":evaluated_results[\"eval_f1_macro\"]})"
      ]
    },
    {
      "cell_type": "code",
      "execution_count": 41,
      "metadata": {
        "id": "D_G2gJrhuGec",
        "colab": {
          "base_uri": "https://localhost:8080/"
        },
        "outputId": "898c46a0-c085-4d63-918c-d77287a62e0e"
      },
      "outputs": [
        {
          "output_type": "stream",
          "name": "stdout",
          "text": [
            "The best model was saved at step 240.\n"
          ]
        }
      ],
      "source": [
        "# After training, let us check the best checkpoint\n",
        "# We need this for Inference\n",
        "best_model_checkpoint_step = trainer.state.best_model_checkpoint.split('-')[-1]\n",
        "print(f\"The best model was saved at step {best_model_checkpoint_step}.\")"
      ]
    },
    {
      "cell_type": "markdown",
      "source": [
        "# Check Confusion Matrix"
      ],
      "metadata": {
        "id": "UDhi7RsVKCL0"
      }
    },
    {
      "cell_type": "code",
      "source": [
        "valid_output = trainer.predict(tokenized_validdataset)"
      ],
      "metadata": {
        "colab": {
          "base_uri": "https://localhost:8080/",
          "height": 17
        },
        "id": "QtXy1moLJ40G",
        "outputId": "aa347d8c-6e75-4401-91b4-15120575d859"
      },
      "execution_count": 42,
      "outputs": [
        {
          "output_type": "display_data",
          "data": {
            "text/plain": [
              "<IPython.core.display.HTML object>"
            ],
            "text/html": []
          },
          "metadata": {}
        }
      ]
    },
    {
      "cell_type": "code",
      "source": [
        "predictions_valid = (valid_output.predictions > 0).astype(int)\n",
        "labels_valid = valid_output.label_ids.astype(int)"
      ],
      "metadata": {
        "id": "3NDwytCSKaAs"
      },
      "execution_count": 43,
      "outputs": []
    },
    {
      "cell_type": "code",
      "source": [
        "from sklearn.metrics import multilabel_confusion_matrix, precision_score, recall_score, f1_score"
      ],
      "metadata": {
        "id": "1TmqgC1RKylH"
      },
      "execution_count": 44,
      "outputs": []
    },
    {
      "cell_type": "code",
      "source": [
        "# from sklearn.metrics import multilabel_confusion_matrix, precision_score, recall_score, f1_score\n",
        "\n",
        "# Sample data\n",
        "y_true = labels_valid\n",
        "y_pred = predictions_valid\n",
        "class_names = labels\n",
        "\n",
        "mcm = multilabel_confusion_matrix(y_true, y_pred,)\n",
        "\n",
        "# 1. Individual Heatmaps\n",
        "for idx, matrix in enumerate(mcm):\n",
        "    plt.figure(figsize=(5, 4))\n",
        "    sns.heatmap(matrix, annot=True, fmt='g', cmap='Blues',\n",
        "                xticklabels=['Predicted Negative', 'Predicted Positive'],\n",
        "                yticklabels=['True Negative', 'True Positive'])\n",
        "    plt.title(f'Confusion Matrix for {class_names[idx]}')\n",
        "    plt.show()\n",
        "\n",
        "# 2. Aggregate Metrics Heatmap\n",
        "precision_per_class = precision_score(y_true, y_pred, average=None)\n",
        "recall_per_class = recall_score(y_true, y_pred, average=None)\n",
        "f1_per_class = f1_score(y_true, y_pred, average=None)\n",
        "\n",
        "metrics_df = pd.DataFrame({\n",
        "    'Precision': precision_per_class,\n",
        "    'Recall': recall_per_class,\n",
        "    'F1-Score': f1_per_class\n",
        "}, index=class_names)\n",
        "\n",
        "plt.figure(figsize=(10, 8))\n",
        "# sns.heatmap(metrics_df, annot=True, cmap='Blues')\n",
        "# plt.title('Metrics for each class')\n",
        "# plt.show()\n",
        "\n",
        "ax = sns.heatmap(metrics_df, annot=True, cmap='Blues')\n",
        "plt.title('Metrics for each class')\n",
        "plt.tight_layout()  # Adjust layout to not cut off edges\n",
        "\n",
        "# Log the heatmap to wandb\n",
        "wandb.log({\"Metrics Heatmap\": wandb.Image(ax.get_figure())})\n",
        "plt.show()\n",
        "\n",
        "# 3. Histogram of Metrics\n",
        "metrics_df.plot(kind='bar', figsize=(12, 7))\n",
        "plt.ylabel('Score')\n",
        "plt.title('Precision, Recall, and F1-Score for Each Class')\n",
        "plt.show()"
      ],
      "metadata": {
        "colab": {
          "base_uri": "https://localhost:8080/",
          "height": 1000
        },
        "id": "-Y84fBV6KZ9O",
        "outputId": "db4c1b62-2c7a-42b4-fdd8-7aaaf97505c6"
      },
      "execution_count": 45,
      "outputs": [
        {
          "output_type": "display_data",
          "data": {
            "text/plain": [
              "<Figure size 500x400 with 2 Axes>"
            ],
            "image/png": "[encoded data removed]"
          },
          "metadata": {}
        },
        {
          "output_type": "display_data",
          "data": {
            "text/plain": [
              "<Figure size 500x400 with 2 Axes>"
            ],
            "image/png": "[encoded data removed]"
          },
          "metadata": {}
        },
        {
          "output_type": "display_data",
          "data": {
            "text/plain": [
              "<Figure size 500x400 with 2 Axes>"
            ],
            "image/png": "[encoded data removed]"
          },
          "metadata": {}
        },
        {
          "output_type": "display_data",
          "data": {
            "text/plain": [
              "<Figure size 500x400 with 2 Axes>"
            ],
            "image/png": "[encoded data removed]"
          },
          "metadata": {}
        },
        {
          "output_type": "display_data",
          "data": {
            "text/plain": [
              "<Figure size 500x400 with 2 Axes>"
            ],
            "image/png": "[encoded data removed]"
          },
          "metadata": {}
        },
        {
          "output_type": "display_data",
          "data": {
            "text/plain": [
              "<Figure size 500x400 with 2 Axes>"
            ],
            "image/png": "[encoded data removed]"
          },
          "metadata": {}
        },
        {
          "output_type": "display_data",
          "data": {
            "text/plain": [
              "<Figure size 500x400 with 2 Axes>"
            ],
            "image/png": "[encoded data removed]"
          },
          "metadata": {}
        },
        {
          "output_type": "display_data",
          "data": {
            "text/plain": [
              "<Figure size 500x400 with 2 Axes>"
            ],
            "image/png": "[encoded data removed]"
          },
          "metadata": {}
        },
        {
          "output_type": "display_data",
          "data": {
            "text/plain": [
              "<Figure size 500x400 with 2 Axes>"
            ],
            "image/png": "[encoded data removed]"
          },
          "metadata": {}
        },
        {
          "output_type": "display_data",
          "data": {
            "text/plain": [
              "<Figure size 500x400 with 2 Axes>"
            ],
            "image/png": "[encoded data removed]"
          },
          "metadata": {}
        },
        {
          "output_type": "display_data",
          "data": {
            "text/plain": [
              "<Figure size 500x400 with 2 Axes>"
            ],
            "image/png": "[encoded data removed]"
          },
          "metadata": {}
        },
        {
          "output_type": "stream",
          "name": "stderr",
          "text": [
            "/usr/local/lib/python3.10/dist-packages/sklearn/metrics/_classification.py:1344: UndefinedMetricWarning: Precision is ill-defined and being set to 0.0 in labels with no predicted samples. Use `zero_division` parameter to control this behavior.\n",
            "  _warn_prf(average, modifier, msg_start, len(result))\n"
          ]
        },
        {
          "output_type": "display_data",
          "data": {
            "text/plain": [
              "<Figure size 1000x800 with 2 Axes>"
            ],
            "image/png": "[encoded data removed]"
          },
          "metadata": {}
        },
        {
          "output_type": "display_data",
          "data": {
            "text/plain": [
              "<Figure size 1200x700 with 1 Axes>"
            ],
            "image/png": "[encoded data removed]"
          },
          "metadata": {}
        }
      ]
    },
    {
      "cell_type": "code",
      "source": [],
      "metadata": {
        "id": "elzwzwqlJ4wh"
      },
      "execution_count": 45,
      "outputs": []
    },
    {
      "cell_type": "code",
      "source": [],
      "metadata": {
        "id": "cyR6N6i2J4tv"
      },
      "execution_count": 45,
      "outputs": []
    },
    {
      "cell_type": "code",
      "source": [],
      "metadata": {
        "id": "LmuzCXplJ4q2"
      },
      "execution_count": 45,
      "outputs": []
    },
    {
      "cell_type": "code",
      "source": [],
      "metadata": {
        "id": "yOiOyXi0J4oY"
      },
      "execution_count": 45,
      "outputs": []
    },
    {
      "cell_type": "markdown",
      "metadata": {
        "id": "xASD-VZIBvGC"
      },
      "source": [
        "# Performance on Test set"
      ]
    },
    {
      "cell_type": "code",
      "execution_count": 46,
      "metadata": {
        "id": "eDepWOMxuGbs",
        "colab": {
          "base_uri": "https://localhost:8080/",
          "height": 35
        },
        "outputId": "784762ed-6e3d-4211-c92b-1d0e090d284e"
      },
      "outputs": [
        {
          "output_type": "execute_result",
          "data": {
            "text/plain": [
              "'/content/drive/MyDrive/data/models/HW6/bert/checkpoint-240'"
            ],
            "application/vnd.google.colaboratory.intrinsic+json": {
              "type": "string"
            }
          },
          "metadata": {},
          "execution_count": 46
        }
      ],
      "source": [
        "checkpoint = str(model_folder/f'checkpoint-{best_model_checkpoint_step}')\n",
        "checkpoint"
      ]
    },
    {
      "cell_type": "code",
      "execution_count": 47,
      "metadata": {
        "id": "NJsLzl0auGZA"
      },
      "outputs": [],
      "source": [
        "model = AutoModelForSequenceClassification.from_pretrained(checkpoint)\n",
        "tokenizer = AutoTokenizer.from_pretrained(checkpoint)"
      ]
    },
    {
      "cell_type": "markdown",
      "metadata": {
        "id": "h1XDh0X7B--8"
      },
      "source": [
        "Training Arguments"
      ]
    },
    {
      "cell_type": "code",
      "execution_count": 48,
      "metadata": {
        "id": "17wQZogZprmO"
      },
      "outputs": [],
      "source": [
        "training_args = TrainingArguments(\n",
        "    output_dir=str(model_folder),\n",
        "    per_device_eval_batch_size=8,\n",
        "    do_train=False,\n",
        "    do_eval=True,\n",
        "    report_to='wandb',\n",
        "    run_name=run_name\n",
        ")"
      ]
    },
    {
      "cell_type": "markdown",
      "metadata": {
        "id": "JrIx1NZECGcV"
      },
      "source": [
        "Instantiate Trainer"
      ]
    },
    {
      "cell_type": "code",
      "execution_count": 49,
      "metadata": {
        "id": "6zIV2j0AprjT",
        "colab": {
          "base_uri": "https://localhost:8080/"
        },
        "outputId": "5f050494-a4f3-483a-869b-b153085d5523"
      },
      "outputs": [
        {
          "output_type": "stream",
          "name": "stderr",
          "text": [
            "/usr/local/lib/python3.10/dist-packages/accelerate/accelerator.py:436: FutureWarning: Passing the following arguments to `Accelerator` is deprecated and will be removed in version 1.0 of Accelerate: dict_keys(['dispatch_batches', 'split_batches', 'even_batches', 'use_seedable_sampler']). Please pass an `accelerate.DataLoaderConfiguration` instead: \n",
            "dataloader_config = DataLoaderConfiguration(dispatch_batches=None, split_batches=False, even_batches=True, use_seedable_sampler=True)\n",
            "  warnings.warn(\n"
          ]
        }
      ],
      "source": [
        "trainer = Trainer(\n",
        "    model=model,\n",
        "    args=training_args,\n",
        "    eval_dataset=tokenized_testdataset,\n",
        "    compute_metrics=compute_metrics,\n",
        "    tokenizer=tokenizer,\n",
        ")"
      ]
    },
    {
      "cell_type": "markdown",
      "metadata": {
        "id": "YVNGS5jGCNRh"
      },
      "source": [
        "Evaluate using Trainer"
      ]
    },
    {
      "cell_type": "code",
      "execution_count": 50,
      "metadata": {
        "id": "VNNWyBXYCD4V",
        "colab": {
          "base_uri": "https://localhost:8080/",
          "height": 92
        },
        "outputId": "e7b6ebce-0210-4a4d-c151-bdf3a9f8e1d2"
      },
      "outputs": [
        {
          "output_type": "display_data",
          "data": {
            "text/plain": [
              "<IPython.core.display.HTML object>"
            ],
            "text/html": [
              "\n",
              "    <div>\n",
              "      \n",
              "      <progress value='408' max='408' style='width:300px; height:20px; vertical-align: middle;'></progress>\n",
              "      [408/408 00:04]\n",
              "    </div>\n",
              "    "
            ]
          },
          "metadata": {}
        },
        {
          "output_type": "stream",
          "name": "stderr",
          "text": [
            "/usr/local/lib/python3.10/dist-packages/sklearn/metrics/_classification.py:1609: UndefinedMetricWarning: F-score is ill-defined and being set to 0.0 in labels with no true nor predicted samples. Use `zero_division` parameter to control this behavior.\n",
            "  _warn_prf(average, \"true nor predicted\", \"F-score is\", len(true_sum))\n"
          ]
        }
      ],
      "source": [
        "test_results= trainer.evaluate()"
      ]
    },
    {
      "cell_type": "code",
      "execution_count": 51,
      "metadata": {
        "id": "5NDPAwqaCD1v",
        "colab": {
          "base_uri": "https://localhost:8080/"
        },
        "outputId": "7e640f8a-0ff7-40ce-a060-67422eac995a"
      },
      "outputs": [
        {
          "output_type": "execute_result",
          "data": {
            "text/plain": [
              "{'eval_loss': 0.47316354513168335,\n",
              " 'eval_f1_micro': 0.0,\n",
              " 'eval_f1_macro': 0.0,\n",
              " 'eval_accuracy': 0.039889536667689476,\n",
              " 'eval_runtime': 4.6028,\n",
              " 'eval_samples_per_second': 708.054,\n",
              " 'eval_steps_per_second': 88.642}"
            ]
          },
          "metadata": {},
          "execution_count": 51
        }
      ],
      "source": [
        "test_results"
      ]
    },
    {
      "cell_type": "code",
      "execution_count": 52,
      "metadata": {
        "id": "jBGOmN5YCDy3"
      },
      "outputs": [],
      "source": [
        "wandb.log({\"test_accuracy\": test_results[\"eval_accuracy\"], \"test_loss\": test_results[\"eval_loss\"], \"test_f1_micro\": test_results[\"eval_f1_micro\"], \"test_f1_macro\": test_results[\"eval_f1_macro\"]})"
      ]
    },
    {
      "cell_type": "code",
      "execution_count": 53,
      "metadata": {
        "id": "P7nC1PydCDwU",
        "colab": {
          "base_uri": "https://localhost:8080/",
          "height": 72
        },
        "outputId": "12154479-c0e6-41d6-da95-8727b49bb72d"
      },
      "outputs": [
        {
          "output_type": "display_data",
          "data": {
            "text/plain": [
              "<IPython.core.display.HTML object>"
            ],
            "text/html": []
          },
          "metadata": {}
        },
        {
          "output_type": "stream",
          "name": "stderr",
          "text": [
            "/usr/local/lib/python3.10/dist-packages/sklearn/metrics/_classification.py:1609: UndefinedMetricWarning: F-score is ill-defined and being set to 0.0 in labels with no true nor predicted samples. Use `zero_division` parameter to control this behavior.\n",
            "  _warn_prf(average, \"true nor predicted\", \"F-score is\", len(true_sum))\n"
          ]
        }
      ],
      "source": [
        "test_output = trainer.predict(tokenized_testdataset)"
      ]
    },
    {
      "cell_type": "code",
      "source": [
        "test_output"
      ],
      "metadata": {
        "colab": {
          "base_uri": "https://localhost:8080/"
        },
        "id": "O6LIJq29NX7d",
        "outputId": "d48bcbea-cc18-45f6-8c10-96ceefea19af"
      },
      "execution_count": 54,
      "outputs": [
        {
          "output_type": "execute_result",
          "data": {
            "text/plain": [
              "PredictionOutput(predictions=array([[ 0.98535156, -2.2597656 ,  0.6489258 , ..., -2.3828125 ,\n",
              "        -3.2089844 , -3.6152344 ],\n",
              "       [ 0.74853516, -2.5722656 ,  0.81347656, ...,  0.1986084 ,\n",
              "        -4.078125  , -5.171875  ],\n",
              "       [ 2.6699219 , -3.9375    ,  2.3925781 , ...,  1.125     ,\n",
              "        -3.9101562 , -5.4296875 ],\n",
              "       ...,\n",
              "       [ 3.4667969 , -2.8339844 ,  2.1308594 , ..., -2.1445312 ,\n",
              "        -3.28125   , -4.390625  ],\n",
              "       [-4.3398438 , -2.7792969 , -4.3945312 , ..., -3.3535156 ,\n",
              "        -3.0488281 , -1.9326172 ],\n",
              "       [ 1.0771484 , -1.9638672 ,  0.28686523, ..., -2.6230469 ,\n",
              "        -2.4648438 , -3.6855469 ]], dtype=float32), label_ids=array([[0., 0., 0., ..., 0., 0., 0.],\n",
              "       [0., 0., 0., ..., 0., 0., 0.],\n",
              "       [0., 0., 0., ..., 0., 0., 0.],\n",
              "       ...,\n",
              "       [0., 0., 0., ..., 0., 0., 0.],\n",
              "       [0., 0., 0., ..., 0., 0., 0.],\n",
              "       [0., 0., 0., ..., 0., 0., 0.]], dtype=float32), metrics={'test_loss': 0.47316354513168335, 'test_f1_micro': 0.0, 'test_f1_macro': 0.0, 'test_accuracy': 0.039889536667689476, 'test_runtime': 5.34, 'test_samples_per_second': 610.304, 'test_steps_per_second': 76.405})"
            ]
          },
          "metadata": {},
          "execution_count": 54
        }
      ]
    },
    {
      "cell_type": "code",
      "execution_count": 69,
      "metadata": {
        "id": "iTpwZaKvCDt6"
      },
      "outputs": [],
      "source": [
        "test_preds = np.argmax(test_output.predictions, axis=1)\n",
        "test_labels = np.array(test_output.label_ids)"
      ]
    },
    {
      "cell_type": "code",
      "source": [
        "test_output.predictions\n"
      ],
      "metadata": {
        "colab": {
          "base_uri": "https://localhost:8080/"
        },
        "id": "NXJ8mKYlPiyu",
        "outputId": "3a265e09-1194-46c7-bc84-4948bab0a446"
      },
      "execution_count": 70,
      "outputs": [
        {
          "output_type": "execute_result",
          "data": {
            "text/plain": [
              "array([[ 0.98535156, -2.2597656 ,  0.6489258 , ..., -2.3828125 ,\n",
              "        -3.2089844 , -3.6152344 ],\n",
              "       [ 0.74853516, -2.5722656 ,  0.81347656, ...,  0.1986084 ,\n",
              "        -4.078125  , -5.171875  ],\n",
              "       [ 2.6699219 , -3.9375    ,  2.3925781 , ...,  1.125     ,\n",
              "        -3.9101562 , -5.4296875 ],\n",
              "       ...,\n",
              "       [ 3.4667969 , -2.8339844 ,  2.1308594 , ..., -2.1445312 ,\n",
              "        -3.28125   , -4.390625  ],\n",
              "       [-4.3398438 , -2.7792969 , -4.3945312 , ..., -3.3535156 ,\n",
              "        -3.0488281 , -1.9326172 ],\n",
              "       [ 1.0771484 , -1.9638672 ,  0.28686523, ..., -2.6230469 ,\n",
              "        -2.4648438 , -3.6855469 ]], dtype=float32)"
            ]
          },
          "metadata": {},
          "execution_count": 70
        }
      ]
    },
    {
      "cell_type": "code",
      "source": [
        "test_preds"
      ],
      "metadata": {
        "colab": {
          "base_uri": "https://localhost:8080/"
        },
        "id": "hRZN9jVTPr3-",
        "outputId": "920d8784-a048-4f6b-dbd7-a8401fe20574"
      },
      "execution_count": 71,
      "outputs": [
        {
          "output_type": "execute_result",
          "data": {
            "text/plain": [
              "array([3, 2, 0, ..., 0, 4, 0])"
            ]
          },
          "metadata": {},
          "execution_count": 71
        }
      ]
    },
    {
      "cell_type": "code",
      "execution_count": 56,
      "metadata": {
        "id": "La_KOZBLCDrK",
        "colab": {
          "base_uri": "https://localhost:8080/",
          "height": 1000,
          "referenced_widgets": [
            "7d94e32c23a5467cbe25294c12bde547",
            "7062477b31484b9c80d22439ec69d529",
            "ce645de38ade4923baaab3fe57d9d063",
            "29380ec936df42dd93f78d0c60b9fce6",
            "0d2178571df74b9c8ba7253fe1d8c3c6",
            "302fbe5fbaf44582a096b4f7f6fbe818",
            "3bac0f4e94d44b97ab88f396ce9be890",
            "4b17c22d78584c09b2394eb1eea19b4a"
          ]
        },
        "outputId": "79ef15a6-e3fb-4d1f-8afa-0afb7fbc4cb4"
      },
      "outputs": [
        {
          "output_type": "display_data",
          "data": {
            "text/plain": [
              "VBox(children=(Label(value='0.047 MB of 0.047 MB uploaded\\r'), FloatProgress(value=1.0, max=1.0)))"
            ],
            "application/vnd.jupyter.widget-view+json": {
              "version_major": 2,
              "version_minor": 0,
              "model_id": "7d94e32c23a5467cbe25294c12bde547"
            }
          },
          "metadata": {}
        },
        {
          "output_type": "display_data",
          "data": {
            "text/plain": [
              "<IPython.core.display.HTML object>"
            ],
            "text/html": [
              "<style>\n",
              "    table.wandb td:nth-child(1) { padding: 0 10px; text-align: left ; width: auto;} td:nth-child(2) {text-align: left ; width: 100%}\n",
              "    .wandb-row { display: flex; flex-direction: row; flex-wrap: wrap; justify-content: flex-start; width: 100% }\n",
              "    .wandb-col { display: flex; flex-direction: column; flex-basis: 100%; flex: 1; padding: 10px; }\n",
              "    </style>\n",
              "<div class=\"wandb-row\"><div class=\"wandb-col\"><h3>Run history:</h3><br/><table class=\"wandb\"><tr><td>eval/accuracy</td><td>▁▁▅▆▇█▇██████▁</td></tr><tr><td>eval/f1_macro</td><td>▁▁▄▆▆▇▇▇█████▁</td></tr><tr><td>eval/f1_micro</td><td>▁▁▆▇█████████▁</td></tr><tr><td>eval/loss</td><td>█▆▄▂▂▁▁▁▁▁▁▁▁▆</td></tr><tr><td>eval/runtime</td><td>▁▁▁▁▁▁▁▁▁▁▁▁▁█</td></tr><tr><td>eval/samples_per_second</td><td>▇██▇████████▇▁</td></tr><tr><td>eval/steps_per_second</td><td>▁▁▁▁▁▁▁▁▁▁▁▁▁█</td></tr><tr><td>eval_accuracy</td><td>▁</td></tr><tr><td>eval_f1_macro</td><td>▁</td></tr><tr><td>eval_f1_micro</td><td>▁</td></tr><tr><td>eval_loss</td><td>▁</td></tr><tr><td>test_accuracy</td><td>▁</td></tr><tr><td>test_f1_macro</td><td>▁</td></tr><tr><td>test_f1_micro</td><td>▁</td></tr><tr><td>test_loss</td><td>▁</td></tr><tr><td>train/epoch</td><td>▁▁▁▂▂▂▂▂▂▃▃▃▃▄▄▄▄▄▅▅▅▅▅▅▆▆▆▆▇▇▇▇▇█████</td></tr><tr><td>train/global_step</td><td>▁▂▂▂▂▂▂▃▃▃▃▃▄▄▄▄▄▄▅▅▅▆▆▆▆▆▆▇▇▇▇▇███████▁</td></tr><tr><td>train/grad_norm</td><td>▄▄▁▁█▃▂▃▄▅▃▄▅▃▂▂▄▂▃▂▃▃▂▂</td></tr><tr><td>train/learning_rate</td><td>▂▄▅▇██▇▇▇▆▆▅▅▅▄▄▄▃▃▂▂▂▁▁</td></tr><tr><td>train/loss</td><td>█▇▅▅▄▄▃▃▃▃▂▂▂▂▂▁▁▁▁▁▁▁▁▁</td></tr></table><br/></div><div class=\"wandb-col\"><h3>Run summary:</h3><br/><table class=\"wandb\"><tr><td>eval/accuracy</td><td>0.03989</td></tr><tr><td>eval/f1_macro</td><td>0.0</td></tr><tr><td>eval/f1_micro</td><td>0.0</td></tr><tr><td>eval/loss</td><td>0.47316</td></tr><tr><td>eval/runtime</td><td>4.6028</td></tr><tr><td>eval/samples_per_second</td><td>708.054</td></tr><tr><td>eval/steps_per_second</td><td>88.642</td></tr><tr><td>eval_accuracy</td><td>0.24984</td></tr><tr><td>eval_f1_macro</td><td>0.49773</td></tr><tr><td>eval_f1_micro</td><td>0.65719</td></tr><tr><td>eval_loss</td><td>0.32491</td></tr><tr><td>test_accuracy</td><td>0.03989</td></tr><tr><td>test_f1_macro</td><td>0.0</td></tr><tr><td>test_f1_micro</td><td>0.0</td></tr><tr><td>test_loss</td><td>0.47316</td></tr><tr><td>total_flos</td><td>1023309287427840.0</td></tr><tr><td>train/epoch</td><td>5.0</td></tr><tr><td>train/global_step</td><td>0</td></tr><tr><td>train/grad_norm</td><td>0.32177</td></tr><tr><td>train/learning_rate</td><td>0.0</td></tr><tr><td>train/loss</td><td>0.2307</td></tr><tr><td>train_loss</td><td>0.33621</td></tr><tr><td>train_runtime</td><td>86.1798</td></tr><tr><td>train_samples_per_second</td><td>358.495</td></tr><tr><td>train_steps_per_second</td><td>2.843</td></tr></table><br/></div></div>"
            ]
          },
          "metadata": {}
        },
        {
          "output_type": "display_data",
          "data": {
            "text/plain": [
              "<IPython.core.display.HTML object>"
            ],
            "text/html": [
              " View run <strong style=\"color:#cdcd00\">HW6/bert</strong> at: <a href='https://wandb.ai/manojcompany/nlp_course_spring_2024-HW/runs/1jl9ulg0' target=\"_blank\">https://wandb.ai/manojcompany/nlp_course_spring_2024-HW/runs/1jl9ulg0</a><br/> View project at: <a href='https://wandb.ai/manojcompany/nlp_course_spring_2024-HW' target=\"_blank\">https://wandb.ai/manojcompany/nlp_course_spring_2024-HW</a><br/>Synced 5 W&B file(s), 1 media file(s), 0 artifact file(s) and 0 other file(s)"
            ]
          },
          "metadata": {}
        },
        {
          "output_type": "display_data",
          "data": {
            "text/plain": [
              "<IPython.core.display.HTML object>"
            ],
            "text/html": [
              "Find logs at: <code>./wandb/run-20240417_224240-1jl9ulg0/logs</code>"
            ]
          },
          "metadata": {}
        }
      ],
      "source": [
        "wandb.finish()\n"
      ]
    },
    {
      "cell_type": "code",
      "execution_count": 57,
      "metadata": {
        "id": "0fxKSSQECDof",
        "colab": {
          "base_uri": "https://localhost:8080/"
        },
        "outputId": "ec6ec23f-47b7-49c1-de9f-6939ad55fa7e"
      },
      "outputs": [
        {
          "output_type": "execute_result",
          "data": {
            "text/plain": [
              "PredictionOutput(predictions=array([[ 0.98535156, -2.2597656 ,  0.6489258 , ..., -2.3828125 ,\n",
              "        -3.2089844 , -3.6152344 ],\n",
              "       [ 0.74853516, -2.5722656 ,  0.81347656, ...,  0.1986084 ,\n",
              "        -4.078125  , -5.171875  ],\n",
              "       [ 2.6699219 , -3.9375    ,  2.3925781 , ...,  1.125     ,\n",
              "        -3.9101562 , -5.4296875 ],\n",
              "       ...,\n",
              "       [ 3.4667969 , -2.8339844 ,  2.1308594 , ..., -2.1445312 ,\n",
              "        -3.28125   , -4.390625  ],\n",
              "       [-4.3398438 , -2.7792969 , -4.3945312 , ..., -3.3535156 ,\n",
              "        -3.0488281 , -1.9326172 ],\n",
              "       [ 1.0771484 , -1.9638672 ,  0.28686523, ..., -2.6230469 ,\n",
              "        -2.4648438 , -3.6855469 ]], dtype=float32), label_ids=array([[0., 0., 0., ..., 0., 0., 0.],\n",
              "       [0., 0., 0., ..., 0., 0., 0.],\n",
              "       [0., 0., 0., ..., 0., 0., 0.],\n",
              "       ...,\n",
              "       [0., 0., 0., ..., 0., 0., 0.],\n",
              "       [0., 0., 0., ..., 0., 0., 0.],\n",
              "       [0., 0., 0., ..., 0., 0., 0.]], dtype=float32), metrics={'test_loss': 0.47316354513168335, 'test_f1_micro': 0.0, 'test_f1_macro': 0.0, 'test_accuracy': 0.039889536667689476, 'test_runtime': 5.34, 'test_samples_per_second': 610.304, 'test_steps_per_second': 76.405})"
            ]
          },
          "metadata": {},
          "execution_count": 57
        }
      ],
      "source": [
        "test_output"
      ]
    },
    {
      "cell_type": "code",
      "execution_count": 58,
      "metadata": {
        "id": "2XDzyo4dCj74",
        "colab": {
          "base_uri": "https://localhost:8080/"
        },
        "outputId": "9a76900a-d620-4c21-a244-0b79718145c8"
      },
      "outputs": [
        {
          "output_type": "execute_result",
          "data": {
            "text/plain": [
              "array([[ 0.98535156, -2.2597656 ,  0.6489258 , ..., -2.3828125 ,\n",
              "        -3.2089844 , -3.6152344 ],\n",
              "       [ 0.74853516, -2.5722656 ,  0.81347656, ...,  0.1986084 ,\n",
              "        -4.078125  , -5.171875  ],\n",
              "       [ 2.6699219 , -3.9375    ,  2.3925781 , ...,  1.125     ,\n",
              "        -3.9101562 , -5.4296875 ],\n",
              "       ...,\n",
              "       [ 3.4667969 , -2.8339844 ,  2.1308594 , ..., -2.1445312 ,\n",
              "        -3.28125   , -4.390625  ],\n",
              "       [-4.3398438 , -2.7792969 , -4.3945312 , ..., -3.3535156 ,\n",
              "        -3.0488281 , -1.9326172 ],\n",
              "       [ 1.0771484 , -1.9638672 ,  0.28686523, ..., -2.6230469 ,\n",
              "        -2.4648438 , -3.6855469 ]], dtype=float32)"
            ]
          },
          "metadata": {},
          "execution_count": 58
        }
      ],
      "source": [
        "test_output.predictions"
      ]
    },
    {
      "cell_type": "code",
      "execution_count": 59,
      "metadata": {
        "id": "Lm3MJ03dCj5A"
      },
      "outputs": [],
      "source": [
        "preds = test_output.predictions"
      ]
    },
    {
      "cell_type": "code",
      "execution_count": 60,
      "metadata": {
        "id": "hKLEIZcYCj2I"
      },
      "outputs": [],
      "source": [
        "import torch"
      ]
    },
    {
      "cell_type": "code",
      "execution_count": 61,
      "metadata": {
        "id": "V01FxdFUCjzb"
      },
      "outputs": [],
      "source": [
        "preds = torch.tensor(preds)"
      ]
    },
    {
      "cell_type": "markdown",
      "metadata": {
        "id": "qJUudNw9Cz-a"
      },
      "source": [
        "predictions to probabilty"
      ]
    },
    {
      "cell_type": "code",
      "execution_count": 62,
      "metadata": {
        "id": "nAEBoG4VCjwl"
      },
      "outputs": [],
      "source": [
        "def conversion(predictions, threshold=0.25):\n",
        "    probs = torch.sigmoid(torch.Tensor(predictions))\n",
        "    return np.where(probs >= threshold, 1, 0)"
      ]
    },
    {
      "cell_type": "code",
      "execution_count": 63,
      "metadata": {
        "id": "I8mYoH8ZCjuF"
      },
      "outputs": [],
      "source": [
        "test_pred_output = conversion(preds)\n"
      ]
    },
    {
      "cell_type": "markdown",
      "metadata": {
        "id": "oSC5z9-eC83Y"
      },
      "source": [
        "# Model Inference"
      ]
    },
    {
      "cell_type": "code",
      "execution_count": 64,
      "metadata": {
        "id": "AUAbnrm3C6ol"
      },
      "outputs": [],
      "source": [
        "checkpoint = str(model_folder/f'checkpoint-{best_model_checkpoint_step}')\n",
        "custom_pipeline = pipeline(\n",
        "    task=\"text-classification\",\n",
        "    model=checkpoint,\n",
        "    tokenizer=checkpoint,\n",
        "    device=0)"
      ]
    },
    {
      "cell_type": "code",
      "execution_count": 65,
      "metadata": {
        "id": "8XsBF93tC6lR"
      },
      "outputs": [],
      "source": [
        "map_labels = []\n",
        "for predictions in test_pred_output:\n",
        "    map_row = [label for label, pred in zip(labels, predictions) if pred == 1]\n",
        "    map_labels.append(map_row)"
      ]
    },
    {
      "cell_type": "code",
      "execution_count": 66,
      "metadata": {
        "id": "lvWfdie1C6il",
        "colab": {
          "base_uri": "https://localhost:8080/"
        },
        "outputId": "b66d8909-5470-46db-b7d8-45a30fca3cd9"
      },
      "outputs": [
        {
          "output_type": "stream",
          "name": "stdout",
          "text": [
            "[['anger', 'disgust', 'fear'], ['anger', 'disgust', 'sadness'], ['anger', 'disgust', 'sadness'], ['anticipation', 'joy', 'optimism'], ['disgust', 'fear', 'pessimism', 'sadness']]\n"
          ]
        }
      ],
      "source": [
        "print(map_labels[0:5])"
      ]
    },
    {
      "cell_type": "code",
      "execution_count": 72,
      "metadata": {
        "id": "nQKgBmYqC6e_"
      },
      "outputs": [],
      "source": [
        "test_df[['anger', 'anticipation', 'disgust', 'fear', 'joy', 'love',\n",
        "       'optimism', 'pessimism', 'sadness', 'surprise', 'trust']] = test_pred_output"
      ]
    },
    {
      "cell_type": "code",
      "source": [
        "test_pred_output"
      ],
      "metadata": {
        "colab": {
          "base_uri": "https://localhost:8080/"
        },
        "id": "te01h1k8OPoV",
        "outputId": "a41f7513-f1bb-497b-9adf-b71ef3d9c453"
      },
      "execution_count": 73,
      "outputs": [
        {
          "output_type": "execute_result",
          "data": {
            "text/plain": [
              "array([[1, 0, 1, ..., 0, 0, 0],\n",
              "       [1, 0, 1, ..., 1, 0, 0],\n",
              "       [1, 0, 1, ..., 1, 0, 0],\n",
              "       ...,\n",
              "       [1, 0, 1, ..., 0, 0, 0],\n",
              "       [0, 0, 0, ..., 0, 0, 0],\n",
              "       [1, 0, 1, ..., 0, 0, 0]])"
            ]
          },
          "metadata": {},
          "execution_count": 73
        }
      ]
    },
    {
      "cell_type": "code",
      "execution_count": 74,
      "metadata": {
        "id": "nL5PZy8bC6b4",
        "colab": {
          "base_uri": "https://localhost:8080/",
          "height": 434
        },
        "outputId": "b1dccf05-426f-4239-f0d3-00b5c56ded87"
      },
      "outputs": [
        {
          "output_type": "execute_result",
          "data": {
            "text/plain": [
              "           ID                                              Tweet  anger  \\\n",
              "0  2018-01559  @Adnan__786__ @AsYouNotWish Dont worry Indian ...      1   \n",
              "1  2018-03739  Academy of Sciences, eschews the normally sobe...      1   \n",
              "2  2018-00385                  I blew that opportunity -__- #mad      1   \n",
              "3  2018-03001             This time in 2 weeks I will be 30... 😥      0   \n",
              "4  2018-01988  #Deppression is real. Partners w/ #depressed p...      0   \n",
              "\n",
              "   anticipation  disgust  fear  joy  love  optimism  pessimism  sadness  \\\n",
              "0             0        1     1    0     0         0          0        0   \n",
              "1             0        1     0    0     0         0          0        1   \n",
              "2             0        1     0    0     0         0          0        1   \n",
              "3             1        0     0    1     0         1          0        0   \n",
              "4             0        1     1    0     0         0          1        1   \n",
              "\n",
              "   surprise  trust  \n",
              "0         0      0  \n",
              "1         0      0  \n",
              "2         0      0  \n",
              "3         0      0  \n",
              "4         0      0  "
            ],
            "text/html": [
              "\n",
              "  <div id=\"df-a378e9c6-1ad1-4479-b48b-0c634672aa0b\" class=\"colab-df-container\">\n",
              "    <div>\n",
              "<style scoped>\n",
              "    .dataframe tbody tr th:only-of-type {\n",
              "        vertical-align: middle;\n",
              "    }\n",
              "\n",
              "    .dataframe tbody tr th {\n",
              "        vertical-align: top;\n",
              "    }\n",
              "\n",
              "    .dataframe thead th {\n",
              "        text-align: right;\n",
              "    }\n",
              "</style>\n",
              "<table border=\"1\" class=\"dataframe\">\n",
              "  <thead>\n",
              "    <tr style=\"text-align: right;\">\n",
              "      <th></th>\n",
              "      <th>ID</th>\n",
              "      <th>Tweet</th>\n",
              "      <th>anger</th>\n",
              "      <th>anticipation</th>\n",
              "      <th>disgust</th>\n",
              "      <th>fear</th>\n",
              "      <th>joy</th>\n",
              "      <th>love</th>\n",
              "      <th>optimism</th>\n",
              "      <th>pessimism</th>\n",
              "      <th>sadness</th>\n",
              "      <th>surprise</th>\n",
              "      <th>trust</th>\n",
              "    </tr>\n",
              "  </thead>\n",
              "  <tbody>\n",
              "    <tr>\n",
              "      <th>0</th>\n",
              "      <td>2018-01559</td>\n",
              "      <td>@Adnan__786__ @AsYouNotWish Dont worry Indian ...</td>\n",
              "      <td>1</td>\n",
              "      <td>0</td>\n",
              "      <td>1</td>\n",
              "      <td>1</td>\n",
              "      <td>0</td>\n",
              "      <td>0</td>\n",
              "      <td>0</td>\n",
              "      <td>0</td>\n",
              "      <td>0</td>\n",
              "      <td>0</td>\n",
              "      <td>0</td>\n",
              "    </tr>\n",
              "    <tr>\n",
              "      <th>1</th>\n",
              "      <td>2018-03739</td>\n",
              "      <td>Academy of Sciences, eschews the normally sobe...</td>\n",
              "      <td>1</td>\n",
              "      <td>0</td>\n",
              "      <td>1</td>\n",
              "      <td>0</td>\n",
              "      <td>0</td>\n",
              "      <td>0</td>\n",
              "      <td>0</td>\n",
              "      <td>0</td>\n",
              "      <td>1</td>\n",
              "      <td>0</td>\n",
              "      <td>0</td>\n",
              "    </tr>\n",
              "    <tr>\n",
              "      <th>2</th>\n",
              "      <td>2018-00385</td>\n",
              "      <td>I blew that opportunity -__- #mad</td>\n",
              "      <td>1</td>\n",
              "      <td>0</td>\n",
              "      <td>1</td>\n",
              "      <td>0</td>\n",
              "      <td>0</td>\n",
              "      <td>0</td>\n",
              "      <td>0</td>\n",
              "      <td>0</td>\n",
              "      <td>1</td>\n",
              "      <td>0</td>\n",
              "      <td>0</td>\n",
              "    </tr>\n",
              "    <tr>\n",
              "      <th>3</th>\n",
              "      <td>2018-03001</td>\n",
              "      <td>This time in 2 weeks I will be 30... 😥</td>\n",
              "      <td>0</td>\n",
              "      <td>1</td>\n",
              "      <td>0</td>\n",
              "      <td>0</td>\n",
              "      <td>1</td>\n",
              "      <td>0</td>\n",
              "      <td>1</td>\n",
              "      <td>0</td>\n",
              "      <td>0</td>\n",
              "      <td>0</td>\n",
              "      <td>0</td>\n",
              "    </tr>\n",
              "    <tr>\n",
              "      <th>4</th>\n",
              "      <td>2018-01988</td>\n",
              "      <td>#Deppression is real. Partners w/ #depressed p...</td>\n",
              "      <td>0</td>\n",
              "      <td>0</td>\n",
              "      <td>1</td>\n",
              "      <td>1</td>\n",
              "      <td>0</td>\n",
              "      <td>0</td>\n",
              "      <td>0</td>\n",
              "      <td>1</td>\n",
              "      <td>1</td>\n",
              "      <td>0</td>\n",
              "      <td>0</td>\n",
              "    </tr>\n",
              "  </tbody>\n",
              "</table>\n",
              "</div>\n",
              "    <div class=\"colab-df-buttons\">\n",
              "\n",
              "  <div class=\"colab-df-container\">\n",
              "    <button class=\"colab-df-convert\" onclick=\"convertToInteractive('df-a378e9c6-1ad1-4479-b48b-0c634672aa0b')\"\n",
              "            title=\"Convert this dataframe to an interactive table.\"\n",
              "            style=\"display:none;\">\n",
              "\n",
              "  <svg xmlns=\"http://www.w3.org/2000/svg\" height=\"24px\" viewBox=\"0 -960 960 960\">\n",
              "    <path d=\"M120-120v-720h720v720H120Zm60-500h600v-160H180v160Zm220 220h160v-160H400v160Zm0 220h160v-160H400v160ZM180-400h160v-160H180v160Zm440 0h160v-160H620v160ZM180-180h160v-160H180v160Zm440 0h160v-160H620v160Z\"/>\n",
              "  </svg>\n",
              "    </button>\n",
              "\n",
              "  <style>\n",
              "    .colab-df-container {\n",
              "      display:flex;\n",
              "      gap: 12px;\n",
              "    }\n",
              "\n",
              "    .colab-df-convert {\n",
              "      background-color: #E8F0FE;\n",
              "      border: none;\n",
              "      border-radius: 50%;\n",
              "      cursor: pointer;\n",
              "      display: none;\n",
              "      fill: #1967D2;\n",
              "      height: 32px;\n",
              "      padding: 0 0 0 0;\n",
              "      width: 32px;\n",
              "    }\n",
              "\n",
              "    .colab-df-convert:hover {\n",
              "      background-color: #E2EBFA;\n",
              "      box-shadow: 0px 1px 2px rgba(60, 64, 67, 0.3), 0px 1px 3px 1px rgba(60, 64, 67, 0.15);\n",
              "      fill: #174EA6;\n",
              "    }\n",
              "\n",
              "    .colab-df-buttons div {\n",
              "      margin-bottom: 4px;\n",
              "    }\n",
              "\n",
              "    [theme=dark] .colab-df-convert {\n",
              "      background-color: #3B4455;\n",
              "      fill: #D2E3FC;\n",
              "    }\n",
              "\n",
              "    [theme=dark] .colab-df-convert:hover {\n",
              "      background-color: #434B5C;\n",
              "      box-shadow: 0px 1px 3px 1px rgba(0, 0, 0, 0.15);\n",
              "      filter: drop-shadow(0px 1px 2px rgba(0, 0, 0, 0.3));\n",
              "      fill: #FFFFFF;\n",
              "    }\n",
              "  </style>\n",
              "\n",
              "    <script>\n",
              "      const buttonEl =\n",
              "        document.querySelector('#df-a378e9c6-1ad1-4479-b48b-0c634672aa0b button.colab-df-convert');\n",
              "      buttonEl.style.display =\n",
              "        google.colab.kernel.accessAllowed ? 'block' : 'none';\n",
              "\n",
              "      async function convertToInteractive(key) {\n",
              "        const element = document.querySelector('#df-a378e9c6-1ad1-4479-b48b-0c634672aa0b');\n",
              "        const dataTable =\n",
              "          await google.colab.kernel.invokeFunction('convertToInteractive',\n",
              "                                                    [key], {});\n",
              "        if (!dataTable) return;\n",
              "\n",
              "        const docLinkHtml = 'Like what you see? Visit the ' +\n",
              "          '<a target=\"_blank\" href=https://colab.research.google.com/notebooks/data_table.ipynb>data table notebook</a>'\n",
              "          + ' to learn more about interactive tables.';\n",
              "        element.innerHTML = '';\n",
              "        dataTable['output_type'] = 'display_data';\n",
              "        await google.colab.output.renderOutput(dataTable, element);\n",
              "        const docLink = document.createElement('div');\n",
              "        docLink.innerHTML = docLinkHtml;\n",
              "        element.appendChild(docLink);\n",
              "      }\n",
              "    </script>\n",
              "  </div>\n",
              "\n",
              "\n",
              "<div id=\"df-bb856566-6719-4348-afbe-0f08fc46e949\">\n",
              "  <button class=\"colab-df-quickchart\" onclick=\"quickchart('df-bb856566-6719-4348-afbe-0f08fc46e949')\"\n",
              "            title=\"Suggest charts\"\n",
              "            style=\"display:none;\">\n",
              "\n",
              "<svg xmlns=\"http://www.w3.org/2000/svg\" height=\"24px\"viewBox=\"0 0 24 24\"\n",
              "     width=\"24px\">\n",
              "    <g>\n",
              "        <path d=\"M19 3H5c-1.1 0-2 .9-2 2v14c0 1.1.9 2 2 2h14c1.1 0 2-.9 2-2V5c0-1.1-.9-2-2-2zM9 17H7v-7h2v7zm4 0h-2V7h2v10zm4 0h-2v-4h2v4z\"/>\n",
              "    </g>\n",
              "</svg>\n",
              "  </button>\n",
              "\n",
              "<style>\n",
              "  .colab-df-quickchart {\n",
              "      --bg-color: #E8F0FE;\n",
              "      --fill-color: #1967D2;\n",
              "      --hover-bg-color: #E2EBFA;\n",
              "      --hover-fill-color: #174EA6;\n",
              "      --disabled-fill-color: #AAA;\n",
              "      --disabled-bg-color: #DDD;\n",
              "  }\n",
              "\n",
              "  [theme=dark] .colab-df-quickchart {\n",
              "      --bg-color: #3B4455;\n",
              "      --fill-color: #D2E3FC;\n",
              "      --hover-bg-color: #434B5C;\n",
              "      --hover-fill-color: #FFFFFF;\n",
              "      --disabled-bg-color: #3B4455;\n",
              "      --disabled-fill-color: #666;\n",
              "  }\n",
              "\n",
              "  .colab-df-quickchart {\n",
              "    background-color: var(--bg-color);\n",
              "    border: none;\n",
              "    border-radius: 50%;\n",
              "    cursor: pointer;\n",
              "    display: none;\n",
              "    fill: var(--fill-color);\n",
              "    height: 32px;\n",
              "    padding: 0;\n",
              "    width: 32px;\n",
              "  }\n",
              "\n",
              "  .colab-df-quickchart:hover {\n",
              "    background-color: var(--hover-bg-color);\n",
              "    box-shadow: 0 1px 2px rgba(60, 64, 67, 0.3), 0 1px 3px 1px rgba(60, 64, 67, 0.15);\n",
              "    fill: var(--button-hover-fill-color);\n",
              "  }\n",
              "\n",
              "  .colab-df-quickchart-complete:disabled,\n",
              "  .colab-df-quickchart-complete:disabled:hover {\n",
              "    background-color: var(--disabled-bg-color);\n",
              "    fill: var(--disabled-fill-color);\n",
              "    box-shadow: none;\n",
              "  }\n",
              "\n",
              "  .colab-df-spinner {\n",
              "    border: 2px solid var(--fill-color);\n",
              "    border-color: transparent;\n",
              "    border-bottom-color: var(--fill-color);\n",
              "    animation:\n",
              "      spin 1s steps(1) infinite;\n",
              "  }\n",
              "\n",
              "  @keyframes spin {\n",
              "    0% {\n",
              "      border-color: transparent;\n",
              "      border-bottom-color: var(--fill-color);\n",
              "      border-left-color: var(--fill-color);\n",
              "    }\n",
              "    20% {\n",
              "      border-color: transparent;\n",
              "      border-left-color: var(--fill-color);\n",
              "      border-top-color: var(--fill-color);\n",
              "    }\n",
              "    30% {\n",
              "      border-color: transparent;\n",
              "      border-left-color: var(--fill-color);\n",
              "      border-top-color: var(--fill-color);\n",
              "      border-right-color: var(--fill-color);\n",
              "    }\n",
              "    40% {\n",
              "      border-color: transparent;\n",
              "      border-right-color: var(--fill-color);\n",
              "      border-top-color: var(--fill-color);\n",
              "    }\n",
              "    60% {\n",
              "      border-color: transparent;\n",
              "      border-right-color: var(--fill-color);\n",
              "    }\n",
              "    80% {\n",
              "      border-color: transparent;\n",
              "      border-right-color: var(--fill-color);\n",
              "      border-bottom-color: var(--fill-color);\n",
              "    }\n",
              "    90% {\n",
              "      border-color: transparent;\n",
              "      border-bottom-color: var(--fill-color);\n",
              "    }\n",
              "  }\n",
              "</style>\n",
              "\n",
              "  <script>\n",
              "    async function quickchart(key) {\n",
              "      const quickchartButtonEl =\n",
              "        document.querySelector('#' + key + ' button');\n",
              "      quickchartButtonEl.disabled = true;  // To prevent multiple clicks.\n",
              "      quickchartButtonEl.classList.add('colab-df-spinner');\n",
              "      try {\n",
              "        const charts = await google.colab.kernel.invokeFunction(\n",
              "            'suggestCharts', [key], {});\n",
              "      } catch (error) {\n",
              "        console.error('Error during call to suggestCharts:', error);\n",
              "      }\n",
              "      quickchartButtonEl.classList.remove('colab-df-spinner');\n",
              "      quickchartButtonEl.classList.add('colab-df-quickchart-complete');\n",
              "    }\n",
              "    (() => {\n",
              "      let quickchartButtonEl =\n",
              "        document.querySelector('#df-bb856566-6719-4348-afbe-0f08fc46e949 button');\n",
              "      quickchartButtonEl.style.display =\n",
              "        google.colab.kernel.accessAllowed ? 'block' : 'none';\n",
              "    })();\n",
              "  </script>\n",
              "</div>\n",
              "\n",
              "    </div>\n",
              "  </div>\n"
            ],
            "application/vnd.google.colaboratory.intrinsic+json": {
              "type": "dataframe",
              "variable_name": "test_df",
              "summary": "{\n  \"name\": \"test_df\",\n  \"rows\": 3259,\n  \"fields\": [\n    {\n      \"column\": \"ID\",\n      \"properties\": {\n        \"dtype\": \"string\",\n        \"num_unique_values\": 3259,\n        \"samples\": [\n          \"2018-00951\",\n          \"2018-04124\",\n          \"2018-04333\"\n        ],\n        \"semantic_type\": \"\",\n        \"description\": \"\"\n      }\n    },\n    {\n      \"column\": \"Tweet\",\n      \"properties\": {\n        \"dtype\": \"string\",\n        \"num_unique_values\": 3259,\n        \"samples\": [\n          \"When you're on a diet and your whole family orders pizza. \",\n          \"@lukeWHC09 Hahaaa! Was fuming with that \\ud83d\\ude1e\\ud83d\\ude02\",\n          \"@CaxtonSupport I'm sorry but I don't know what DM stands for. I know a PM \\ud83d\\ude02. But sadly not a DM. It won't create an account to find.\"\n        ],\n        \"semantic_type\": \"\",\n        \"description\": \"\"\n      }\n    },\n    {\n      \"column\": \"anger\",\n      \"properties\": {\n        \"dtype\": \"number\",\n        \"std\": 0,\n        \"min\": 0,\n        \"max\": 1,\n        \"num_unique_values\": 2,\n        \"samples\": [\n          0,\n          1\n        ],\n        \"semantic_type\": \"\",\n        \"description\": \"\"\n      }\n    },\n    {\n      \"column\": \"anticipation\",\n      \"properties\": {\n        \"dtype\": \"number\",\n        \"std\": 0,\n        \"min\": 0,\n        \"max\": 1,\n        \"num_unique_values\": 2,\n        \"samples\": [\n          1,\n          0\n        ],\n        \"semantic_type\": \"\",\n        \"description\": \"\"\n      }\n    },\n    {\n      \"column\": \"disgust\",\n      \"properties\": {\n        \"dtype\": \"number\",\n        \"std\": 0,\n        \"min\": 0,\n        \"max\": 1,\n        \"num_unique_values\": 2,\n        \"samples\": [\n          0,\n          1\n        ],\n        \"semantic_type\": \"\",\n        \"description\": \"\"\n      }\n    },\n    {\n      \"column\": \"fear\",\n      \"properties\": {\n        \"dtype\": \"number\",\n        \"std\": 0,\n        \"min\": 0,\n        \"max\": 1,\n        \"num_unique_values\": 2,\n        \"samples\": [\n          0,\n          1\n        ],\n        \"semantic_type\": \"\",\n        \"description\": \"\"\n      }\n    },\n    {\n      \"column\": \"joy\",\n      \"properties\": {\n        \"dtype\": \"number\",\n        \"std\": 0,\n        \"min\": 0,\n        \"max\": 1,\n        \"num_unique_values\": 2,\n        \"samples\": [\n          1,\n          0\n        ],\n        \"semantic_type\": \"\",\n        \"description\": \"\"\n      }\n    },\n    {\n      \"column\": \"love\",\n      \"properties\": {\n        \"dtype\": \"number\",\n        \"std\": 0,\n        \"min\": 0,\n        \"max\": 1,\n        \"num_unique_values\": 2,\n        \"samples\": [\n          1,\n          0\n        ],\n        \"semantic_type\": \"\",\n        \"description\": \"\"\n      }\n    },\n    {\n      \"column\": \"optimism\",\n      \"properties\": {\n        \"dtype\": \"number\",\n        \"std\": 0,\n        \"min\": 0,\n        \"max\": 1,\n        \"num_unique_values\": 2,\n        \"samples\": [\n          1,\n          0\n        ],\n        \"semantic_type\": \"\",\n        \"description\": \"\"\n      }\n    },\n    {\n      \"column\": \"pessimism\",\n      \"properties\": {\n        \"dtype\": \"number\",\n        \"std\": 0,\n        \"min\": 0,\n        \"max\": 1,\n        \"num_unique_values\": 2,\n        \"samples\": [\n          1,\n          0\n        ],\n        \"semantic_type\": \"\",\n        \"description\": \"\"\n      }\n    },\n    {\n      \"column\": \"sadness\",\n      \"properties\": {\n        \"dtype\": \"number\",\n        \"std\": 0,\n        \"min\": 0,\n        \"max\": 1,\n        \"num_unique_values\": 2,\n        \"samples\": [\n          1,\n          0\n        ],\n        \"semantic_type\": \"\",\n        \"description\": \"\"\n      }\n    },\n    {\n      \"column\": \"surprise\",\n      \"properties\": {\n        \"dtype\": \"number\",\n        \"std\": 0,\n        \"min\": 0,\n        \"max\": 1,\n        \"num_unique_values\": 2,\n        \"samples\": [\n          1,\n          0\n        ],\n        \"semantic_type\": \"\",\n        \"description\": \"\"\n      }\n    },\n    {\n      \"column\": \"trust\",\n      \"properties\": {\n        \"dtype\": \"number\",\n        \"std\": 0,\n        \"min\": 0,\n        \"max\": 1,\n        \"num_unique_values\": 2,\n        \"samples\": [\n          1,\n          0\n        ],\n        \"semantic_type\": \"\",\n        \"description\": \"\"\n      }\n    }\n  ]\n}"
            }
          },
          "metadata": {},
          "execution_count": 74
        }
      ],
      "source": [
        "test_df.head()"
      ]
    },
    {
      "cell_type": "code",
      "execution_count": 75,
      "metadata": {
        "id": "DOvg9Js7C6ZJ"
      },
      "outputs": [],
      "source": [
        "test_df.drop([\"Tweet\"],axis =1, inplace = True)"
      ]
    },
    {
      "cell_type": "code",
      "execution_count": 76,
      "metadata": {
        "id": "bgvL9xcjC6XK"
      },
      "outputs": [],
      "source": [
        "test_df.to_csv(data_folder/\"bert-test.csv\")"
      ]
    },
    {
      "cell_type": "code",
      "execution_count": null,
      "metadata": {
        "id": "iIbsT1ZcC6T1"
      },
      "outputs": [],
      "source": []
    },
    {
      "cell_type": "code",
      "execution_count": null,
      "metadata": {
        "id": "qZtPMNPRC6Q0"
      },
      "outputs": [],
      "source": []
    },
    {
      "cell_type": "code",
      "execution_count": null,
      "metadata": {
        "id": "h5RBBRS_prgL"
      },
      "outputs": [],
      "source": []
    },
    {
      "cell_type": "code",
      "execution_count": null,
      "metadata": {
        "id": "M5v0oZlnprdS"
      },
      "outputs": [],
      "source": []
    }
  ],
  "metadata": {
    "accelerator": "GPU",
    "colab": {
      "gpuType": "V100",
      "machine_shape": "hm",
      "provenance": []
    },
    "kernelspec": {
      "display_name": "Python 3",
      "name": "python3"
    },
    "language_info": {
      "name": "python"
    },
    "widgets": {
      "application/vnd.jupyter.widget-state+json": {
        "51fbee2275324b9bb369ab651b29b857": {
          "model_module": "@jupyter-widgets/controls",
          "model_name": "HBoxModel",
          "model_module_version": "1.5.0",
          "state": {
            "_dom_classes": [],
            "_model_module": "@jupyter-widgets/controls",
            "_model_module_version": "1.5.0",
            "_model_name": "HBoxModel",
            "_view_count": null,
            "_view_module": "@jupyter-widgets/controls",
            "_view_module_version": "1.5.0",
            "_view_name": "HBoxView",
            "box_style": "",
            "children": [
              "IPY_MODEL_5f469ba531774953a41f5482040be3fa",
              "IPY_MODEL_07186567ae9f4b40a8f1ed35760d43d8",
              "IPY_MODEL_85326560b2d44a809e8dcc16ef3cc860"
            ],
            "layout": "IPY_MODEL_0df5d357ba714c94954a8cbf675c4858"
          }
        },
        "5f469ba531774953a41f5482040be3fa": {
          "model_module": "@jupyter-widgets/controls",
          "model_name": "HTMLModel",
          "model_module_version": "1.5.0",
          "state": {
            "_dom_classes": [],
            "_model_module": "@jupyter-widgets/controls",
            "_model_module_version": "1.5.0",
            "_model_name": "HTMLModel",
            "_view_count": null,
            "_view_module": "@jupyter-widgets/controls",
            "_view_module_version": "1.5.0",
            "_view_name": "HTMLView",
            "description": "",
            "description_tooltip": null,
            "layout": "IPY_MODEL_4edfb6b3077b45bba2c19af8432ff074",
            "placeholder": "​",
            "style": "IPY_MODEL_9c3b6859b79b4dc7b303429fde812711",
            "value": "Map: 100%"
          }
        },
        "07186567ae9f4b40a8f1ed35760d43d8": {
          "model_module": "@jupyter-widgets/controls",
          "model_name": "FloatProgressModel",
          "model_module_version": "1.5.0",
          "state": {
            "_dom_classes": [],
            "_model_module": "@jupyter-widgets/controls",
            "_model_module_version": "1.5.0",
            "_model_name": "FloatProgressModel",
            "_view_count": null,
            "_view_module": "@jupyter-widgets/controls",
            "_view_module_version": "1.5.0",
            "_view_name": "ProgressView",
            "bar_style": "success",
            "description": "",
            "description_tooltip": null,
            "layout": "IPY_MODEL_df46d3f113cc4c54bc07d4cfdcde3693",
            "max": 6179,
            "min": 0,
            "orientation": "horizontal",
            "style": "IPY_MODEL_70cc0234036e458ea4c99231308fea3f",
            "value": 6179
          }
        },
        "85326560b2d44a809e8dcc16ef3cc860": {
          "model_module": "@jupyter-widgets/controls",
          "model_name": "HTMLModel",
          "model_module_version": "1.5.0",
          "state": {
            "_dom_classes": [],
            "_model_module": "@jupyter-widgets/controls",
            "_model_module_version": "1.5.0",
            "_model_name": "HTMLModel",
            "_view_count": null,
            "_view_module": "@jupyter-widgets/controls",
            "_view_module_version": "1.5.0",
            "_view_name": "HTMLView",
            "description": "",
            "description_tooltip": null,
            "layout": "IPY_MODEL_e5d935d6966144ed8c22dbf841a30e92",
            "placeholder": "​",
            "style": "IPY_MODEL_5b9e11aceb1e49c7b68a3e2569d93ce3",
            "value": " 6179/6179 [00:00&lt;00:00, 10865.74 examples/s]"
          }
        },
        "0df5d357ba714c94954a8cbf675c4858": {
          "model_module": "@jupyter-widgets/base",
          "model_name": "LayoutModel",
          "model_module_version": "1.2.0",
          "state": {
            "_model_module": "@jupyter-widgets/base",
            "_model_module_version": "1.2.0",
            "_model_name": "LayoutModel",
            "_view_count": null,
            "_view_module": "@jupyter-widgets/base",
            "_view_module_version": "1.2.0",
            "_view_name": "LayoutView",
            "align_content": null,
            "align_items": null,
            "align_self": null,
            "border": null,
            "bottom": null,
            "display": null,
            "flex": null,
            "flex_flow": null,
            "grid_area": null,
            "grid_auto_columns": null,
            "grid_auto_flow": null,
            "grid_auto_rows": null,
            "grid_column": null,
            "grid_gap": null,
            "grid_row": null,
            "grid_template_areas": null,
            "grid_template_columns": null,
            "grid_template_rows": null,
            "height": null,
            "justify_content": null,
            "justify_items": null,
            "left": null,
            "margin": null,
            "max_height": null,
            "max_width": null,
            "min_height": null,
            "min_width": null,
            "object_fit": null,
            "object_position": null,
            "order": null,
            "overflow": null,
            "overflow_x": null,
            "overflow_y": null,
            "padding": null,
            "right": null,
            "top": null,
            "visibility": null,
            "width": null
          }
        },
        "4edfb6b3077b45bba2c19af8432ff074": {
          "model_module": "@jupyter-widgets/base",
          "model_name": "LayoutModel",
          "model_module_version": "1.2.0",
          "state": {
            "_model_module": "@jupyter-widgets/base",
            "_model_module_version": "1.2.0",
            "_model_name": "LayoutModel",
            "_view_count": null,
            "_view_module": "@jupyter-widgets/base",
            "_view_module_version": "1.2.0",
            "_view_name": "LayoutView",
            "align_content": null,
            "align_items": null,
            "align_self": null,
            "border": null,
            "bottom": null,
            "display": null,
            "flex": null,
            "flex_flow": null,
            "grid_area": null,
            "grid_auto_columns": null,
            "grid_auto_flow": null,
            "grid_auto_rows": null,
            "grid_column": null,
            "grid_gap": null,
            "grid_row": null,
            "grid_template_areas": null,
            "grid_template_columns": null,
            "grid_template_rows": null,
            "height": null,
            "justify_content": null,
            "justify_items": null,
            "left": null,
            "margin": null,
            "max_height": null,
            "max_width": null,
            "min_height": null,
            "min_width": null,
            "object_fit": null,
            "object_position": null,
            "order": null,
            "overflow": null,
            "overflow_x": null,
            "overflow_y": null,
            "padding": null,
            "right": null,
            "top": null,
            "visibility": null,
            "width": null
          }
        },
        "9c3b6859b79b4dc7b303429fde812711": {
          "model_module": "@jupyter-widgets/controls",
          "model_name": "DescriptionStyleModel",
          "model_module_version": "1.5.0",
          "state": {
            "_model_module": "@jupyter-widgets/controls",
            "_model_module_version": "1.5.0",
            "_model_name": "DescriptionStyleModel",
            "_view_count": null,
            "_view_module": "@jupyter-widgets/base",
            "_view_module_version": "1.2.0",
            "_view_name": "StyleView",
            "description_width": ""
          }
        },
        "df46d3f113cc4c54bc07d4cfdcde3693": {
          "model_module": "@jupyter-widgets/base",
          "model_name": "LayoutModel",
          "model_module_version": "1.2.0",
          "state": {
            "_model_module": "@jupyter-widgets/base",
            "_model_module_version": "1.2.0",
            "_model_name": "LayoutModel",
            "_view_count": null,
            "_view_module": "@jupyter-widgets/base",
            "_view_module_version": "1.2.0",
            "_view_name": "LayoutView",
            "align_content": null,
            "align_items": null,
            "align_self": null,
            "border": null,
            "bottom": null,
            "display": null,
            "flex": null,
            "flex_flow": null,
            "grid_area": null,
            "grid_auto_columns": null,
            "grid_auto_flow": null,
            "grid_auto_rows": null,
            "grid_column": null,
            "grid_gap": null,
            "grid_row": null,
            "grid_template_areas": null,
            "grid_template_columns": null,
            "grid_template_rows": null,
            "height": null,
            "justify_content": null,
            "justify_items": null,
            "left": null,
            "margin": null,
            "max_height": null,
            "max_width": null,
            "min_height": null,
            "min_width": null,
            "object_fit": null,
            "object_position": null,
            "order": null,
            "overflow": null,
            "overflow_x": null,
            "overflow_y": null,
            "padding": null,
            "right": null,
            "top": null,
            "visibility": null,
            "width": null
          }
        },
        "70cc0234036e458ea4c99231308fea3f": {
          "model_module": "@jupyter-widgets/controls",
          "model_name": "ProgressStyleModel",
          "model_module_version": "1.5.0",
          "state": {
            "_model_module": "@jupyter-widgets/controls",
            "_model_module_version": "1.5.0",
            "_model_name": "ProgressStyleModel",
            "_view_count": null,
            "_view_module": "@jupyter-widgets/base",
            "_view_module_version": "1.2.0",
            "_view_name": "StyleView",
            "bar_color": null,
            "description_width": ""
          }
        },
        "e5d935d6966144ed8c22dbf841a30e92": {
          "model_module": "@jupyter-widgets/base",
          "model_name": "LayoutModel",
          "model_module_version": "1.2.0",
          "state": {
            "_model_module": "@jupyter-widgets/base",
            "_model_module_version": "1.2.0",
            "_model_name": "LayoutModel",
            "_view_count": null,
            "_view_module": "@jupyter-widgets/base",
            "_view_module_version": "1.2.0",
            "_view_name": "LayoutView",
            "align_content": null,
            "align_items": null,
            "align_self": null,
            "border": null,
            "bottom": null,
            "display": null,
            "flex": null,
            "flex_flow": null,
            "grid_area": null,
            "grid_auto_columns": null,
            "grid_auto_flow": null,
            "grid_auto_rows": null,
            "grid_column": null,
            "grid_gap": null,
            "grid_row": null,
            "grid_template_areas": null,
            "grid_template_columns": null,
            "grid_template_rows": null,
            "height": null,
            "justify_content": null,
            "justify_items": null,
            "left": null,
            "margin": null,
            "max_height": null,
            "max_width": null,
            "min_height": null,
            "min_width": null,
            "object_fit": null,
            "object_position": null,
            "order": null,
            "overflow": null,
            "overflow_x": null,
            "overflow_y": null,
            "padding": null,
            "right": null,
            "top": null,
            "visibility": null,
            "width": null
          }
        },
        "5b9e11aceb1e49c7b68a3e2569d93ce3": {
          "model_module": "@jupyter-widgets/controls",
          "model_name": "DescriptionStyleModel",
          "model_module_version": "1.5.0",
          "state": {
            "_model_module": "@jupyter-widgets/controls",
            "_model_module_version": "1.5.0",
            "_model_name": "DescriptionStyleModel",
            "_view_count": null,
            "_view_module": "@jupyter-widgets/base",
            "_view_module_version": "1.2.0",
            "_view_name": "StyleView",
            "description_width": ""
          }
        },
        "d3f0abc2c7564b9da8dbedcd877a3c68": {
          "model_module": "@jupyter-widgets/controls",
          "model_name": "HBoxModel",
          "model_module_version": "1.5.0",
          "state": {
            "_dom_classes": [],
            "_model_module": "@jupyter-widgets/controls",
            "_model_module_version": "1.5.0",
            "_model_name": "HBoxModel",
            "_view_count": null,
            "_view_module": "@jupyter-widgets/controls",
            "_view_module_version": "1.5.0",
            "_view_name": "HBoxView",
            "box_style": "",
            "children": [
              "IPY_MODEL_26d6c861a69a4de8bed057eee1a4cea4",
              "IPY_MODEL_6e5b2fccbacc459d9c114f37f88b1770",
              "IPY_MODEL_1f12640f4fcc475ebf70d496f4daf427"
            ],
            "layout": "IPY_MODEL_fde409608c0b483b9385ac8273c00e47"
          }
        },
        "26d6c861a69a4de8bed057eee1a4cea4": {
          "model_module": "@jupyter-widgets/controls",
          "model_name": "HTMLModel",
          "model_module_version": "1.5.0",
          "state": {
            "_dom_classes": [],
            "_model_module": "@jupyter-widgets/controls",
            "_model_module_version": "1.5.0",
            "_model_name": "HTMLModel",
            "_view_count": null,
            "_view_module": "@jupyter-widgets/controls",
            "_view_module_version": "1.5.0",
            "_view_name": "HTMLView",
            "description": "",
            "description_tooltip": null,
            "layout": "IPY_MODEL_a47d9531be4f49ba922fc014be805046",
            "placeholder": "​",
            "style": "IPY_MODEL_e2da437a8d5b400d833a0e031d09cb53",
            "value": "Map: 100%"
          }
        },
        "6e5b2fccbacc459d9c114f37f88b1770": {
          "model_module": "@jupyter-widgets/controls",
          "model_name": "FloatProgressModel",
          "model_module_version": "1.5.0",
          "state": {
            "_dom_classes": [],
            "_model_module": "@jupyter-widgets/controls",
            "_model_module_version": "1.5.0",
            "_model_name": "FloatProgressModel",
            "_view_count": null,
            "_view_module": "@jupyter-widgets/controls",
            "_view_module_version": "1.5.0",
            "_view_name": "ProgressView",
            "bar_style": "success",
            "description": "",
            "description_tooltip": null,
            "layout": "IPY_MODEL_e1a7f01e9e7e460fb52cbd8ade41fdb2",
            "max": 1545,
            "min": 0,
            "orientation": "horizontal",
            "style": "IPY_MODEL_8fb3b9ce2165460ea750ada9e9f02ed6",
            "value": 1545
          }
        },
        "1f12640f4fcc475ebf70d496f4daf427": {
          "model_module": "@jupyter-widgets/controls",
          "model_name": "HTMLModel",
          "model_module_version": "1.5.0",
          "state": {
            "_dom_classes": [],
            "_model_module": "@jupyter-widgets/controls",
            "_model_module_version": "1.5.0",
            "_model_name": "HTMLModel",
            "_view_count": null,
            "_view_module": "@jupyter-widgets/controls",
            "_view_module_version": "1.5.0",
            "_view_name": "HTMLView",
            "description": "",
            "description_tooltip": null,
            "layout": "IPY_MODEL_395304ae29894a81a55c30c13aad8f18",
            "placeholder": "​",
            "style": "IPY_MODEL_77ec16476b9c4edfbfe5738b87291839",
            "value": " 1545/1545 [00:00&lt;00:00, 9157.93 examples/s]"
          }
        },
        "fde409608c0b483b9385ac8273c00e47": {
          "model_module": "@jupyter-widgets/base",
          "model_name": "LayoutModel",
          "model_module_version": "1.2.0",
          "state": {
            "_model_module": "@jupyter-widgets/base",
            "_model_module_version": "1.2.0",
            "_model_name": "LayoutModel",
            "_view_count": null,
            "_view_module": "@jupyter-widgets/base",
            "_view_module_version": "1.2.0",
            "_view_name": "LayoutView",
            "align_content": null,
            "align_items": null,
            "align_self": null,
            "border": null,
            "bottom": null,
            "display": null,
            "flex": null,
            "flex_flow": null,
            "grid_area": null,
            "grid_auto_columns": null,
            "grid_auto_flow": null,
            "grid_auto_rows": null,
            "grid_column": null,
            "grid_gap": null,
            "grid_row": null,
            "grid_template_areas": null,
            "grid_template_columns": null,
            "grid_template_rows": null,
            "height": null,
            "justify_content": null,
            "justify_items": null,
            "left": null,
            "margin": null,
            "max_height": null,
            "max_width": null,
            "min_height": null,
            "min_width": null,
            "object_fit": null,
            "object_position": null,
            "order": null,
            "overflow": null,
            "overflow_x": null,
            "overflow_y": null,
            "padding": null,
            "right": null,
            "top": null,
            "visibility": null,
            "width": null
          }
        },
        "a47d9531be4f49ba922fc014be805046": {
          "model_module": "@jupyter-widgets/base",
          "model_name": "LayoutModel",
          "model_module_version": "1.2.0",
          "state": {
            "_model_module": "@jupyter-widgets/base",
            "_model_module_version": "1.2.0",
            "_model_name": "LayoutModel",
            "_view_count": null,
            "_view_module": "@jupyter-widgets/base",
            "_view_module_version": "1.2.0",
            "_view_name": "LayoutView",
            "align_content": null,
            "align_items": null,
            "align_self": null,
            "border": null,
            "bottom": null,
            "display": null,
            "flex": null,
            "flex_flow": null,
            "grid_area": null,
            "grid_auto_columns": null,
            "grid_auto_flow": null,
            "grid_auto_rows": null,
            "grid_column": null,
            "grid_gap": null,
            "grid_row": null,
            "grid_template_areas": null,
            "grid_template_columns": null,
            "grid_template_rows": null,
            "height": null,
            "justify_content": null,
            "justify_items": null,
            "left": null,
            "margin": null,
            "max_height": null,
            "max_width": null,
            "min_height": null,
            "min_width": null,
            "object_fit": null,
            "object_position": null,
            "order": null,
            "overflow": null,
            "overflow_x": null,
            "overflow_y": null,
            "padding": null,
            "right": null,
            "top": null,
            "visibility": null,
            "width": null
          }
        },
        "e2da437a8d5b400d833a0e031d09cb53": {
          "model_module": "@jupyter-widgets/controls",
          "model_name": "DescriptionStyleModel",
          "model_module_version": "1.5.0",
          "state": {
            "_model_module": "@jupyter-widgets/controls",
            "_model_module_version": "1.5.0",
            "_model_name": "DescriptionStyleModel",
            "_view_count": null,
            "_view_module": "@jupyter-widgets/base",
            "_view_module_version": "1.2.0",
            "_view_name": "StyleView",
            "description_width": ""
          }
        },
        "e1a7f01e9e7e460fb52cbd8ade41fdb2": {
          "model_module": "@jupyter-widgets/base",
          "model_name": "LayoutModel",
          "model_module_version": "1.2.0",
          "state": {
            "_model_module": "@jupyter-widgets/base",
            "_model_module_version": "1.2.0",
            "_model_name": "LayoutModel",
            "_view_count": null,
            "_view_module": "@jupyter-widgets/base",
            "_view_module_version": "1.2.0",
            "_view_name": "LayoutView",
            "align_content": null,
            "align_items": null,
            "align_self": null,
            "border": null,
            "bottom": null,
            "display": null,
            "flex": null,
            "flex_flow": null,
            "grid_area": null,
            "grid_auto_columns": null,
            "grid_auto_flow": null,
            "grid_auto_rows": null,
            "grid_column": null,
            "grid_gap": null,
            "grid_row": null,
            "grid_template_areas": null,
            "grid_template_columns": null,
            "grid_template_rows": null,
            "height": null,
            "justify_content": null,
            "justify_items": null,
            "left": null,
            "margin": null,
            "max_height": null,
            "max_width": null,
            "min_height": null,
            "min_width": null,
            "object_fit": null,
            "object_position": null,
            "order": null,
            "overflow": null,
            "overflow_x": null,
            "overflow_y": null,
            "padding": null,
            "right": null,
            "top": null,
            "visibility": null,
            "width": null
          }
        },
        "8fb3b9ce2165460ea750ada9e9f02ed6": {
          "model_module": "@jupyter-widgets/controls",
          "model_name": "ProgressStyleModel",
          "model_module_version": "1.5.0",
          "state": {
            "_model_module": "@jupyter-widgets/controls",
            "_model_module_version": "1.5.0",
            "_model_name": "ProgressStyleModel",
            "_view_count": null,
            "_view_module": "@jupyter-widgets/base",
            "_view_module_version": "1.2.0",
            "_view_name": "StyleView",
            "bar_color": null,
            "description_width": ""
          }
        },
        "395304ae29894a81a55c30c13aad8f18": {
          "model_module": "@jupyter-widgets/base",
          "model_name": "LayoutModel",
          "model_module_version": "1.2.0",
          "state": {
            "_model_module": "@jupyter-widgets/base",
            "_model_module_version": "1.2.0",
            "_model_name": "LayoutModel",
            "_view_count": null,
            "_view_module": "@jupyter-widgets/base",
            "_view_module_version": "1.2.0",
            "_view_name": "LayoutView",
            "align_content": null,
            "align_items": null,
            "align_self": null,
            "border": null,
            "bottom": null,
            "display": null,
            "flex": null,
            "flex_flow": null,
            "grid_area": null,
            "grid_auto_columns": null,
            "grid_auto_flow": null,
            "grid_auto_rows": null,
            "grid_column": null,
            "grid_gap": null,
            "grid_row": null,
            "grid_template_areas": null,
            "grid_template_columns": null,
            "grid_template_rows": null,
            "height": null,
            "justify_content": null,
            "justify_items": null,
            "left": null,
            "margin": null,
            "max_height": null,
            "max_width": null,
            "min_height": null,
            "min_width": null,
            "object_fit": null,
            "object_position": null,
            "order": null,
            "overflow": null,
            "overflow_x": null,
            "overflow_y": null,
            "padding": null,
            "right": null,
            "top": null,
            "visibility": null,
            "width": null
          }
        },
        "77ec16476b9c4edfbfe5738b87291839": {
          "model_module": "@jupyter-widgets/controls",
          "model_name": "DescriptionStyleModel",
          "model_module_version": "1.5.0",
          "state": {
            "_model_module": "@jupyter-widgets/controls",
            "_model_module_version": "1.5.0",
            "_model_name": "DescriptionStyleModel",
            "_view_count": null,
            "_view_module": "@jupyter-widgets/base",
            "_view_module_version": "1.2.0",
            "_view_name": "StyleView",
            "description_width": ""
          }
        },
        "7d75c7e5ba824b4188fd7034d813afb1": {
          "model_module": "@jupyter-widgets/controls",
          "model_name": "HBoxModel",
          "model_module_version": "1.5.0",
          "state": {
            "_dom_classes": [],
            "_model_module": "@jupyter-widgets/controls",
            "_model_module_version": "1.5.0",
            "_model_name": "HBoxModel",
            "_view_count": null,
            "_view_module": "@jupyter-widgets/controls",
            "_view_module_version": "1.5.0",
            "_view_name": "HBoxView",
            "box_style": "",
            "children": [
              "IPY_MODEL_1bb0fb0b51d84a848b12a4184798bba0",
              "IPY_MODEL_035fadaa520e41239fc9f63a85cda9b2",
              "IPY_MODEL_1710626e5c8a4cdaa75634c7535966ab"
            ],
            "layout": "IPY_MODEL_cdd1822a7dd14bb2bd5790980cdb61e1"
          }
        },
        "1bb0fb0b51d84a848b12a4184798bba0": {
          "model_module": "@jupyter-widgets/controls",
          "model_name": "HTMLModel",
          "model_module_version": "1.5.0",
          "state": {
            "_dom_classes": [],
            "_model_module": "@jupyter-widgets/controls",
            "_model_module_version": "1.5.0",
            "_model_name": "HTMLModel",
            "_view_count": null,
            "_view_module": "@jupyter-widgets/controls",
            "_view_module_version": "1.5.0",
            "_view_name": "HTMLView",
            "description": "",
            "description_tooltip": null,
            "layout": "IPY_MODEL_8c6e5ba1b613435699110d5cf3417fae",
            "placeholder": "​",
            "style": "IPY_MODEL_b51e2ca2c0be493d8bf5a81b5d919239",
            "value": "Map: 100%"
          }
        },
        "035fadaa520e41239fc9f63a85cda9b2": {
          "model_module": "@jupyter-widgets/controls",
          "model_name": "FloatProgressModel",
          "model_module_version": "1.5.0",
          "state": {
            "_dom_classes": [],
            "_model_module": "@jupyter-widgets/controls",
            "_model_module_version": "1.5.0",
            "_model_name": "FloatProgressModel",
            "_view_count": null,
            "_view_module": "@jupyter-widgets/controls",
            "_view_module_version": "1.5.0",
            "_view_name": "ProgressView",
            "bar_style": "success",
            "description": "",
            "description_tooltip": null,
            "layout": "IPY_MODEL_531df19360034339a62ce3a300e5e363",
            "max": 3259,
            "min": 0,
            "orientation": "horizontal",
            "style": "IPY_MODEL_ac21e2cc2bf846dcb3b3b022a81e0f09",
            "value": 3259
          }
        },
        "1710626e5c8a4cdaa75634c7535966ab": {
          "model_module": "@jupyter-widgets/controls",
          "model_name": "HTMLModel",
          "model_module_version": "1.5.0",
          "state": {
            "_dom_classes": [],
            "_model_module": "@jupyter-widgets/controls",
            "_model_module_version": "1.5.0",
            "_model_name": "HTMLModel",
            "_view_count": null,
            "_view_module": "@jupyter-widgets/controls",
            "_view_module_version": "1.5.0",
            "_view_name": "HTMLView",
            "description": "",
            "description_tooltip": null,
            "layout": "IPY_MODEL_9a40dfb38b86482bb71a1d45edd5b65c",
            "placeholder": "​",
            "style": "IPY_MODEL_d0dd18055a614c11ae03c72691fecc22",
            "value": " 3259/3259 [00:00&lt;00:00, 10247.80 examples/s]"
          }
        },
        "cdd1822a7dd14bb2bd5790980cdb61e1": {
          "model_module": "@jupyter-widgets/base",
          "model_name": "LayoutModel",
          "model_module_version": "1.2.0",
          "state": {
            "_model_module": "@jupyter-widgets/base",
            "_model_module_version": "1.2.0",
            "_model_name": "LayoutModel",
            "_view_count": null,
            "_view_module": "@jupyter-widgets/base",
            "_view_module_version": "1.2.0",
            "_view_name": "LayoutView",
            "align_content": null,
            "align_items": null,
            "align_self": null,
            "border": null,
            "bottom": null,
            "display": null,
            "flex": null,
            "flex_flow": null,
            "grid_area": null,
            "grid_auto_columns": null,
            "grid_auto_flow": null,
            "grid_auto_rows": null,
            "grid_column": null,
            "grid_gap": null,
            "grid_row": null,
            "grid_template_areas": null,
            "grid_template_columns": null,
            "grid_template_rows": null,
            "height": null,
            "justify_content": null,
            "justify_items": null,
            "left": null,
            "margin": null,
            "max_height": null,
            "max_width": null,
            "min_height": null,
            "min_width": null,
            "object_fit": null,
            "object_position": null,
            "order": null,
            "overflow": null,
            "overflow_x": null,
            "overflow_y": null,
            "padding": null,
            "right": null,
            "top": null,
            "visibility": null,
            "width": null
          }
        },
        "8c6e5ba1b613435699110d5cf3417fae": {
          "model_module": "@jupyter-widgets/base",
          "model_name": "LayoutModel",
          "model_module_version": "1.2.0",
          "state": {
            "_model_module": "@jupyter-widgets/base",
            "_model_module_version": "1.2.0",
            "_model_name": "LayoutModel",
            "_view_count": null,
            "_view_module": "@jupyter-widgets/base",
            "_view_module_version": "1.2.0",
            "_view_name": "LayoutView",
            "align_content": null,
            "align_items": null,
            "align_self": null,
            "border": null,
            "bottom": null,
            "display": null,
            "flex": null,
            "flex_flow": null,
            "grid_area": null,
            "grid_auto_columns": null,
            "grid_auto_flow": null,
            "grid_auto_rows": null,
            "grid_column": null,
            "grid_gap": null,
            "grid_row": null,
            "grid_template_areas": null,
            "grid_template_columns": null,
            "grid_template_rows": null,
            "height": null,
            "justify_content": null,
            "justify_items": null,
            "left": null,
            "margin": null,
            "max_height": null,
            "max_width": null,
            "min_height": null,
            "min_width": null,
            "object_fit": null,
            "object_position": null,
            "order": null,
            "overflow": null,
            "overflow_x": null,
            "overflow_y": null,
            "padding": null,
            "right": null,
            "top": null,
            "visibility": null,
            "width": null
          }
        },
        "b51e2ca2c0be493d8bf5a81b5d919239": {
          "model_module": "@jupyter-widgets/controls",
          "model_name": "DescriptionStyleModel",
          "model_module_version": "1.5.0",
          "state": {
            "_model_module": "@jupyter-widgets/controls",
            "_model_module_version": "1.5.0",
            "_model_name": "DescriptionStyleModel",
            "_view_count": null,
            "_view_module": "@jupyter-widgets/base",
            "_view_module_version": "1.2.0",
            "_view_name": "StyleView",
            "description_width": ""
          }
        },
        "531df19360034339a62ce3a300e5e363": {
          "model_module": "@jupyter-widgets/base",
          "model_name": "LayoutModel",
          "model_module_version": "1.2.0",
          "state": {
            "_model_module": "@jupyter-widgets/base",
            "_model_module_version": "1.2.0",
            "_model_name": "LayoutModel",
            "_view_count": null,
            "_view_module": "@jupyter-widgets/base",
            "_view_module_version": "1.2.0",
            "_view_name": "LayoutView",
            "align_content": null,
            "align_items": null,
            "align_self": null,
            "border": null,
            "bottom": null,
            "display": null,
            "flex": null,
            "flex_flow": null,
            "grid_area": null,
            "grid_auto_columns": null,
            "grid_auto_flow": null,
            "grid_auto_rows": null,
            "grid_column": null,
            "grid_gap": null,
            "grid_row": null,
            "grid_template_areas": null,
            "grid_template_columns": null,
            "grid_template_rows": null,
            "height": null,
            "justify_content": null,
            "justify_items": null,
            "left": null,
            "margin": null,
            "max_height": null,
            "max_width": null,
            "min_height": null,
            "min_width": null,
            "object_fit": null,
            "object_position": null,
            "order": null,
            "overflow": null,
            "overflow_x": null,
            "overflow_y": null,
            "padding": null,
            "right": null,
            "top": null,
            "visibility": null,
            "width": null
          }
        },
        "ac21e2cc2bf846dcb3b3b022a81e0f09": {
          "model_module": "@jupyter-widgets/controls",
          "model_name": "ProgressStyleModel",
          "model_module_version": "1.5.0",
          "state": {
            "_model_module": "@jupyter-widgets/controls",
            "_model_module_version": "1.5.0",
            "_model_name": "ProgressStyleModel",
            "_view_count": null,
            "_view_module": "@jupyter-widgets/base",
            "_view_module_version": "1.2.0",
            "_view_name": "StyleView",
            "bar_color": null,
            "description_width": ""
          }
        },
        "9a40dfb38b86482bb71a1d45edd5b65c": {
          "model_module": "@jupyter-widgets/base",
          "model_name": "LayoutModel",
          "model_module_version": "1.2.0",
          "state": {
            "_model_module": "@jupyter-widgets/base",
            "_model_module_version": "1.2.0",
            "_model_name": "LayoutModel",
            "_view_count": null,
            "_view_module": "@jupyter-widgets/base",
            "_view_module_version": "1.2.0",
            "_view_name": "LayoutView",
            "align_content": null,
            "align_items": null,
            "align_self": null,
            "border": null,
            "bottom": null,
            "display": null,
            "flex": null,
            "flex_flow": null,
            "grid_area": null,
            "grid_auto_columns": null,
            "grid_auto_flow": null,
            "grid_auto_rows": null,
            "grid_column": null,
            "grid_gap": null,
            "grid_row": null,
            "grid_template_areas": null,
            "grid_template_columns": null,
            "grid_template_rows": null,
            "height": null,
            "justify_content": null,
            "justify_items": null,
            "left": null,
            "margin": null,
            "max_height": null,
            "max_width": null,
            "min_height": null,
            "min_width": null,
            "object_fit": null,
            "object_position": null,
            "order": null,
            "overflow": null,
            "overflow_x": null,
            "overflow_y": null,
            "padding": null,
            "right": null,
            "top": null,
            "visibility": null,
            "width": null
          }
        },
        "d0dd18055a614c11ae03c72691fecc22": {
          "model_module": "@jupyter-widgets/controls",
          "model_name": "DescriptionStyleModel",
          "model_module_version": "1.5.0",
          "state": {
            "_model_module": "@jupyter-widgets/controls",
            "_model_module_version": "1.5.0",
            "_model_name": "DescriptionStyleModel",
            "_view_count": null,
            "_view_module": "@jupyter-widgets/base",
            "_view_module_version": "1.2.0",
            "_view_name": "StyleView",
            "description_width": ""
          }
        },
        "7d94e32c23a5467cbe25294c12bde547": {
          "model_module": "@jupyter-widgets/controls",
          "model_name": "VBoxModel",
          "model_module_version": "1.5.0",
          "state": {
            "_dom_classes": [],
            "_model_module": "@jupyter-widgets/controls",
            "_model_module_version": "1.5.0",
            "_model_name": "VBoxModel",
            "_view_count": null,
            "_view_module": "@jupyter-widgets/controls",
            "_view_module_version": "1.5.0",
            "_view_name": "VBoxView",
            "box_style": "",
            "children": [
              "IPY_MODEL_7062477b31484b9c80d22439ec69d529",
              "IPY_MODEL_ce645de38ade4923baaab3fe57d9d063"
            ],
            "layout": "IPY_MODEL_29380ec936df42dd93f78d0c60b9fce6"
          }
        },
        "7062477b31484b9c80d22439ec69d529": {
          "model_module": "@jupyter-widgets/controls",
          "model_name": "LabelModel",
          "model_module_version": "1.5.0",
          "state": {
            "_dom_classes": [],
            "_model_module": "@jupyter-widgets/controls",
            "_model_module_version": "1.5.0",
            "_model_name": "LabelModel",
            "_view_count": null,
            "_view_module": "@jupyter-widgets/controls",
            "_view_module_version": "1.5.0",
            "_view_name": "LabelView",
            "description": "",
            "description_tooltip": null,
            "layout": "IPY_MODEL_0d2178571df74b9c8ba7253fe1d8c3c6",
            "placeholder": "​",
            "style": "IPY_MODEL_302fbe5fbaf44582a096b4f7f6fbe818",
            "value": "0.070 MB of 0.070 MB uploaded\r"
          }
        },
        "ce645de38ade4923baaab3fe57d9d063": {
          "model_module": "@jupyter-widgets/controls",
          "model_name": "FloatProgressModel",
          "model_module_version": "1.5.0",
          "state": {
            "_dom_classes": [],
            "_model_module": "@jupyter-widgets/controls",
            "_model_module_version": "1.5.0",
            "_model_name": "FloatProgressModel",
            "_view_count": null,
            "_view_module": "@jupyter-widgets/controls",
            "_view_module_version": "1.5.0",
            "_view_name": "ProgressView",
            "bar_style": "",
            "description": "",
            "description_tooltip": null,
            "layout": "IPY_MODEL_3bac0f4e94d44b97ab88f396ce9be890",
            "max": 1,
            "min": 0,
            "orientation": "horizontal",
            "style": "IPY_MODEL_4b17c22d78584c09b2394eb1eea19b4a",
            "value": 1
          }
        },
        "29380ec936df42dd93f78d0c60b9fce6": {
          "model_module": "@jupyter-widgets/base",
          "model_name": "LayoutModel",
          "model_module_version": "1.2.0",
          "state": {
            "_model_module": "@jupyter-widgets/base",
            "_model_module_version": "1.2.0",
            "_model_name": "LayoutModel",
            "_view_count": null,
            "_view_module": "@jupyter-widgets/base",
            "_view_module_version": "1.2.0",
            "_view_name": "LayoutView",
            "align_content": null,
            "align_items": null,
            "align_self": null,
            "border": null,
            "bottom": null,
            "display": null,
            "flex": null,
            "flex_flow": null,
            "grid_area": null,
            "grid_auto_columns": null,
            "grid_auto_flow": null,
            "grid_auto_rows": null,
            "grid_column": null,
            "grid_gap": null,
            "grid_row": null,
            "grid_template_areas": null,
            "grid_template_columns": null,
            "grid_template_rows": null,
            "height": null,
            "justify_content": null,
            "justify_items": null,
            "left": null,
            "margin": null,
            "max_height": null,
            "max_width": null,
            "min_height": null,
            "min_width": null,
            "object_fit": null,
            "object_position": null,
            "order": null,
            "overflow": null,
            "overflow_x": null,
            "overflow_y": null,
            "padding": null,
            "right": null,
            "top": null,
            "visibility": null,
            "width": null
          }
        },
        "0d2178571df74b9c8ba7253fe1d8c3c6": {
          "model_module": "@jupyter-widgets/base",
          "model_name": "LayoutModel",
          "model_module_version": "1.2.0",
          "state": {
            "_model_module": "@jupyter-widgets/base",
            "_model_module_version": "1.2.0",
            "_model_name": "LayoutModel",
            "_view_count": null,
            "_view_module": "@jupyter-widgets/base",
            "_view_module_version": "1.2.0",
            "_view_name": "LayoutView",
            "align_content": null,
            "align_items": null,
            "align_self": null,
            "border": null,
            "bottom": null,
            "display": null,
            "flex": null,
            "flex_flow": null,
            "grid_area": null,
            "grid_auto_columns": null,
            "grid_auto_flow": null,
            "grid_auto_rows": null,
            "grid_column": null,
            "grid_gap": null,
            "grid_row": null,
            "grid_template_areas": null,
            "grid_template_columns": null,
            "grid_template_rows": null,
            "height": null,
            "justify_content": null,
            "justify_items": null,
            "left": null,
            "margin": null,
            "max_height": null,
            "max_width": null,
            "min_height": null,
            "min_width": null,
            "object_fit": null,
            "object_position": null,
            "order": null,
            "overflow": null,
            "overflow_x": null,
            "overflow_y": null,
            "padding": null,
            "right": null,
            "top": null,
            "visibility": null,
            "width": null
          }
        },
        "302fbe5fbaf44582a096b4f7f6fbe818": {
          "model_module": "@jupyter-widgets/controls",
          "model_name": "DescriptionStyleModel",
          "model_module_version": "1.5.0",
          "state": {
            "_model_module": "@jupyter-widgets/controls",
            "_model_module_version": "1.5.0",
            "_model_name": "DescriptionStyleModel",
            "_view_count": null,
            "_view_module": "@jupyter-widgets/base",
            "_view_module_version": "1.2.0",
            "_view_name": "StyleView",
            "description_width": ""
          }
        },
        "3bac0f4e94d44b97ab88f396ce9be890": {
          "model_module": "@jupyter-widgets/base",
          "model_name": "LayoutModel",
          "model_module_version": "1.2.0",
          "state": {
            "_model_module": "@jupyter-widgets/base",
            "_model_module_version": "1.2.0",
            "_model_name": "LayoutModel",
            "_view_count": null,
            "_view_module": "@jupyter-widgets/base",
            "_view_module_version": "1.2.0",
            "_view_name": "LayoutView",
            "align_content": null,
            "align_items": null,
            "align_self": null,
            "border": null,
            "bottom": null,
            "display": null,
            "flex": null,
            "flex_flow": null,
            "grid_area": null,
            "grid_auto_columns": null,
            "grid_auto_flow": null,
            "grid_auto_rows": null,
            "grid_column": null,
            "grid_gap": null,
            "grid_row": null,
            "grid_template_areas": null,
            "grid_template_columns": null,
            "grid_template_rows": null,
            "height": null,
            "justify_content": null,
            "justify_items": null,
            "left": null,
            "margin": null,
            "max_height": null,
            "max_width": null,
            "min_height": null,
            "min_width": null,
            "object_fit": null,
            "object_position": null,
            "order": null,
            "overflow": null,
            "overflow_x": null,
            "overflow_y": null,
            "padding": null,
            "right": null,
            "top": null,
            "visibility": null,
            "width": null
          }
        },
        "4b17c22d78584c09b2394eb1eea19b4a": {
          "model_module": "@jupyter-widgets/controls",
          "model_name": "ProgressStyleModel",
          "model_module_version": "1.5.0",
          "state": {
            "_model_module": "@jupyter-widgets/controls",
            "_model_module_version": "1.5.0",
            "_model_name": "ProgressStyleModel",
            "_view_count": null,
            "_view_module": "@jupyter-widgets/base",
            "_view_module_version": "1.2.0",
            "_view_name": "StyleView",
            "bar_color": null,
            "description_width": ""
          }
        }
      }
    }
  },
  "nbformat": 4,
  "nbformat_minor": 0
}